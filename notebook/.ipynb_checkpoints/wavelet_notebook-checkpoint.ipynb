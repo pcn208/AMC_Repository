{
 "cells": [
  {
   "cell_type": "code",
   "execution_count": 1,
   "id": "8e9d3b11",
   "metadata": {},
   "outputs": [],
   "source": [
    "import numpy as np\n",
    "import pandas as pd\n",
    "import h5py\n",
    "import json\n",
    "import matplotlib.pyplot as plt\n",
    "import torch\n",
    "import torch.nn as nn\n",
    "import torch.optim as optim\n",
    "from torch.utils.data import Dataset, DataLoader\n",
    "from torch.cuda.amp import GradScaler, autocast\n",
    "from torchinfo import summary\n",
    "from typing import Tuple, Optional\n",
    "import os \n",
    "import torch.utils.checkpoint as checkpoint\n",
    "from sklearn.metrics import confusion_matrix, classification_report\n",
    "from tqdm import tqdm, trange\n",
    "import seaborn as sns\n",
    "import gc\n",
    "import pywt \n",
    "import time \n",
    "import time\n",
    "import warnings\n",
    "from collections import deque\n",
    "import psutil\n",
    "import os\n",
    "import warnings\n",
    "import math \n",
    "warnings.filterwarnings('ignore')"
   ]
  },
  {
   "cell_type": "code",
   "execution_count": 2,
   "id": "f531f612",
   "metadata": {},
   "outputs": [
    {
     "name": "stdout",
     "output_type": "stream",
     "text": [
      "cuda\n"
     ]
    }
   ],
   "source": [
    "device = torch.device(\"cuda\" if torch.cuda.is_available() else \"cpu\")\n",
    "print(device)"
   ]
  },
  {
   "cell_type": "code",
   "execution_count": 3,
   "id": "7168cae5",
   "metadata": {},
   "outputs": [
    {
     "name": "stdout",
     "output_type": "stream",
     "text": [
      "🎯 CWT Preprocessing Setup:\n",
      "   Modulations: ['8PSK', '16QAM']\n",
      "   SNR levels: [-6, 6, 18]\n",
      "   Wavelet: cmor1.5-1.0\n",
      "   Scales: 64\n",
      "   Output size: 32x32\n",
      "   Output directory: ./focused_cwt_experiment\n"
     ]
    }
   ],
   "source": [
    "FILE_PATH = \"C:\\\\workarea\\\\CNN model\\\\dataset\\\\radioml2018\\\\versions\\\\2\\\\GOLD_XYZ_OSC.0001_1024.hdf5\"\n",
    "JSON_PATH = 'C:\\\\workarea\\\\CNN model\\\\dataset\\\\radioml2018\\\\versions\\\\2\\\\classes-fixed.json' \n",
    "\n",
    "# Focused experiment setup\n",
    "TARGET_MODULATIONS = ['8PSK', '16QAM']  # Only 2 modulations\n",
    "TARGET_SNRS = [-6, 6, 18]  # Low, Medium, High SNR\n",
    "\n",
    "# Processing settings\n",
    "OUTPUT_DIR = './focused_cwt_experiment'\n",
    "TRAIN_RATIO = 0.8\n",
    "VALID_RATIO = 0.2\n",
    "\n",
    "patience = 15 \n",
    "\n",
    "# CWT settings\n",
    "WAVELET_NAME = 'cmor1.5-1.0'  # Complex Morlet wavelet\n",
    "NUM_SCALES = 64              # Number of wavelet scales\n",
    "TARGET_SIZE = 32             # Output image size (32x32)\n",
    "\n",
    "print(f\"🎯 CWT Preprocessing Setup:\")\n",
    "print(f\"   Modulations: {TARGET_MODULATIONS}\")\n",
    "print(f\"   SNR levels: {TARGET_SNRS}\")\n",
    "print(f\"   Wavelet: {WAVELET_NAME}\")\n",
    "print(f\"   Scales: {NUM_SCALES}\")\n",
    "print(f\"   Output size: {TARGET_SIZE}x{TARGET_SIZE}\")\n",
    "print(f\"   Output directory: {OUTPUT_DIR}\")"
   ]
  },
  {
   "cell_type": "markdown",
   "id": "f2f0280d",
   "metadata": {},
   "source": [
    "### *DATA LOADING*"
   ]
  },
  {
   "cell_type": "code",
   "execution_count": 4,
   "id": "70434eab",
   "metadata": {},
   "outputs": [],
   "source": [
    "def load_and_filter_data():\n",
    "    \"\"\"Load RadioML data and filter for target modulations and SNRs.\"\"\"\n",
    "    \n",
    "    print(\"📂 Loading and filtering RadioML data...\")\n",
    "    \n",
    "    # Load files\n",
    "    h5_file = h5py.File(FILE_PATH, 'r')\n",
    "    with open(JSON_PATH, 'r') as f:\n",
    "        modulation_classes = json.load(f)\n",
    "    \n",
    "    # Load arrays\n",
    "    X = h5_file['X']  # Shape: (samples, 1024, 2)\n",
    "    Y = np.argmax(h5_file['Y'], axis=1)  # Labels\n",
    "    Z = h5_file['Z'][:, 0]  # SNRs\n",
    "    \n",
    "    print(f\"   Original dataset: {X.shape[0]} samples\")\n",
    "    \n",
    "    # Get target modulation indices\n",
    "    target_mod_indices = [modulation_classes.index(mod) for mod in TARGET_MODULATIONS]\n",
    "    print(f\"   Target modulation indices: {dict(zip(TARGET_MODULATIONS, target_mod_indices))}\")\n",
    "    \n",
    "    # Filter for target modulations and SNRs\n",
    "    mask = np.zeros(len(Y), dtype=bool)\n",
    "    sample_counts = {}\n",
    "    \n",
    "    for mod_idx in target_mod_indices:\n",
    "        for snr in TARGET_SNRS:\n",
    "            condition = (Y == mod_idx) & (Z == snr)\n",
    "            mask |= condition\n",
    "            count = np.sum(condition)\n",
    "            mod_name = TARGET_MODULATIONS[target_mod_indices.index(mod_idx)]\n",
    "            sample_counts[f\"{mod_name}_{snr}dB\"] = count\n",
    "            print(f\"   {mod_name} at {snr}dB: {count} samples\")\n",
    "    \n",
    "    # Apply filter\n",
    "    X_filtered = X[mask]\n",
    "    Y_filtered = Y[mask]\n",
    "    Z_filtered = Z[mask]\n",
    "    \n",
    "    # Remap labels to 0, 1 (8PSK=0, 16QAM=1)\n",
    "    label_mapping = {}\n",
    "    for new_label, old_label in enumerate(target_mod_indices):\n",
    "        Y_filtered[Y_filtered == old_label] = new_label\n",
    "        label_mapping[old_label] = new_label\n",
    "    \n",
    "    print(f\"✅ Filtered dataset: {X_filtered.shape[0]} samples\")\n",
    "    print(f\"   Label mapping: {label_mapping}\")\n",
    "    \n",
    "    h5_file.close()\n",
    "    return X_filtered, Y_filtered, Z_filtered, label_mapping, sample_counts"
   ]
  },
  {
   "cell_type": "markdown",
   "id": "3d8ef41d",
   "metadata": {},
   "source": [
    "### *CWT FEATURE EXTRACTION METHODS*"
   ]
  },
  {
   "cell_type": "code",
   "execution_count": 5,
   "id": "6c00085e",
   "metadata": {},
   "outputs": [],
   "source": [
    "def apply_cwt_transform(i_signal, q_signal, scales, wavelet_name):\n",
    "    \"\"\"\n",
    "    Apply complex wavelet transform to I/Q signals.\n",
    "    \n",
    "    Args:\n",
    "        i_signal: In-phase component\n",
    "        q_signal: Quadrature component  \n",
    "        scales: Wavelet scales array\n",
    "        wavelet_name: Wavelet type (e.g., 'cmor1.5-1.0')\n",
    "        \n",
    "    Returns:\n",
    "        magnitude_2d: 32x32 magnitude spectrogram\n",
    "        phase_2d: 32x32 phase spectrogram\n",
    "    \"\"\"\n",
    "    \n",
    "    # Combine I/Q into complex signal\n",
    "    complex_signal = i_signal + 1j * q_signal\n",
    "    \n",
    "    # Apply complex wavelet transform\n",
    "    coefficients, frequencies = pywt.cwt(complex_signal, scales, wavelet_name)\n",
    "    \n",
    "    # Extract magnitude and phase\n",
    "    magnitude = np.abs(coefficients)\n",
    "    phase = np.angle(coefficients)\n",
    "    \n",
    "    # Reshape to target dimensions (32x32)\n",
    "    magnitude_2d = reshape_to_32x32(magnitude)\n",
    "    phase_2d = reshape_to_32x32(phase)\n",
    "    \n",
    "    return magnitude_2d.astype(np.float32), phase_2d.astype(np.float32)\n",
    "\n",
    "def reshape_to_32x32(coeffs):\n",
    "    \"\"\"\n",
    "    Reshape wavelet coefficients to exactly 32x32.\n",
    "    \n",
    "    Args:\n",
    "        coeffs: 2D array of shape (num_scales, signal_length)\n",
    "        \n",
    "    Returns:\n",
    "        resized: 32x32 array\n",
    "    \"\"\"\n",
    "    h, w = coeffs.shape\n",
    "    \n",
    "    # Calculate downsampling indices\n",
    "    h_indices = np.linspace(0, h-1, TARGET_SIZE).astype(int)\n",
    "    w_indices = np.linspace(0, w-1, TARGET_SIZE).astype(int)\n",
    "    \n",
    "    # Use advanced indexing for efficient downsampling\n",
    "    resized = coeffs[np.ix_(h_indices, w_indices)]\n",
    "    \n",
    "    # Ensure exactly TARGET_SIZE x TARGET_SIZE\n",
    "    if resized.shape != (TARGET_SIZE, TARGET_SIZE):\n",
    "        # Final resize if needed\n",
    "        result = np.zeros((TARGET_SIZE, TARGET_SIZE), dtype=coeffs.dtype)\n",
    "        min_h = min(TARGET_SIZE, resized.shape[0])\n",
    "        min_w = min(TARGET_SIZE, resized.shape[1])\n",
    "        result[:min_h, :min_w] = resized[:min_h, :min_w]\n",
    "        return result\n",
    "    \n",
    "    return resized"
   ]
  },
  {
   "cell_type": "markdown",
   "id": "1013965b",
   "metadata": {},
   "source": [
    "### *PROCESSING PIPELINE*"
   ]
  },
  {
   "cell_type": "code",
   "execution_count": 6,
   "id": "1f09395e",
   "metadata": {},
   "outputs": [],
   "source": [
    "def preprocess_cwt_dataset():\n",
    "    \"\"\"Main CWT preprocessing pipeline.\"\"\"\n",
    "    \n",
    "    # Create output directory\n",
    "    os.makedirs(OUTPUT_DIR, exist_ok=True)\n",
    "    \n",
    "    # Load and filter data\n",
    "    X_filtered, Y_filtered, Z_filtered, label_mapping, sample_counts = load_and_filter_data()\n",
    "    \n",
    "    total_samples = len(X_filtered)\n",
    "    print(f\"\\n🌊 Starting CWT processing for {total_samples} samples...\")\n",
    "    \n",
    "    # Setup wavelet scales\n",
    "    signal_length = X_filtered.shape[1]  # Should be 1024\n",
    "    scales = np.logspace(0, np.log10(signal_length//4), NUM_SCALES)\n",
    "    \n",
    "    print(f\"   Signal length: {signal_length}\")\n",
    "    print(f\"   Scales range: {scales[0]:.1f} to {scales[-1]:.1f}\")\n",
    "    print(f\"   Expected time: ~{total_samples * 0.5 / 3600:.1f} hours\")\n",
    "    \n",
    "    # Process all samples\n",
    "    start_time = time.time()\n",
    "    \n",
    "    magnitude_list = []\n",
    "    phase_list = []\n",
    "    labels_list = []\n",
    "    snrs_list = []\n",
    "    \n",
    "    for i in tqdm(range(total_samples), desc=\"CWT Processing\", unit=\"samples\"):\n",
    "        # Extract I/Q signals\n",
    "        i_signal = X_filtered[i, :, 0]\n",
    "        q_signal = X_filtered[i, :, 1]\n",
    "        \n",
    "        # Apply CWT transform\n",
    "        magnitude_2d, phase_2d = apply_cwt_transform(i_signal, q_signal, scales, WAVELET_NAME)\n",
    "        \n",
    "        # Store results\n",
    "        magnitude_list.append(magnitude_2d)\n",
    "        phase_list.append(phase_2d)\n",
    "        labels_list.append(Y_filtered[i])\n",
    "        snrs_list.append(Z_filtered[i])\n",
    "        \n",
    "        # Progress update every 1000 samples\n",
    "        if (i + 1) % 1000 == 0:\n",
    "            elapsed = time.time() - start_time\n",
    "            rate = (i + 1) / elapsed\n",
    "            eta = (total_samples - i - 1) / rate if rate > 0 else 0\n",
    "            print(f\"   Processed {i+1}/{total_samples} samples ({rate:.1f} samples/s, ETA: {eta/3600:.1f}h)\")\n",
    "    \n",
    "    # Convert to numpy arrays\n",
    "    magnitudes = np.array(magnitude_list)\n",
    "    phases = np.array(phase_list)\n",
    "    labels = np.array(labels_list)\n",
    "    snrs = np.array(snrs_list)\n",
    "    \n",
    "    processing_time = time.time() - start_time\n",
    "    print(f\"✅ CWT processing complete!\")\n",
    "    print(f\"   Total time: {processing_time/60:.1f} minutes\")\n",
    "    print(f\"   Average speed: {total_samples/processing_time:.1f} samples/second\")\n",
    "    print(f\"   Output shapes: magnitude={magnitudes.shape}, phase={phases.shape}\")\n",
    "    \n",
    "    # Create train/valid splits and save\n",
    "    create_splits_and_save(magnitudes, phases, labels, snrs, sample_counts)\n",
    "    \n",
    "    return magnitudes, phases, labels, snrs\n",
    "\n",
    "def create_splits_and_save(magnitudes, phases, labels, snrs, sample_counts):\n",
    "    \"\"\"Create stratified splits and save to HDF5 files.\"\"\"\n",
    "    \n",
    "    print(f\"\\n📊 Creating stratified train/validation splits...\")\n",
    "    \n",
    "    # Stratified split to maintain modulation/SNR balance\n",
    "    train_indices = []\n",
    "    valid_indices = []\n",
    "    \n",
    "    # Split by modulation and SNR combination\n",
    "    for mod_label in [0, 1]:  # 8PSK=0, 16QAM=1\n",
    "        for snr in TARGET_SNRS:\n",
    "            # Find samples for this combination\n",
    "            mask = (labels == mod_label) & (snrs == snr)\n",
    "            indices = np.where(mask)[0]\n",
    "            \n",
    "            # Shuffle and split\n",
    "            np.random.shuffle(indices)\n",
    "            split_point = int(TRAIN_RATIO * len(indices))\n",
    "            \n",
    "            train_indices.extend(indices[:split_point])\n",
    "            valid_indices.extend(indices[split_point:])\n",
    "            \n",
    "            mod_name = TARGET_MODULATIONS[mod_label]\n",
    "            print(f\"   {mod_name} @ {snr}dB: {split_point} train, {len(indices)-split_point} valid\")\n",
    "    \n",
    "    train_indices = np.array(train_indices)\n",
    "    valid_indices = np.array(valid_indices)\n",
    "    \n",
    "    print(f\"✅ Split created:\")\n",
    "    print(f\"   Train samples: {len(train_indices)}\")\n",
    "    print(f\"   Valid samples: {len(valid_indices)}\")\n",
    "    \n",
    "    # Save splits\n",
    "    save_split('train', train_indices, magnitudes, phases, labels, snrs)\n",
    "    save_split('valid', valid_indices, magnitudes, phases, labels, snrs)\n",
    "\n",
    "def save_split(split_name, indices, magnitudes, phases, labels, snrs):\n",
    "    \"\"\"Save a data split to HDF5 file.\"\"\"\n",
    "    \n",
    "    output_file = os.path.join(OUTPUT_DIR, f'{split_name}_cwt.h5')\n",
    "    print(f\"💾 Saving {split_name} split to {output_file}...\")\n",
    "    \n",
    "    with h5py.File(output_file, 'w') as f:\n",
    "        # Save data arrays\n",
    "        f.create_dataset('magnitudes', data=magnitudes[indices], compression='gzip', compression_opts=6)\n",
    "        f.create_dataset('phases', data=phases[indices], compression='gzip', compression_opts=6)\n",
    "        f.create_dataset('labels', data=labels[indices])\n",
    "        f.create_dataset('snrs', data=snrs[indices])\n",
    "        \n",
    "        # Save metadata\n",
    "        f.attrs['num_samples'] = len(indices)\n",
    "        f.attrs['num_classes'] = 2\n",
    "        f.attrs['wavelet_name'] = WAVELET_NAME\n",
    "        f.attrs['num_scales'] = NUM_SCALES\n",
    "        f.attrs['target_size'] = TARGET_SIZE\n",
    "        f.attrs['modulations'] = [mod.encode('utf-8') for mod in TARGET_MODULATIONS]\n",
    "        f.attrs['target_snrs'] = TARGET_SNRS\n",
    "        f.attrs['split'] = split_name\n",
    "    \n",
    "    file_size = os.path.getsize(output_file) / (1024**2)  # MB\n",
    "    print(f\"   File size: {file_size:.1f} MB\")"
   ]
  },
  {
   "cell_type": "code",
   "execution_count": 7,
   "id": "4f55721b",
   "metadata": {},
   "outputs": [],
   "source": [
    "def visualize_cwt_samples():\n",
    "    \"\"\"Visualize CWT samples - ensure both modulations are shown.\"\"\"\n",
    "    \n",
    "    print(f\"\\n🔍 Visualizing CWT samples...\")\n",
    "    \n",
    "    train_file = os.path.join(OUTPUT_DIR, 'train_cwt.h5')\n",
    "    \n",
    "    with h5py.File(train_file, 'r') as f:\n",
    "        magnitudes = f['magnitudes'][:]\n",
    "        phases = f['phases'][:]\n",
    "        labels = f['labels'][:]\n",
    "        snrs = f['snrs'][:]\n",
    "    \n",
    "    # Sample 3 from each modulation (8PSK and 16QAM)\n",
    "    samples_to_show = []\n",
    "    \n",
    "    # Get 3 samples of 8PSK (label=0)\n",
    "    psk_indices = np.where(labels == 0)[0][:3]\n",
    "    samples_to_show.extend(psk_indices)\n",
    "    \n",
    "    # Get 3 samples of 16QAM (label=1)\n",
    "    qam_indices = np.where(labels == 1)[0][:3]\n",
    "    samples_to_show.extend(qam_indices)\n",
    "    \n",
    "    # Create visualization\n",
    "    fig, axes = plt.subplots(2, 6, figsize=(18, 6))\n",
    "    \n",
    "    for i, sample_idx in enumerate(samples_to_show):\n",
    "        mod_name = TARGET_MODULATIONS[labels[sample_idx]]\n",
    "        snr = snrs[sample_idx]\n",
    "        \n",
    "        # Magnitude spectrogram\n",
    "        axes[0, i].imshow(magnitudes[sample_idx], aspect='auto', cmap='viridis')\n",
    "        axes[0, i].set_title(f'Magnitude\\n{mod_name} ({snr:.0f}dB)')\n",
    "        \n",
    "        # Phase spectrogram\n",
    "        axes[1, i].imshow(phases[sample_idx], aspect='auto', cmap='hsv')\n",
    "        axes[1, i].set_title(f'Phase\\n{mod_name} ({snr:.0f}dB)')\n",
    "    \n",
    "    plt.tight_layout()\n",
    "    plt.show()\n",
    "    \n",
    "    print(f\"✅ Showing 3 samples each of 8PSK and 16QAM\")\n",
    "\n",
    "def print_final_summary():\n",
    "    \"\"\"Print final preprocessing summary.\"\"\"\n",
    "    \n",
    "    print(f\"\\n📋 CWT Preprocessing Summary:\")\n",
    "    print(f\"   Method: Complex Wavelet Transform\")\n",
    "    print(f\"   Wavelet: {WAVELET_NAME}\")\n",
    "    print(f\"   Scales: {NUM_SCALES}\")\n",
    "    print(f\"   Output size: {TARGET_SIZE}×{TARGET_SIZE}\")\n",
    "    print(f\"   Modulations: {TARGET_MODULATIONS}\")\n",
    "    print(f\"   SNR levels: {TARGET_SNRS}\")\n",
    "    \n",
    "    # Check file sizes\n",
    "    for split in ['train', 'valid']:\n",
    "        file_path = os.path.join(OUTPUT_DIR, f'{split}_cwt.h5')\n",
    "        if os.path.exists(file_path):\n",
    "            with h5py.File(file_path, 'r') as f:\n",
    "                num_samples = f.attrs['num_samples']\n",
    "                file_size = os.path.getsize(file_path) / (1024**2)\n",
    "                \n",
    "                print(f\"\\n   {split.capitalize()} dataset:\")\n",
    "                print(f\"     Samples: {num_samples}\")\n",
    "                print(f\"     File size: {file_size:.1f} MB\")\n",
    "                \n",
    "                # Class distribution\n",
    "                labels = f['labels'][:]\n",
    "                snrs = f['snrs'][:]\n",
    "                \n",
    "                for mod_idx, mod_name in enumerate(TARGET_MODULATIONS):\n",
    "                    for snr in TARGET_SNRS:\n",
    "                        count = np.sum((labels == mod_idx) & (snrs == snr))\n",
    "                        print(f\"     {mod_name} @ {snr}dB: {count} samples\")\n",
    "    \n",
    "    print(f\"\\n✅ Ready for training!\")\n",
    "    print(f\"   Use files: {OUTPUT_DIR}/train_cwt.h5 and {OUTPUT_DIR}/valid_cwt.h5\")"
   ]
  },
  {
   "cell_type": "code",
   "execution_count": 8,
   "id": "c858df42",
   "metadata": {},
   "outputs": [
    {
     "name": "stdout",
     "output_type": "stream",
     "text": [
      "📂 Loading and filtering RadioML data...\n",
      "   Original dataset: 2555904 samples\n",
      "   Target modulation indices: {'8PSK': 5, '16QAM': 12}\n",
      "   8PSK at -6dB: 4096 samples\n",
      "   8PSK at 6dB: 4096 samples\n",
      "   8PSK at 18dB: 4096 samples\n",
      "   16QAM at -6dB: 4096 samples\n",
      "   16QAM at 6dB: 4096 samples\n",
      "   16QAM at 18dB: 4096 samples\n",
      "✅ Filtered dataset: 24576 samples\n",
      "   Label mapping: {5: 0, 12: 1}\n",
      "\n",
      "🌊 Starting CWT processing for 24576 samples...\n",
      "   Signal length: 1024\n",
      "   Scales range: 1.0 to 256.0\n",
      "   Expected time: ~3.4 hours\n"
     ]
    },
    {
     "name": "stderr",
     "output_type": "stream",
     "text": [
      "CWT Processing:   4%|██▎                                                    | 1014/24576 [00:08<03:20, 117.66samples/s]"
     ]
    },
    {
     "name": "stdout",
     "output_type": "stream",
     "text": [
      "   Processed 1000/24576 samples (115.4 samples/s, ETA: 0.1h)\n"
     ]
    },
    {
     "name": "stderr",
     "output_type": "stream",
     "text": [
      "CWT Processing:   8%|████▌                                                  | 2017/24576 [00:17<03:22, 111.64samples/s]"
     ]
    },
    {
     "name": "stdout",
     "output_type": "stream",
     "text": [
      "   Processed 2000/24576 samples (118.2 samples/s, ETA: 0.1h)\n"
     ]
    },
    {
     "name": "stderr",
     "output_type": "stream",
     "text": [
      "CWT Processing:  12%|██████▋                                                | 3010/24576 [00:24<02:39, 135.39samples/s]"
     ]
    },
    {
     "name": "stdout",
     "output_type": "stream",
     "text": [
      "   Processed 3000/24576 samples (124.0 samples/s, ETA: 0.0h)\n"
     ]
    },
    {
     "name": "stderr",
     "output_type": "stream",
     "text": [
      "CWT Processing:  16%|████████▉                                              | 4014/24576 [00:31<02:19, 146.88samples/s]"
     ]
    },
    {
     "name": "stdout",
     "output_type": "stream",
     "text": [
      "   Processed 4000/24576 samples (127.7 samples/s, ETA: 0.0h)\n"
     ]
    },
    {
     "name": "stderr",
     "output_type": "stream",
     "text": [
      "CWT Processing:  20%|███████████▎                                           | 5029/24576 [00:38<02:24, 135.60samples/s]"
     ]
    },
    {
     "name": "stdout",
     "output_type": "stream",
     "text": [
      "   Processed 5000/24576 samples (129.9 samples/s, ETA: 0.0h)\n"
     ]
    },
    {
     "name": "stderr",
     "output_type": "stream",
     "text": [
      "CWT Processing:  24%|█████████████▍                                         | 6019/24576 [00:46<02:08, 144.93samples/s]"
     ]
    },
    {
     "name": "stdout",
     "output_type": "stream",
     "text": [
      "   Processed 6000/24576 samples (130.4 samples/s, ETA: 0.0h)\n"
     ]
    },
    {
     "name": "stderr",
     "output_type": "stream",
     "text": [
      "CWT Processing:  29%|███████████████▋                                       | 7021/24576 [00:53<02:12, 132.17samples/s]"
     ]
    },
    {
     "name": "stdout",
     "output_type": "stream",
     "text": [
      "   Processed 7000/24576 samples (131.7 samples/s, ETA: 0.0h)\n"
     ]
    },
    {
     "name": "stderr",
     "output_type": "stream",
     "text": [
      "CWT Processing:  33%|█████████████████▉                                     | 8030/24576 [01:00<01:52, 147.05samples/s]"
     ]
    },
    {
     "name": "stdout",
     "output_type": "stream",
     "text": [
      "   Processed 8000/24576 samples (132.3 samples/s, ETA: 0.0h)\n"
     ]
    },
    {
     "name": "stderr",
     "output_type": "stream",
     "text": [
      "CWT Processing:  37%|████████████████████▏                                  | 9016/24576 [01:07<01:44, 148.68samples/s]"
     ]
    },
    {
     "name": "stdout",
     "output_type": "stream",
     "text": [
      "   Processed 9000/24576 samples (132.7 samples/s, ETA: 0.0h)\n"
     ]
    },
    {
     "name": "stderr",
     "output_type": "stream",
     "text": [
      "CWT Processing:  41%|██████████████████████                                | 10013/24576 [01:15<01:56, 125.46samples/s]"
     ]
    },
    {
     "name": "stdout",
     "output_type": "stream",
     "text": [
      "   Processed 10000/24576 samples (133.0 samples/s, ETA: 0.0h)\n"
     ]
    },
    {
     "name": "stderr",
     "output_type": "stream",
     "text": [
      "CWT Processing:  45%|████████████████████████▏                             | 11019/24576 [01:22<01:32, 146.30samples/s]"
     ]
    },
    {
     "name": "stdout",
     "output_type": "stream",
     "text": [
      "   Processed 11000/24576 samples (133.8 samples/s, ETA: 0.0h)\n"
     ]
    },
    {
     "name": "stderr",
     "output_type": "stream",
     "text": [
      "CWT Processing:  49%|██████████████████████████▍                           | 12014/24576 [01:29<01:23, 150.59samples/s]"
     ]
    },
    {
     "name": "stdout",
     "output_type": "stream",
     "text": [
      "   Processed 12000/24576 samples (134.1 samples/s, ETA: 0.0h)\n"
     ]
    },
    {
     "name": "stderr",
     "output_type": "stream",
     "text": [
      "CWT Processing:  53%|████████████████████████████▌                         | 13025/24576 [01:36<01:20, 143.87samples/s]"
     ]
    },
    {
     "name": "stdout",
     "output_type": "stream",
     "text": [
      "   Processed 13000/24576 samples (134.8 samples/s, ETA: 0.0h)\n"
     ]
    },
    {
     "name": "stderr",
     "output_type": "stream",
     "text": [
      "CWT Processing:  57%|██████████████████████████████▊                       | 14013/24576 [01:43<01:14, 142.73samples/s]"
     ]
    },
    {
     "name": "stdout",
     "output_type": "stream",
     "text": [
      "   Processed 14000/24576 samples (134.9 samples/s, ETA: 0.0h)\n"
     ]
    },
    {
     "name": "stderr",
     "output_type": "stream",
     "text": [
      "CWT Processing:  61%|█████████████████████████████████                     | 15023/24576 [01:50<01:05, 146.37samples/s]"
     ]
    },
    {
     "name": "stdout",
     "output_type": "stream",
     "text": [
      "   Processed 15000/24576 samples (135.4 samples/s, ETA: 0.0h)\n"
     ]
    },
    {
     "name": "stderr",
     "output_type": "stream",
     "text": [
      "CWT Processing:  65%|███████████████████████████████████▏                  | 16023/24576 [01:57<00:57, 148.89samples/s]"
     ]
    },
    {
     "name": "stdout",
     "output_type": "stream",
     "text": [
      "   Processed 16000/24576 samples (135.9 samples/s, ETA: 0.0h)\n"
     ]
    },
    {
     "name": "stderr",
     "output_type": "stream",
     "text": [
      "CWT Processing:  69%|█████████████████████████████████████▍                | 17010/24576 [02:04<00:50, 149.28samples/s]"
     ]
    },
    {
     "name": "stdout",
     "output_type": "stream",
     "text": [
      "   Processed 17000/24576 samples (136.3 samples/s, ETA: 0.0h)\n"
     ]
    },
    {
     "name": "stderr",
     "output_type": "stream",
     "text": [
      "CWT Processing:  73%|███████████████████████████████████████▌              | 18027/24576 [02:11<00:45, 142.72samples/s]"
     ]
    },
    {
     "name": "stdout",
     "output_type": "stream",
     "text": [
      "   Processed 18000/24576 samples (136.9 samples/s, ETA: 0.0h)\n"
     ]
    },
    {
     "name": "stderr",
     "output_type": "stream",
     "text": [
      "CWT Processing:  77%|█████████████████████████████████████████▊            | 19023/24576 [02:18<00:38, 145.55samples/s]"
     ]
    },
    {
     "name": "stdout",
     "output_type": "stream",
     "text": [
      "   Processed 19000/24576 samples (137.4 samples/s, ETA: 0.0h)\n"
     ]
    },
    {
     "name": "stderr",
     "output_type": "stream",
     "text": [
      "CWT Processing:  81%|████████████████████████████████████████████▊          | 20017/24576 [02:26<00:54, 84.06samples/s]"
     ]
    },
    {
     "name": "stdout",
     "output_type": "stream",
     "text": [
      "   Processed 20000/24576 samples (136.3 samples/s, ETA: 0.0h)\n"
     ]
    },
    {
     "name": "stderr",
     "output_type": "stream",
     "text": [
      "CWT Processing:  85%|███████████████████████████████████████████████        | 21007/24576 [02:38<00:45, 78.57samples/s]"
     ]
    },
    {
     "name": "stdout",
     "output_type": "stream",
     "text": [
      "   Processed 21000/24576 samples (132.3 samples/s, ETA: 0.0h)\n"
     ]
    },
    {
     "name": "stderr",
     "output_type": "stream",
     "text": [
      "CWT Processing:  90%|████████████████████████████████████████████████▎     | 22010/24576 [02:49<00:24, 103.85samples/s]"
     ]
    },
    {
     "name": "stdout",
     "output_type": "stream",
     "text": [
      "   Processed 22000/24576 samples (129.7 samples/s, ETA: 0.0h)\n"
     ]
    },
    {
     "name": "stderr",
     "output_type": "stream",
     "text": [
      "CWT Processing:  94%|██████████████████████████████████████████████████▌   | 23010/24576 [02:57<00:12, 124.66samples/s]"
     ]
    },
    {
     "name": "stdout",
     "output_type": "stream",
     "text": [
      "   Processed 23000/24576 samples (129.6 samples/s, ETA: 0.0h)\n"
     ]
    },
    {
     "name": "stderr",
     "output_type": "stream",
     "text": [
      "CWT Processing:  98%|████████████████████████████████████████████████████▊ | 24026/24576 [03:05<00:04, 134.30samples/s]"
     ]
    },
    {
     "name": "stdout",
     "output_type": "stream",
     "text": [
      "   Processed 24000/24576 samples (129.8 samples/s, ETA: 0.0h)\n"
     ]
    },
    {
     "name": "stderr",
     "output_type": "stream",
     "text": [
      "CWT Processing: 100%|██████████████████████████████████████████████████████| 24576/24576 [03:08<00:00, 130.28samples/s]\n"
     ]
    },
    {
     "name": "stdout",
     "output_type": "stream",
     "text": [
      "✅ CWT processing complete!\n",
      "   Total time: 3.1 minutes\n",
      "   Average speed: 130.2 samples/second\n",
      "   Output shapes: magnitude=(24576, 32, 32), phase=(24576, 32, 32)\n",
      "\n",
      "📊 Creating stratified train/validation splits...\n",
      "   8PSK @ -6dB: 3276 train, 820 valid\n",
      "   8PSK @ 6dB: 3276 train, 820 valid\n",
      "   8PSK @ 18dB: 3276 train, 820 valid\n",
      "   16QAM @ -6dB: 3276 train, 820 valid\n",
      "   16QAM @ 6dB: 3276 train, 820 valid\n",
      "   16QAM @ 18dB: 3276 train, 820 valid\n",
      "✅ Split created:\n",
      "   Train samples: 19656\n",
      "   Valid samples: 4920\n",
      "💾 Saving train split to ./focused_cwt_experiment\\train_cwt.h5...\n",
      "   File size: 140.0 MB\n",
      "💾 Saving valid split to ./focused_cwt_experiment\\valid_cwt.h5...\n",
      "   File size: 35.1 MB\n"
     ]
    }
   ],
   "source": [
    "magnitudes, phases, labels, snrs = preprocess_cwt_dataset()"
   ]
  },
  {
   "cell_type": "code",
   "execution_count": 9,
   "id": "60ca66e7",
   "metadata": {},
   "outputs": [
    {
     "name": "stdout",
     "output_type": "stream",
     "text": [
      "\n",
      "🔍 Visualizing CWT samples...\n"
     ]
    },
    {
     "data": {
      "image/png": "[encoded data removed]",
      "text/plain": [
       "<Figure size 1800x600 with 12 Axes>"
      ]
     },
     "metadata": {},
     "output_type": "display_data"
    },
    {
     "name": "stdout",
     "output_type": "stream",
     "text": [
      "✅ Showing 3 samples each of 8PSK and 16QAM\n"
     ]
    }
   ],
   "source": [
    "visualize_cwt_samples()"
   ]
  },
  {
   "cell_type": "code",
   "execution_count": 10,
   "id": "e08fc4d1",
   "metadata": {},
   "outputs": [
    {
     "name": "stdout",
     "output_type": "stream",
     "text": [
      "\n",
      "📋 CWT Preprocessing Summary:\n",
      "   Method: Complex Wavelet Transform\n",
      "   Wavelet: cmor1.5-1.0\n",
      "   Scales: 64\n",
      "   Output size: 32×32\n",
      "   Modulations: ['8PSK', '16QAM']\n",
      "   SNR levels: [-6, 6, 18]\n",
      "\n",
      "   Train dataset:\n",
      "     Samples: 19656\n",
      "     File size: 140.0 MB\n",
      "     8PSK @ -6dB: 3276 samples\n",
      "     8PSK @ 6dB: 3276 samples\n",
      "     8PSK @ 18dB: 3276 samples\n",
      "     16QAM @ -6dB: 3276 samples\n",
      "     16QAM @ 6dB: 3276 samples\n",
      "     16QAM @ 18dB: 3276 samples\n",
      "\n",
      "   Valid dataset:\n",
      "     Samples: 4920\n",
      "     File size: 35.1 MB\n",
      "     8PSK @ -6dB: 820 samples\n",
      "     8PSK @ 6dB: 820 samples\n",
      "     8PSK @ 18dB: 820 samples\n",
      "     16QAM @ -6dB: 820 samples\n",
      "     16QAM @ 6dB: 820 samples\n",
      "     16QAM @ 18dB: 820 samples\n",
      "\n",
      "✅ Ready for training!\n",
      "   Use files: ./focused_cwt_experiment/train_cwt.h5 and ./focused_cwt_experiment/valid_cwt.h5\n"
     ]
    }
   ],
   "source": [
    "print_final_summary()"
   ]
  },
  {
   "cell_type": "code",
   "execution_count": 11,
   "id": "af20a98d",
   "metadata": {},
   "outputs": [],
   "source": [
    "DATA_DIR = './focused_cwt_experiment'\n",
    "BATCH_SIZE = 512\n",
    "NUM_EPOCHS = 300 \n",
    "NUM_WORKERS = 0 \n",
    "NUM_CLASSES = len(TARGET_MODULATIONS)\n",
    "LEARNING_RATE = 0.00015"
   ]
  },
  {
   "cell_type": "code",
   "execution_count": 12,
   "id": "e4d56b9d",
   "metadata": {},
   "outputs": [],
   "source": [
    "class CWTDataset(Dataset):\n",
    "    \"\"\"Simple dataset class for loading preprocessed CWT magnitude/phase data.\"\"\"\n",
    "    \n",
    "    def __init__(self, h5_file_path, seed=48):\n",
    "        \"\"\"\n",
    "        Initialize CWT dataset.\n",
    "        \n",
    "        Args:\n",
    "            h5_file_path: Path to HDF5 file (e.g., 'train_cwt.h5')\n",
    "            seed: Random seed (for compatibility with your existing code)\n",
    "        \"\"\"\n",
    "        self.file_path = h5_file_path\n",
    "        self.seed = seed\n",
    "        \n",
    "        if not os.path.exists(h5_file_path):\n",
    "            raise FileNotFoundError(f\"HDF5 file not found: {h5_file_path}\")\n",
    "        \n",
    "        # Open HDF5 file\n",
    "        self.h5_file = h5py.File(h5_file_path, 'r')\n",
    "        \n",
    "        # Get dataset references\n",
    "        self.magnitudes = self.h5_file['magnitudes']\n",
    "        self.phases = self.h5_file['phases']\n",
    "        self.labels = self.h5_file['labels']\n",
    "        self.snrs = self.h5_file['snrs']\n",
    "        \n",
    "        # Store dataset size\n",
    "        self.num_samples = self.magnitudes.shape[0]\n",
    "        \n",
    "    def __len__(self):\n",
    "        \"\"\"Return number of samples.\"\"\"\n",
    "        return self.num_samples\n",
    "    \n",
    "    def __getitem__(self, idx):\n",
    "        \"\"\"\n",
    "        Get a single sample.\n",
    "        \n",
    "        Returns:\n",
    "            magnitude: (1, 32, 32) tensor - magnitude spectrogram\n",
    "            phase: (1, 32, 32) tensor - phase spectrogram  \n",
    "            label: int - modulation class (0=8PSK, 1=16QAM)\n",
    "            snr: float - signal-to-noise ratio\n",
    "        \"\"\"\n",
    "        if idx < 0 or idx >= self.num_samples:\n",
    "            raise IndexError(f\"Index {idx} out of range for dataset of size {self.num_samples}\")\n",
    "        \n",
    "        # Load from HDF5\n",
    "        magnitude = self.magnitudes[idx]\n",
    "        phase = self.phases[idx]\n",
    "        label = int(self.labels[idx])\n",
    "        snr = float(self.snrs[idx])\n",
    "        \n",
    "        # Convert to PyTorch tensors and add channel dimension\n",
    "        magnitude_tensor = torch.from_numpy(magnitude).float().unsqueeze(0)  # (1, 32, 32)\n",
    "        phase_tensor = torch.from_numpy(phase).float().unsqueeze(0)  # (1, 32, 32)\n",
    "        \n",
    "        return magnitude_tensor, phase_tensor, label, snr\n",
    "    \n",
    "    def close(self):\n",
    "        \"\"\"Close HDF5 file handle.\"\"\"\n",
    "        if hasattr(self, 'h5_file') and self.h5_file:\n",
    "            self.h5_file.close()\n",
    "    \n",
    "    def __del__(self):\n",
    "        \"\"\"Ensure file cleanup on deletion.\"\"\"\n",
    "        self.close()"
   ]
  },
  {
   "cell_type": "code",
   "execution_count": 13,
   "id": "2a4813e3",
   "metadata": {},
   "outputs": [
    {
     "name": "stdout",
     "output_type": "stream",
     "text": [
      "Train dataset size: 19656\n",
      "Validation dataset size: 4920\n"
     ]
    }
   ],
   "source": [
    "train_dataset = CWTDataset(\n",
    "    h5_file_path=os.path.join(DATA_DIR, 'train_cwt.h5'),\n",
    "    seed=48\n",
    ")\n",
    "\n",
    "valid_dataset = CWTDataset(\n",
    "    h5_file_path=os.path.join(DATA_DIR, 'valid_cwt.h5'),\n",
    "    seed=48\n",
    ")\n",
    "\n",
    "train_loader = DataLoader(\n",
    "    train_dataset, batch_size=BATCH_SIZE, shuffle=True, \n",
    "    pin_memory=True, num_workers=0, persistent_workers=False\n",
    ")\n",
    "\n",
    "valid_loader = DataLoader(\n",
    "    valid_dataset, batch_size=BATCH_SIZE, shuffle=False, \n",
    "    pin_memory=True, num_workers=0, persistent_workers=False\n",
    ")\n",
    "\n",
    "print(f\"Train dataset size: {len(train_dataset)}\")\n",
    "print(f\"Validation dataset size: {len(valid_dataset)}\")"
   ]
  },
  {
   "cell_type": "code",
   "execution_count": 14,
   "id": "8123f733",
   "metadata": {},
   "outputs": [
    {
     "name": "stdout",
     "output_type": "stream",
     "text": [
      "✅ Successfully built Standard CNN-LSTM Model\n",
      "✅ Successfully built Parallel CNN-LSTM Model\n"
     ]
    }
   ],
   "source": [
    "# Model 1: Standard CNN-LSTM\n",
    "try:\n",
    "    from models.CNN_LSTM_IQ import create_enhanced_CNNLSTMIQModel\n",
    "    model_standard = create_enhanced_CNNLSTMIQModel(n_labels=NUM_CLASSES, dropout_rate=0.3).to(device)\n",
    "    print(\"✅ Successfully built Standard CNN-LSTM Model\")\n",
    "except Exception as e:\n",
    "    print(f\"⚠️ Could not build Standard Model: {e}\")\n",
    "\n",
    "# Model 2: Parallel CNN-LSTM\n",
    "try:\n",
    "    from models.CNN_LSTM_IQ_Parallel import create_diagram_iq_model\n",
    "    model_parallel = create_diagram_iq_model(n_labels=NUM_CLASSES, dropout_rate=0.3).to(device)\n",
    "    print(\"✅ Successfully built Parallel CNN-LSTM Model\")\n",
    "except Exception as e:\n",
    "    print(f\"⚠️ Could not build Parallel Model: {e}\")"
   ]
  },
  {
   "cell_type": "code",
   "execution_count": 15,
   "id": "ad315381",
   "metadata": {},
   "outputs": [],
   "source": [
    "# Shared training components\n",
    "criterion = nn.CrossEntropyLoss(label_smoothing=0.2).to(device)\n",
    "\n",
    "optimizer_standard = optim.Adam(model_standard.parameters(), lr=LEARNING_RATE, weight_decay=1e-4)\n",
    "optimizer_parallel = optim.Adam(model_parallel.parameters(), lr=LEARNING_RATE, weight_decay=1e-4)\n",
    "\n",
    "scheduler_standard = optim.lr_scheduler.ReduceLROnPlateau(optimizer_standard, mode='max', factor=0.5, patience=5)\n",
    "scheduler_parallel = optim.lr_scheduler.ReduceLROnPlateau(optimizer_parallel, mode='max', factor=0.5, patience=5)\n",
    "\n",
    "scaler_standard = GradScaler()\n",
    "scaler_parallel = GradScaler()"
   ]
  },
  {
   "cell_type": "code",
   "execution_count": 16,
   "id": "79f6deeb",
   "metadata": {},
   "outputs": [],
   "source": [
    "# --- Training Metrics Storage ---\n",
    "metrics = {\n",
    "    'standard': {\n",
    "        'train_losses': [], 'valid_losses': [], \n",
    "        'train_accuracies': [], 'valid_accuracies': [],\n",
    "        'training_times': [], 'best_accuracy': 0.0,\n",
    "        'final_predictions': [], 'final_true_labels': []\n",
    "    },\n",
    "    'parallel': {\n",
    "        'train_losses': [], 'valid_losses': [], \n",
    "        'train_accuracies': [], 'valid_accuracies': [],\n",
    "        'training_times': [], 'best_accuracy': 0.0,\n",
    "        'final_predictions': [], 'final_true_labels': []\n",
    "    }\n",
    "}"
   ]
  },
  {
   "cell_type": "code",
   "execution_count": 17,
   "id": "34a4e3f1",
   "metadata": {},
   "outputs": [],
   "source": [
    "# Early stopping\n",
    "patience_counters = {'standard': 0, 'parallel': 0}\n",
    "best_models = {'standard': None, 'parallel': None}"
   ]
  },
  {
   "cell_type": "code",
   "execution_count": 18,
   "id": "f269438e",
   "metadata": {},
   "outputs": [],
   "source": [
    "def train_epoch(model, train_loader, optimizer, criterion, scaler, device):\n",
    "    model.train()\n",
    "    running_loss = 0.0\n",
    "    correct = 0\n",
    "    total = 0\n",
    "    \n",
    "    for magnitude, phase, labels, _ in train_loader:\n",
    "        magnitude, phase, labels = magnitude.to(device), phase.to(device), labels.to(device)\n",
    "        \n",
    "        optimizer.zero_grad()\n",
    "        \n",
    "        with autocast():\n",
    "            outputs = model(magnitude, phase)\n",
    "            loss = criterion(outputs, labels)\n",
    "        \n",
    "        scaler.scale(loss).backward()\n",
    "        scaler.unscale_(optimizer)\n",
    "        torch.nn.utils.clip_grad_norm_(model.parameters(), 1.0)\n",
    "        scaler.step(optimizer)\n",
    "        scaler.update()\n",
    "        \n",
    "        running_loss += loss.item()\n",
    "        _, predicted = torch.max(outputs, 1)\n",
    "        total += labels.size(0)\n",
    "        correct += (predicted == labels).sum().item()\n",
    "    \n",
    "    epoch_loss = running_loss / len(train_loader)\n",
    "    epoch_accuracy = 100. * correct / total\n",
    "    \n",
    "    return epoch_loss, epoch_accuracy\n",
    "\n",
    "def validate_epoch(model, valid_loader, criterion, device):\n",
    "    model.eval()\n",
    "    running_loss = 0.0\n",
    "    correct = 0\n",
    "    total = 0\n",
    "    \n",
    "    with torch.no_grad():\n",
    "        for magnitude, phase, labels, _ in valid_loader:\n",
    "            magnitude, phase, labels = magnitude.to(device), phase.to(device), labels.to(device)\n",
    "            \n",
    "            outputs = model(magnitude, phase)\n",
    "            loss = criterion(outputs, labels)\n",
    "            \n",
    "            running_loss += loss.item()\n",
    "            _, predicted = torch.max(outputs, 1)\n",
    "            total += labels.size(0)\n",
    "            correct += (predicted == labels).sum().item()\n",
    "    \n",
    "    epoch_loss = running_loss / len(valid_loader)\n",
    "    epoch_accuracy = 100. * correct / total\n",
    "    \n",
    "    return epoch_loss, epoch_accuracy"
   ]
  },
  {
   "cell_type": "markdown",
   "id": "9b8d2be0",
   "metadata": {},
   "source": [
    "### *DEBUGGING THE TRAINING PROCESS*"
   ]
  },
  {
   "cell_type": "code",
   "execution_count": 19,
   "id": "cd84124e",
   "metadata": {},
   "outputs": [
    {
     "name": "stdout",
     "output_type": "stream",
     "text": [
      "model_standard exists: True\n",
      "model_parallel exists: True\n",
      "train_loader exists: True\n",
      "valid_loader exists: True\n"
     ]
    }
   ],
   "source": [
    "print(\"model_standard exists:\", 'model_standard' in locals())\n",
    "print(\"model_parallel exists:\", 'model_parallel' in locals()) \n",
    "print(\"train_loader exists:\", 'train_loader' in locals())\n",
    "print(\"valid_loader exists:\", 'valid_loader' in locals())"
   ]
  },
  {
   "cell_type": "code",
   "execution_count": 20,
   "id": "ea0479bc",
   "metadata": {},
   "outputs": [
    {
     "name": "stdout",
     "output_type": "stream",
     "text": [
      "Train dataset size: 19656\n",
      "Valid dataset size: 4920\n"
     ]
    }
   ],
   "source": [
    "print(f\"Train dataset size: {len(train_dataset)}\")\n",
    "print(f\"Valid dataset size: {len(valid_dataset)}\")"
   ]
  },
  {
   "cell_type": "code",
   "execution_count": 21,
   "id": "dbcee1f0",
   "metadata": {},
   "outputs": [
    {
     "name": "stdout",
     "output_type": "stream",
     "text": [
      "CUDA available: True\n",
      "Device: cuda\n",
      "GPU memory: 17.1GB\n"
     ]
    }
   ],
   "source": [
    "# Check CUDA status:\n",
    "print(f\"CUDA available: {torch.cuda.is_available()}\")\n",
    "print(f\"Device: {device}\")\n",
    "print(f\"GPU memory: {torch.cuda.get_device_properties(0).total_memory / 1e9:.1f}GB\")"
   ]
  },
  {
   "cell_type": "code",
   "execution_count": 22,
   "id": "83dfc1d4",
   "metadata": {},
   "outputs": [
    {
     "name": "stdout",
     "output_type": "stream",
     "text": [
      "Standard model device: cuda:0\n",
      "Parallel model device: cuda:0\n"
     ]
    }
   ],
   "source": [
    "# Check model devices:\n",
    "print(f\"Standard model device: {next(model_standard.parameters()).device}\")\n",
    "print(f\"Parallel model device: {next(model_parallel.parameters()).device}\")"
   ]
  },
  {
   "cell_type": "code",
   "execution_count": 23,
   "id": "3e0490d1",
   "metadata": {},
   "outputs": [
    {
     "name": "stdout",
     "output_type": "stream",
     "text": [
      "Testing first batch...\n",
      "✅ First batch loaded: torch.Size([512, 1, 32, 32])\n"
     ]
    }
   ],
   "source": [
    "# Test this first:\n",
    "print(\"Testing first batch...\")\n",
    "magnitude, phase, labels, snrs = next(iter(train_loader))\n",
    "print(f\"✅ First batch loaded: {magnitude.shape}\")"
   ]
  },
  {
   "cell_type": "code",
   "execution_count": 24,
   "id": "2c4d7c89",
   "metadata": {},
   "outputs": [
    {
     "name": "stdout",
     "output_type": "stream",
     "text": [
      "Testing forward pass...\n",
      "Input shapes: torch.Size([512, 1, 32, 32]), torch.Size([512, 1, 32, 32])\n",
      "✅ Standard model output: torch.Size([512, 2])\n",
      "✅ Parallel model output: torch.Size([512, 2])\n"
     ]
    }
   ],
   "source": [
    "# Test if models can actually process a batch:\n",
    "print(\"Testing forward pass...\")\n",
    "\n",
    "magnitude, phase, labels, snrs = next(iter(train_loader))\n",
    "magnitude, phase, labels = magnitude.to(device), phase.to(device), labels.to(device)\n",
    "\n",
    "print(f\"Input shapes: {magnitude.shape}, {phase.shape}\")\n",
    "\n",
    "# Test standard model\n",
    "try:\n",
    "    with torch.no_grad():\n",
    "        output_std = model_standard(magnitude, phase)\n",
    "    print(f\"✅ Standard model output: {output_std.shape}\")\n",
    "except Exception as e:\n",
    "    print(f\"❌ Standard model failed: {e}\")\n",
    "\n",
    "# Test parallel model  \n",
    "try:\n",
    "    with torch.no_grad():\n",
    "        output_par = model_parallel(magnitude, phase)\n",
    "    print(f\"✅ Parallel model output: {output_par.shape}\")\n",
    "except Exception as e:\n",
    "    print(f\"❌ Parallel model failed: {e}\")"
   ]
  },
  {
   "cell_type": "code",
   "execution_count": 25,
   "id": "3fceaaaf",
   "metadata": {},
   "outputs": [
    {
     "name": "stdout",
     "output_type": "stream",
     "text": [
      "Testing single training step...\n",
      "Testing standard model step...\n",
      "Loss computed: 5.131312847137451\n",
      "Backward pass complete\n",
      "✅ Standard model step complete\n"
     ]
    }
   ],
   "source": [
    "# Test one complete training step:\n",
    "print(\"Testing single training step...\")\n",
    "\n",
    "magnitude, phase, labels, snrs = next(iter(train_loader))\n",
    "magnitude, phase, labels = magnitude.to(device), phase.to(device), labels.to(device)\n",
    "\n",
    "# Test standard model training step\n",
    "try:\n",
    "    print(\"Testing standard model step...\")\n",
    "    optimizer_standard.zero_grad()\n",
    "    \n",
    "    with autocast():\n",
    "        outputs = model_standard(magnitude, phase)\n",
    "        loss = criterion(outputs, labels)\n",
    "    print(f\"Loss computed: {loss.item()}\")\n",
    "    \n",
    "    scaler_standard.scale(loss).backward()\n",
    "    print(\"Backward pass complete\")\n",
    "    \n",
    "    scaler_standard.unscale_(optimizer_standard)\n",
    "    scaler_standard.step(optimizer_standard)\n",
    "    scaler_standard.update()\n",
    "    print(\"✅ Standard model step complete\")\n",
    "    \n",
    "except Exception as e:\n",
    "    print(f\"❌ Standard model step failed: {e}\")"
   ]
  },
  {
   "cell_type": "code",
   "execution_count": 26,
   "id": "3c57c9ae",
   "metadata": {},
   "outputs": [
    {
     "name": "stdout",
     "output_type": "stream",
     "text": [
      "Testing simple training loop...\n",
      "Processing batch 1\n",
      "Processing batch 2\n",
      "Processing batch 3\n",
      "✅ Processed 3 batches successfully\n",
      "Average loss: 4.7887\n"
     ]
    }
   ],
   "source": [
    "# Test simplified training loop without tqdm:\n",
    "print(\"Testing simple training loop...\")\n",
    "\n",
    "model_standard.train()\n",
    "epoch_losses = []\n",
    "\n",
    "for batch_idx, (magnitude, phase, labels, snrs) in enumerate(train_loader):\n",
    "    print(f\"Processing batch {batch_idx+1}\")\n",
    "    \n",
    "    magnitude, phase, labels = magnitude.to(device), phase.to(device), labels.to(device)\n",
    "    \n",
    "    optimizer_standard.zero_grad()\n",
    "    \n",
    "    with autocast():\n",
    "        outputs = model_standard(magnitude, phase)\n",
    "        loss = criterion(outputs, labels)\n",
    "    \n",
    "    scaler_standard.scale(loss).backward()\n",
    "    scaler_standard.unscale_(optimizer_standard)\n",
    "    scaler_standard.step(optimizer_standard)\n",
    "    scaler_standard.update()\n",
    "    \n",
    "    epoch_losses.append(loss.item())\n",
    "    \n",
    "    # Stop after 3 batches for testing\n",
    "    if batch_idx >= 2:\n",
    "        print(f\"✅ Processed {batch_idx+1} batches successfully\")\n",
    "        break\n",
    "\n",
    "print(f\"Average loss: {np.mean(epoch_losses):.4f}\")"
   ]
  },
  {
   "cell_type": "markdown",
   "id": "03bcf1d9",
   "metadata": {},
   "source": [
    "### Training PRocess"
   ]
  },
  {
   "cell_type": "code",
   "execution_count": null,
   "id": "1d6244a7",
   "metadata": {},
   "outputs": [
    {
     "name": "stdout",
     "output_type": "stream",
     "text": [
      "\n",
      "🚀 Starting dual model training...\n",
      "============================================================\n",
      "\n",
      "📊 Epoch 1/300\n",
      "   Training standard model...\n"
     ]
    }
   ],
   "source": [
    "print(f\"\\n🚀 Starting dual model training...\")\n",
    "print(\"=\" * 60)\n",
    "\n",
    "for epoch in range(NUM_EPOCHS):\n",
    "    print(f\"\\n📊 Epoch {epoch+1}/{NUM_EPOCHS}\")\n",
    "    \n",
    "    # Train standard model\n",
    "    print(\"   Training standard model...\")\n",
    "    train_loss_std, train_acc_std = train_epoch(\n",
    "        model_standard, train_loader, optimizer_standard, criterion, scaler_standard, device\n",
    "    )\n",
    "    print(f\"   ✅ Standard - Train Loss: {train_loss_std:.4f}, Acc: {train_acc_std:.2f}%\")\n",
    "    \n",
    "    # Train parallel model  \n",
    "    print(\"   Training parallel model...\")\n",
    "    train_loss_par, train_acc_par = train_epoch(\n",
    "        model_parallel, train_loader, optimizer_parallel, criterion, scaler_parallel, device\n",
    "    )\n",
    "    print(f\"   ✅ Parallel - Train Loss: {train_loss_par:.4f}, Acc: {train_acc_par:.2f}%\")\n",
    "    \n",
    "    # Validation\n",
    "    print(\"   Validating...\")\n",
    "    valid_loss_std, valid_acc_std = validate_epoch(model_standard, valid_loader, criterion, device)\n",
    "    valid_loss_par, valid_acc_par = validate_epoch(model_parallel, valid_loader, criterion, device)\n",
    "    \n",
    "    print(f\"   📈 Standard Valid: {valid_acc_std:.2f}% | Parallel Valid: {valid_acc_par:.2f}%\")\n",
    "    \n",
    "    metrics['standard']['train_losses'].append(train_loss_std)\n",
    "    metrics['standard']['train_accuracies'].append(train_acc_std)\n",
    "    metrics['standard']['valid_losses'].append(valid_loss_std)\n",
    "    metrics['standard']['valid_accuracies'].append(valid_acc_std)\n",
    "    \n",
    "    metrics['parallel']['train_losses'].append(train_loss_par)\n",
    "    metrics['parallel']['train_accuracies'].append(train_acc_par)\n",
    "    metrics['parallel']['valid_losses'].append(valid_loss_par)\n",
    "    metrics['parallel']['valid_accuracies'].append(valid_acc_par)\n",
    "    \n",
    "    scheduler_standard.step(valid_acc_std)\n",
    "    scheduler_parallel.step(valid_acc_par)\n",
    "    \n",
    "    if valid_acc_std > metrics['standard']['best_accuracy']:\n",
    "        metrics['standard']['best_accuracy'] = valid_acc_std\n",
    "        metrics['standard']['patience_counter'] = 0\n",
    "        torch.save(model_standard.state_dict(), 'best_standard_model.pth')\n",
    "    else:\n",
    "        metrics['standard']['patience_counter'] += 1\n",
    "    \n",
    "    if valid_acc_par > metrics['parallel']['best_accuracy']:\n",
    "        metrics['parallel']['best_accuracy'] = valid_acc_par\n",
    "        metrics['parallel']['patience_counter'] = 0\n",
    "        torch.save(model_parallel.state_dict(), 'best_parallel_model.pth')\n",
    "    else:\n",
    "        metrics['parallel']['patience_counter'] += 1\n",
    "    \n",
    "    epoch_time = time.time() - epoch_start\n",
    "    \n",
    "    if (epoch + 1) % 5 == 0:\n",
    "        print(f\"\\nEpoch {epoch+1}/{NUM_EPOCHS} ({epoch_time:.2f}s):\")\n",
    "        print(f\"Standard  - Train: {train_acc_std:.2f}% | Valid: {valid_acc_std:.2f}% | Loss: {valid_loss_std:.4f}\")\n",
    "        print(f\"Parallel  - Train: {train_acc_par:.2f}% | Valid: {valid_acc_par:.2f}% | Loss: {valid_loss_par:.4f}\")\n",
    "        print(f\"Best - Standard: {metrics['standard']['best_accuracy']:.2f}% | Parallel: {metrics['parallel']['best_accuracy']:.2f}%\")\n",
    "    \n",
    "    if min(metrics['standard']['patience_counter'], metrics['parallel']['patience_counter']) >= patience:\n",
    "        print(f\"\\nEarly stopping at epoch {epoch+1}\")\n",
    "        break\n",
    "\n",
    "print(f\"\\n🎉 Training Complete!\")\n",
    "print(f\"Standard Model Best: {metrics['standard']['best_accuracy']:.2f}%\")\n",
    "print(f\"Parallel Model Best: {metrics['parallel']['best_accuracy']:.2f}%\")\n",
    "\n",
    "if metrics['standard']['best_accuracy'] > metrics['parallel']['best_accuracy']:\n",
    "    winner = \"Standard\"\n",
    "    margin = metrics['standard']['best_accuracy'] - metrics['parallel']['best_accuracy']\n",
    "else:\n",
    "    winner = \"Parallel\"\n",
    "    margin = metrics['parallel']['best_accuracy'] - metrics['standard']['best_accuracy']\n",
    "\n",
    "print(f\"🏆 Winner: {winner} model (+{margin:.2f}%)\")"
   ]
  },
  {
   "cell_type": "code",
   "execution_count": null,
   "id": "98d20685-02a3-4e95-9b38-2038dc6656ba",
   "metadata": {},
   "outputs": [],
   "source": []
  },
  {
   "cell_type": "code",
   "execution_count": null,
   "id": "5f7b47f5",
   "metadata": {},
   "outputs": [],
   "source": []
  },
  {
   "cell_type": "code",
   "execution_count": null,
   "id": "6c8ce9bc",
   "metadata": {},
   "outputs": [],
   "source": []
  },
  {
   "cell_type": "code",
   "execution_count": null,
   "id": "fa9fe36b",
   "metadata": {},
   "outputs": [],
   "source": [
    "# class RadioMLWaveletDataset(Dataset):\n",
    "#     \"\"\"Dataset class for RadioML18 data with Wavelet Transform for CNNIQModel dual-branch architecture.\n",
    "    \n",
    "#     Loads RadioML18 HDF5 data and applies wavelet transforms to return 2D time-frequency\n",
    "#     representations suitable for CNN processing.\n",
    "#     \"\"\"\n",
    "    \n",
    "#     def __init__(self, mode: str, use_complex_wavelet: bool = True, wavelet_name: str = 'cmor1.5-1.0', \n",
    "#                  num_scales: int = 64, seed: int = 48):\n",
    "#         \"\"\"Initialize RadioMLWaveletDataset.\n",
    "        \n",
    "#         Args:\n",
    "#             mode: Dataset split mode ('train', 'valid', or 'test').\n",
    "#             use_complex_wavelet: Whether to use complex wavelets (True) or real wavelets (False).\n",
    "#             wavelet_name: Wavelet type ('cmor1.5-1.0', 'morl', 'db4', etc.).\n",
    "#             num_scales: Number of wavelet scales to use.\n",
    "#             seed: Random seed for dataset splitting.\n",
    "            \n",
    "#         Raises:\n",
    "#             FileNotFoundError: If HDF5 or JSON files cannot be found.\n",
    "#             ValueError: If mode is not valid or data dimensions are incompatible.\n",
    "#         \"\"\"\n",
    "#         super(RadioMLWaveletDataset, self).__init__()\n",
    "        \n",
    "#         # Configuration - you'll need to define these constants\n",
    "#         self.file_path = FILE_PATH \n",
    "#         self.json_path = JSON_PATH \n",
    "#         self.target_modulations = TARGET_MODULATIONS\n",
    "#         self.use_complex_wavelet = use_complex_wavelet\n",
    "#         self.wavelet_name = wavelet_name\n",
    "#         self.num_scales = num_scales\n",
    "#         self.mode = mode\n",
    "        \n",
    "#         # Validate mode\n",
    "#         if mode not in ['train', 'valid', 'test']:\n",
    "#             raise ValueError(f\"Mode must be 'train', 'valid', or 'test', got '{mode}'\")\n",
    "        \n",
    "#         # Load data files\n",
    "#         try:\n",
    "#             self.hdf5_file = h5py.File(self.file_path, 'r')\n",
    "#             self.modulation_classes = json.load(open(self.json_path, 'r'))\n",
    "#         except FileNotFoundError as e:\n",
    "#             raise FileNotFoundError(f\"Error loading data files: {e}\")\n",
    "#         except Exception as e:\n",
    "#             print(f\"Error loading file: {e}\")\n",
    "#             raise e\n",
    "        \n",
    "#         # Load raw data\n",
    "#         self.X = self.hdf5_file['X']\n",
    "#         self.Y = np.argmax(self.hdf5_file['Y'], axis=1)\n",
    "#         self.Z = self.hdf5_file['Z'][:, 0]\n",
    "        \n",
    "#         # Fix the proportion calculation\n",
    "#         num_mods = len(self.target_modulations)   \n",
    "#         self.target_snrs = np.unique(self.Z)\n",
    "#         num_snrs = len(self.target_snrs)\n",
    "        \n",
    "#         # Use proper proportions instead of the broken nf_train logic\n",
    "#         train_proportion = 0.7\n",
    "#         valid_proportion = 0.2  \n",
    "#         test_proportion = 0.1\n",
    "        \n",
    "#         # Split dataset\n",
    "#         self.X_data, self.Y_data, self.Z_data = self.dataset_split(\n",
    "#             data=self.X,\n",
    "#             modulations_classes=self.modulation_classes,\n",
    "#             modulations=self.Y,\n",
    "#             snrs=self.Z,\n",
    "#             mode=mode,\n",
    "#             train_proportion=train_proportion,\n",
    "#             valid_proportion=valid_proportion,\n",
    "#             test_proportion=test_proportion,\n",
    "#             target_modulations=self.target_modulations,\n",
    "#             target_snrs=self.target_snrs,\n",
    "#             seed=seed\n",
    "#         )\n",
    "        \n",
    "#         # Apply I/Q channel ordering\n",
    "#         print(f\"🔧 Applying I/Q channel ordering for {mode} dataset...\")\n",
    "#         self.X_data = self.X_data[:, :, [0, 1]]\n",
    "#         print(f\"✅ I/Q channels ordered correctly\")\n",
    "        \n",
    "#         # Validate signal length\n",
    "#         self.signal_length = self.X_data.shape[1]\n",
    "#         if self.signal_length != 1024:\n",
    "#             print(f\"⚠️  Expected signal length 1024, got {self.signal_length}\")\n",
    "        \n",
    "#         # Setup wavelet scales\n",
    "#         self.scales = np.logspace(0, np.log10(self.signal_length//4), self.num_scales)\n",
    "        \n",
    "#         # Calculate 2D dimensions for wavelet coefficients\n",
    "#         # For CWT: (num_scales, signal_length) → need to reshape for CNN\n",
    "#         self.setup_wavelet_dimensions()\n",
    "        \n",
    "#         print(f\"🌊 Wavelet Transform Configuration:\")\n",
    "#         print(f\"   Wavelet: {self.wavelet_name}\")\n",
    "#         print(f\"   Scales: {self.num_scales} (from {self.scales[0]:.1f} to {self.scales[-1]:.1f})\")\n",
    "#         print(f\"   Complex: {self.use_complex_wavelet}\")\n",
    "#         print(f\"   Output shape: (1, {self.H}, {self.W})\")\n",
    "        \n",
    "#         # Store dataset statistics\n",
    "#         self.num_data = self.X_data.shape[0]\n",
    "#         self.num_lbl = len(self.target_modulations)\n",
    "#         self.num_snr = len(self.target_snrs)\n",
    "        \n",
    "#         print(f\"RadioMLWaveletDataset {mode}: {self.num_data} samples, \"\n",
    "#               f\"{self.num_lbl} classes, {self.num_snr} SNR levels\")\n",
    "    \n",
    "#     def setup_wavelet_dimensions(self):\n",
    "#         \"\"\"Calculate optimal 2D dimensions for wavelet coefficient matrix.\"\"\"\n",
    "#         # Wavelet coefficients will be (num_scales, signal_length)\n",
    "#         total_elements = self.num_scales * self.signal_length\n",
    "        \n",
    "#         # Find good 2D dimensions that preserve most information\n",
    "#         # Option 1: Keep scales as height, downsample time\n",
    "#         if self.signal_length >= self.num_scales:\n",
    "#             # Downsample time dimension to make it square-ish\n",
    "#             time_downsample = self.signal_length // self.num_scales\n",
    "#             self.H = self.num_scales\n",
    "#             self.W = self.signal_length // time_downsample\n",
    "#         else:\n",
    "#             # If more scales than time samples, use different approach\n",
    "#             self.H = self.num_scales\n",
    "#             self.W = self.signal_length\n",
    "        \n",
    "#         # Alternative: Force square dimensions\n",
    "#         sqrt_total = int(math.sqrt(total_elements))\n",
    "#         self.H_alt = sqrt_total\n",
    "#         self.W_alt = total_elements // sqrt_total\n",
    "        \n",
    "#         # Use the scale-preserving approach by default\n",
    "#         print(f\"🔧 Wavelet coefficients: ({self.num_scales}, {self.signal_length}) → reshape to ({self.H}, {self.W})\")\n",
    "    \n",
    "#     def dataset_split(self, data, modulations_classes, modulations, snrs,\n",
    "#                      target_modulations, mode, target_snrs,\n",
    "#                      train_proportion=0.7, valid_proportion=0.2, test_proportion=0.1,\n",
    "#                      seed=48):\n",
    "#         \"\"\"Split dataset into train/valid/test sets.\"\"\"\n",
    "#         np.random.seed(seed)\n",
    "#         X_output = []\n",
    "#         Y_output = []\n",
    "#         Z_output = []\n",
    "        \n",
    "#         target_modulation_indices = [modulations_classes.index(modu) for modu in target_modulations]\n",
    "        \n",
    "#         for modu in target_modulation_indices:\n",
    "#             for snr in target_snrs:\n",
    "#                 snr_modu_indices = np.where((modulations == modu) & (snrs == snr))[0]\n",
    "#                 np.random.shuffle(snr_modu_indices)\n",
    "#                 num_samples = len(snr_modu_indices)\n",
    "                \n",
    "#                 train_end = int(train_proportion * num_samples)\n",
    "#                 valid_end = int((train_proportion + valid_proportion) * num_samples)\n",
    "                \n",
    "#                 if mode == 'train':\n",
    "#                     indices = snr_modu_indices[:train_end]\n",
    "#                 elif mode == 'valid':\n",
    "#                     indices = snr_modu_indices[train_end:valid_end]\n",
    "#                 elif mode == 'test':\n",
    "#                     indices = snr_modu_indices[valid_end:]\n",
    "#                 else:\n",
    "#                     raise ValueError(f'Unknown mode: {mode}')\n",
    "                \n",
    "#                 if len(indices) > 0:\n",
    "#                     X_output.append(data[np.sort(indices)])\n",
    "#                     Y_output.append(modulations[np.sort(indices)])\n",
    "#                     Z_output.append(snrs[np.sort(indices)])\n",
    "        \n",
    "#         X_array = np.vstack(X_output)\n",
    "#         Y_array = np.concatenate(Y_output)\n",
    "#         Z_array = np.concatenate(Z_output)\n",
    "        \n",
    "#         # Remap labels to consecutive integers\n",
    "#         for index, value in enumerate(np.unique(np.copy(Y_array))):\n",
    "#             Y_array[Y_array == value] = index\n",
    "        \n",
    "#         return X_array, Y_array, Z_array\n",
    "    \n",
    "#     def __len__(self) -> int:\n",
    "#         \"\"\"Return the number of samples in the dataset.\"\"\"\n",
    "#         return self.X_data.shape[0]\n",
    "    \n",
    "#     def apply_wavelet_transform(self, i_signal: np.ndarray, q_signal: np.ndarray) -> Tuple[np.ndarray, np.ndarray]:\n",
    "#         \"\"\"Apply wavelet transform to I/Q signals.\n",
    "        \n",
    "#         Args:\n",
    "#             i_signal: In-phase component (1D array)\n",
    "#             q_signal: Quadrature component (1D array)\n",
    "            \n",
    "#         Returns:\n",
    "#             Tuple of two 2D arrays for dual-branch CNN processing\n",
    "#         \"\"\"\n",
    "#         if self.use_complex_wavelet:\n",
    "#             # Combine I/Q into complex signal\n",
    "#             complex_signal = i_signal + 1j * q_signal\n",
    "            \n",
    "#             # Apply complex wavelet transform\n",
    "#             coefficients, frequencies = pywt.cwt(complex_signal, self.scales, self.wavelet_name)\n",
    "            \n",
    "#             # Extract magnitude and phase\n",
    "#             magnitude = np.abs(coefficients)\n",
    "#             phase = np.angle(coefficients)\n",
    "            \n",
    "#             # Reshape to target dimensions\n",
    "#             magnitude_2d = self.reshape_coefficients(magnitude)\n",
    "#             phase_2d = self.reshape_coefficients(phase)\n",
    "            \n",
    "#             return magnitude_2d, phase_2d\n",
    "            \n",
    "#         else:\n",
    "#             # Apply real wavelet transform to I and Q separately\n",
    "#             if 'cmor' in self.wavelet_name:\n",
    "#                 # Complex Morlet wavelets need complex input, use 'morl' for real\n",
    "#                 wavelet_real = 'morl'\n",
    "#             else:\n",
    "#                 wavelet_real = self.wavelet_name\n",
    "            \n",
    "#             # Transform I and Q channels separately\n",
    "#             coeffs_i, _ = pywt.cwt(i_signal, self.scales, wavelet_real)\n",
    "#             coeffs_q, _ = pywt.cwt(q_signal, self.scales, wavelet_real)\n",
    "            \n",
    "#             # Reshape to target dimensions\n",
    "#             i_2d = self.reshape_coefficients(coeffs_i)\n",
    "#             q_2d = self.reshape_coefficients(coeffs_q)\n",
    "            \n",
    "#             return i_2d, q_2d\n",
    "    \n",
    "#     def reshape_coefficients(self, coeffs: np.ndarray) -> np.ndarray:\n",
    "#         \"\"\"Reshape wavelet coefficients to target 2D dimensions.\"\"\"\n",
    "#         # coeffs shape: (num_scales, signal_length)\n",
    "        \n",
    "#         # Method 1: Downsample time dimension if needed\n",
    "#         if coeffs.shape[1] > self.W:\n",
    "#             # Downsample time dimension\n",
    "#             step = coeffs.shape[1] // self.W\n",
    "#             coeffs_resized = coeffs[:, ::step][:, :self.W]\n",
    "#         else:\n",
    "#             coeffs_resized = coeffs\n",
    "        \n",
    "#         # Pad or crop to exact dimensions\n",
    "#         if coeffs_resized.shape[0] > self.H:\n",
    "#             coeffs_resized = coeffs_resized[:self.H, :]\n",
    "#         elif coeffs_resized.shape[0] < self.H:\n",
    "#             pad_height = self.H - coeffs_resized.shape[0]\n",
    "#             coeffs_resized = np.pad(coeffs_resized, ((0, pad_height), (0, 0)), mode='constant')\n",
    "        \n",
    "#         if coeffs_resized.shape[1] > self.W:\n",
    "#             coeffs_resized = coeffs_resized[:, :self.W]\n",
    "#         elif coeffs_resized.shape[1] < self.W:\n",
    "#             pad_width = self.W - coeffs_resized.shape[1]\n",
    "#             coeffs_resized = np.pad(coeffs_resized, ((0, 0), (0, pad_width)), mode='constant')\n",
    "        \n",
    "#         return coeffs_resized\n",
    "    \n",
    "#     def __getitem__(self, idx: int) -> Tuple[torch.Tensor, torch.Tensor, int, float]:\n",
    "#         \"\"\"Get a single sample with wavelet transform applied.\n",
    "        \n",
    "#         Args:\n",
    "#             idx: Sample index\n",
    "            \n",
    "#         Returns:\n",
    "#             Tuple of (tensor1, tensor2, label, snr) where:\n",
    "#             - tensor1, tensor2: 2D wavelet transform tensors for dual-branch CNN\n",
    "#             - label: Modulation class label  \n",
    "#             - snr: Signal-to-noise ratio\n",
    "#         \"\"\"\n",
    "#         if idx < 0 or idx >= self.num_data:\n",
    "#             raise IndexError(f\"Index {idx} out of range for dataset of size {self.num_data}\")\n",
    "\n",
    "#         x_raw = self.X_data[idx]       # shape: (L, 2)\n",
    "#         y = int(self.Y_data[idx])\n",
    "#         z = float(self.Z_data[idx])\n",
    "\n",
    "#         # Extract I and Q components\n",
    "#         i_signal = x_raw[:, 0]  # I component\n",
    "#         q_signal = x_raw[:, 1]  # Q component\n",
    "        \n",
    "#         # Apply wavelet transform\n",
    "#         wavelet_1, wavelet_2 = self.apply_wavelet_transform(i_signal, q_signal)\n",
    "        \n",
    "#         # Convert to tensors and add channel dimension\n",
    "#         tensor_1 = torch.from_numpy(wavelet_1).float().unsqueeze(0)  # (1, H, W)\n",
    "#         tensor_2 = torch.from_numpy(wavelet_2).float().unsqueeze(0)  # (1, H, W)\n",
    "        \n",
    "#         return tensor_1, tensor_2, y, z\n",
    "    \n",
    "#     def get_signal_stats(self):\n",
    "#         \"\"\"Compute basic stats over a sample of wavelet-transformed signals.\"\"\"\n",
    "#         sample_indices = np.random.choice(self.num_data, min(100, self.num_data), replace=False)\n",
    "#         tensor1_vals, tensor2_vals = [], []\n",
    "        \n",
    "#         for idx in sample_indices:\n",
    "#             t1, t2, _, _ = self[idx]\n",
    "#             tensor1_vals.append(t1.flatten())\n",
    "#             tensor2_vals.append(t2.flatten())\n",
    "        \n",
    "#         t1_all = torch.cat(tensor1_vals)\n",
    "#         t2_all = torch.cat(tensor2_vals)\n",
    "        \n",
    "#         return {\n",
    "#             'wavelet_type': self.wavelet_name,\n",
    "#             'complex_wavelet': self.use_complex_wavelet,\n",
    "#             'tensor1_mean': t1_all.mean().item(),\n",
    "#             'tensor1_std': t1_all.std().item(),\n",
    "#             'tensor1_min': t1_all.min().item(),\n",
    "#             'tensor1_max': t1_all.max().item(),\n",
    "#             'tensor2_mean': t2_all.mean().item(),\n",
    "#             'tensor2_std': t2_all.std().item(),\n",
    "#             'tensor2_min': t2_all.min().item(),\n",
    "#             'tensor2_max': t2_all.max().item(),\n",
    "#             'shape': (1, self.H, self.W),\n",
    "#             'num_samples': self.num_data,\n",
    "#             'num_scales': self.num_scales,\n",
    "#             'signal_length': self.signal_length\n",
    "#         }\n",
    "    \n",
    "#     def get_class_distribution(self):\n",
    "#         \"\"\"Get the distribution of classes in the dataset.\"\"\"\n",
    "#         unique, counts = np.unique(self.Y_data, return_counts=True)\n",
    "#         class_names = [self.target_modulations[i] for i in unique if i < len(self.target_modulations)]\n",
    "#         return dict(zip(class_names, counts[:len(class_names)]))\n",
    "    \n",
    "#     def close(self):\n",
    "#         \"\"\"Close HDF5 file handle.\"\"\"\n",
    "#         if hasattr(self, 'hdf5_file'):\n",
    "#             self.hdf5_file.close()\n",
    "\n",
    "#     def __del__(self):\n",
    "#         \"\"\"Destructor to ensure file cleanup.\"\"\"\n",
    "#         self.close()"
   ]
  },
  {
   "cell_type": "code",
   "execution_count": null,
   "id": "fcd25271",
   "metadata": {},
   "outputs": [],
   "source": []
  }
 ],
 "metadata": {
  "kernelspec": {
   "display_name": "AMC Environtment",
   "language": "python",
   "name": "amc_env"
  },
  "language_info": {
   "codemirror_mode": {
    "name": "ipython",
    "version": 3
   },
   "file_extension": ".py",
   "mimetype": "text/x-python",
   "name": "python",
   "nbconvert_exporter": "python",
   "pygments_lexer": "ipython3",
   "version": "3.12.9"
  }
 },
 "nbformat": 4,
 "nbformat_minor": 5
}
