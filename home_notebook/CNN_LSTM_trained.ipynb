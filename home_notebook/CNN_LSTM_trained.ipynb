{
 "cells": [
  {
   "cell_type": "code",
   "execution_count": 1,
   "id": "cc34050e-8bc1-44c2-8142-864766d04b5c",
   "metadata": {},
   "outputs": [],
   "source": [
    "import numpy as np\n",
    "import pandas as pd\n",
    "import h5py\n",
    "import json\n",
    "import matplotlib.pyplot as plt\n",
    "import torch\n",
    "import torch.nn as nn\n",
    "import torch.optim as optim\n",
    "from torch.utils.data import Dataset, DataLoader\n",
    "from torch.cuda.amp import GradScaler, autocast\n",
    "from torchinfo import summary\n",
    "from typing import Tuple, Optional\n",
    "import torch.utils.checkpoint as checkpoint\n",
    "from sklearn.metrics import confusion_matrix, classification_report\n",
    "from tqdm import tqdm, trange\n",
    "import seaborn as sns\n",
    "import gc\n",
    "import time\n",
    "import warnings\n",
    "from collections import deque\n",
    "import psutil\n",
    "import os"
   ]
  },
  {
   "cell_type": "code",
   "execution_count": 2,
   "id": "f3495d9e-ad27-41ff-b016-3abe39974e43",
   "metadata": {},
   "outputs": [
    {
     "name": "stdout",
     "output_type": "stream",
     "text": [
      "cuda\n"
     ]
    }
   ],
   "source": [
    "import torch \n",
    "\n",
    "device = torch.device(\"cuda\" if torch.cuda.is_available() else \"cpu\")\n",
    "print(device)"
   ]
  },
  {
   "cell_type": "code",
   "execution_count": 10,
   "id": "ea03e203-7acd-4443-bf61-d82f89bb6488",
   "metadata": {},
   "outputs": [
    {
     "name": "stdout",
     "output_type": "stream",
     "text": [
      "📋 Training Parameters:\n",
      "  Batch size: 1024\n",
      "  Epochs: 300\n"
     ]
    }
   ],
   "source": [
    "FILE_PATH = \"C:\\\\workarea\\\\CNN model\\\\dataset\\\\radioml2018\\\\versions\\\\2\\\\GOLD_XYZ_OSC.0001_1024.hdf5\"\n",
    "JSON_PATH = 'C:\\\\workarea\\\\CNN model\\\\dataset\\\\radioml2018\\\\versions\\\\2\\\\classes-fixed.json' \n",
    "\n",
    "TARGET_MODULATIONS = ['OOK','4ASK','8ASK','BPSK', 'QPSK', '8PSK','16PSK', '16QAM',\n",
    "                     '64QAM']\n",
    "#TARGET_MODULATIONS = ['OOK','4ASK','BPSK', 'QPSK', '8PSK','16QAM','GMSK']\n",
    "BATCH_SIZE = 1024 # adjust to my laptop \n",
    "#LEARNING_RATE = 0.003 \n",
    "NUM_EPOCHS = 300 \n",
    "NUM_WORKERS = 0 #Temporary check it  \n",
    "\n",
    "INPUT_CHANNELS = 2 \n",
    "SEQUENCE_LENGTH = 1024 \n",
    "NUM_CLASSES = len(TARGET_MODULATIONS) # adjust this to \n",
    "\n",
    "patience = 25\n",
    "# TRAIN_RATIO = 0.7 \n",
    "# VALID_RATIO = 0.2 \n",
    "# TEST_RATIO = 0.1 \n",
    "\n",
    "nf_train = int(BATCH_SIZE * 0.7)\n",
    "nf_valid = int(BATCH_SIZE * 0.2)\n",
    "nf_test  = BATCH_SIZE - nf_train - nf_valid\n",
    "\n",
    "print(\"📋 Training Parameters:\")\n",
    "print(f\"  Batch size: {BATCH_SIZE}\")\n",
    "#print(f\"  Learning rate: {LEARNING_RATE}\")\n",
    "print(f\"  Epochs: {NUM_EPOCHS}\")"
   ]
  },
  {
   "cell_type": "code",
   "execution_count": 11,
   "id": "168ec89f-a1d4-4aae-8be7-ae00209d8156",
   "metadata": {},
   "outputs": [],
   "source": [
    "def dataset_split(data,\n",
    "                  modulations_classes,\n",
    "                  modulations,\n",
    "                  snrs,\n",
    "                  target_modulations,\n",
    "                  mode,\n",
    "                  target_snrs,\n",
    "                  train_proportion=0.8, # training 70 %\n",
    "                  valid_proportion=0.2, # validation 20 %\n",
    "                  test_proportion=0.0, # testing 10 % \n",
    "                  seed=48):\n",
    "    np.random.seed(seed)\n",
    "    X_output = []\n",
    "    Y_output = []\n",
    "    Z_output = []                                   \n",
    "\n",
    "    target_modulation_indices = [modulations_classes.index(modu) for modu in target_modulations]\n",
    "\n",
    "    for modu in target_modulation_indices:\n",
    "        for snr in target_snrs:\n",
    "            snr_modu_indices = np.where((modulations == modu) & (snrs == snr))[0]\n",
    "\n",
    "            np.random.shuffle(snr_modu_indices)\n",
    "            num_samples = len(snr_modu_indices)\n",
    "            train_end = int(train_proportion * num_samples)\n",
    "            valid_end = int((train_proportion + valid_proportion) * num_samples)\n",
    "\n",
    "            if mode == 'train':\n",
    "                indices = snr_modu_indices[:train_end]\n",
    "            elif mode == 'valid':\n",
    "                indices = snr_modu_indices[train_end:valid_end]\n",
    "            elif mode == 'test':\n",
    "                indices = snr_modu_indices[valid_end:]\n",
    "            else:\n",
    "                raise ValueError(f'unknown mode: {mode}. Valid modes are train, valid and test')\n",
    "\n",
    "            X_output.append(data[np.sort(indices)])\n",
    "            Y_output.append(modulations[np.sort(indices)])\n",
    "            Z_output.append(snrs[np.sort(indices)])\n",
    "\n",
    "    X_array = np.vstack(X_output)\n",
    "    Y_array = np.concatenate(Y_output)\n",
    "    Z_array = np.concatenate(Z_output)\n",
    "    for index, value in enumerate(np.unique(np.copy(Y_array))):\n",
    "        Y_array[Y_array == value] = index\n",
    "    return X_array, Y_array, Z_array"
   ]
  },
  {
   "cell_type": "code",
   "execution_count": 12,
   "id": "6e08bd2d-0eb5-456b-812f-f983da5e4b8c",
   "metadata": {},
   "outputs": [],
   "source": [
    "class RadioMLIQDataset(Dataset):\n",
    "    \"\"\"Dataset class for RadioML18 data formatted for CNNIQModel dual-branch architecture.\n",
    "    \n",
    "    Loads RadioML18 HDF5 data and returns separate I and Q tensors in 2D format\n",
    "    suitable for CNNIQModel's separate branch processing.\n",
    "    \"\"\"\n",
    "    \n",
    "    def __init__(self, mode: str, use_fft: bool = False, seed: int = 48):\n",
    "        \"\"\"Initialize RadioMLIQDataset.\n",
    "        \n",
    "        Args:\n",
    "            mode: Dataset split mode ('train', 'valid', or 'test').\n",
    "            use_fft: Whether to apply FFT transformation to signals.\n",
    "            seed: Random seed for dataset splitting.\n",
    "            \n",
    "        Raises:\n",
    "            FileNotFoundError: If HDF5 or JSON files cannot be found.\n",
    "            ValueError: If mode is not valid or data dimensions are incompatible.\n",
    "        \"\"\"\n",
    "        super(RadioMLIQDataset, self).__init__()\n",
    "        \n",
    "        # Configuration (you'll need to define these constants)\n",
    "        self.file_path = FILE_PATH \n",
    "        self.json_path = JSON_PATH \n",
    "        self.target_modulations = TARGET_MODULATIONS\n",
    "        self.use_fft = use_fft\n",
    "        self.mode = mode\n",
    "        \n",
    "        # Validate mode\n",
    "        if mode not in ['train', 'valid', 'test']:\n",
    "            raise ValueError(f\"Mode must be 'train', 'valid', or 'test', got '{mode}'\")\n",
    "        \n",
    "        # Load data files\n",
    "        try:\n",
    "            self.hdf5_file = h5py.File(self.file_path, 'r')\n",
    "            self.modulation_classes = json.load(open(self.json_path, 'r'))\n",
    "        except FileNotFoundError as e:\n",
    "            raise FileNotFoundError(f\"Error loading data files: {e}\")\n",
    "        except Exception as e:\n",
    "            print(f\"Error loading file: {e}\")\n",
    "            raise e\n",
    "        \n",
    "        # Load raw data\n",
    "        self.X = self.hdf5_file['X']\n",
    "        self.Y = np.argmax(self.hdf5_file['Y'], axis=1)\n",
    "        self.Z = self.hdf5_file['Z'][:, 0]\n",
    "        \n",
    "       \n",
    "        num_mods = len(self.target_modulations)   \n",
    "        num_snrs = 26         \n",
    "        \n",
    "        train_proportion = (num_mods * num_snrs * nf_train) / self.X.shape[0]\n",
    "        valid_proportion = (num_mods * num_snrs * nf_valid) / self.X.shape[0]\n",
    "        test_proportion  = (num_mods * num_snrs * nf_test ) / self.X.shape[0]\n",
    "        \n",
    "        self.target_snrs = np.unique(self.Z)\n",
    "        \n",
    "        # Split dataset\n",
    "        self.X_data, self.Y_data, self.Z_data = dataset_split(\n",
    "            data=self.X,\n",
    "            modulations_classes=self.modulation_classes,\n",
    "            modulations=self.Y,\n",
    "            snrs=self.Z,\n",
    "            mode=mode,\n",
    "            train_proportion=train_proportion,\n",
    "            valid_proportion=valid_proportion,\n",
    "            test_proportion=test_proportion,\n",
    "            target_modulations=self.target_modulations,\n",
    "            target_snrs=self.target_snrs,\n",
    "            seed=seed\n",
    "        )\n",
    "        \n",
    "        # Apply I/Q swap correction for AMC compatibility\n",
    "        # print(f\"🔧 Applying I/Q swap fix to {mode} dataset...\")\n",
    "        self.X_data = self.X_data[:, :, [0, 1]]\n",
    "        # print(f\"✅ I/Q channels corrected for real-world compatibility\")\n",
    "        \n",
    "        # Validate signal length for 2D reshaping\n",
    "        signal_length = self.X_data.shape[1]\n",
    "        if signal_length != 1024:\n",
    "            raise ValueError(f\"Expected signal length 1024 for 32x32 reshape, got {signal_length}\")\n",
    "\n",
    "        import math\n",
    "        \n",
    "        L = signal_length\n",
    "        H = int(math.floor(math.sqrt(L)))\n",
    "        while L % H != 0:\n",
    "            H -= 1\n",
    "        W = L // H\n",
    "        \n",
    "        self.H, self.W = H, W\n",
    "        print(f\"🔧 Signals will be reshaped to ({H}, {W}) for sequence length {L}\")\n",
    "        print(f\"✅ Aspect ratio: {W/H:.2f}, Total elements preserved: {H*W} = {L}\")\n",
    "        \n",
    "        if self.use_fft:\n",
    "            print(\"Dataset configured to use FFT as input\")\n",
    "        \n",
    "        # Store dataset statistics\n",
    "        self.num_data = self.X_data.shape[0]\n",
    "        self.num_lbl = len(self.target_modulations)\n",
    "        self.num_snr = self.target_snrs.shape[0]\n",
    "        \n",
    "        print(f\"RadioMLIQDataset {mode}: {self.num_data} samples, \"\n",
    "              f\"{self.num_lbl} classes, {self.num_snr} SNR levels\")\n",
    "    \n",
    "    def __len__(self) -> int:\n",
    "        \"\"\"Return the number of samples in the dataset.\n",
    "        \n",
    "        Returns:\n",
    "            Number of samples.\n",
    "        \"\"\"\n",
    "        return self.X_data.shape[0]\n",
    "    \n",
    "\n",
    "    def __getitem__(self, idx: int):\n",
    "        if idx < 0 or idx >= self.num_data:\n",
    "            raise IndexError(f\"Index {idx} out of range for dataset of size {self.num_data}\")\n",
    "\n",
    "        # Raw sample\n",
    "        x_raw = self.X_data[idx]       # shape: (L, 2)\n",
    "        y     = int(self.Y_data[idx])  # scalar label\n",
    "        z     = float(self.Z_data[idx])\n",
    "\n",
    "        # To tensor & transpose to (2, L)\n",
    "        x = torch.from_numpy(x_raw).float().transpose(0, 1)\n",
    "\n",
    "        # Optional FFT preprocessing\n",
    "        if self.use_fft:\n",
    "            complex_sig = torch.complex(x[0], x[1])\n",
    "            fft_res     = torch.fft.fft(complex_sig)\n",
    "            x_real = torch.real(fft_res)\n",
    "            x_imag = torch.imag(fft_res)\n",
    "            x = torch.stack([x_real, x_imag], dim=0)\n",
    "\n",
    "        # Separate I/Q\n",
    "        i_signal = x[0]  # (L,)\n",
    "        q_signal = x[1]\n",
    "\n",
    "        # Convert to amplitude & phase\n",
    "        amplitude = torch.sqrt(i_signal**2 + q_signal**2)\n",
    "        phase     = torch.atan2(q_signal, i_signal)\n",
    "\n",
    "        # Dynamic reshape to 2D\n",
    "        i_2d = amplitude.view(1, self.H, self.W)\n",
    "        q_2d = phase.view(1, self.H, self.W)\n",
    "\n",
    "        return i_2d, q_2d, y, z\n",
    "\n",
    "    def get_signal_stats(self):\n",
    "        \"\"\"Compute basic stats over a sample of signals.\"\"\"\n",
    "        sample_indices = np.random.choice(self.num_data, min(1000, self.num_data), replace=False)\n",
    "        i_vals, q_vals = [], []\n",
    "        for idx in sample_indices:\n",
    "            i2d, q2d, _, _ = self[idx]\n",
    "            i_vals.append(i2d.flatten())\n",
    "            q_vals.append(q2d.flatten())\n",
    "        i_all = torch.cat(i_vals)\n",
    "        q_all = torch.cat(q_vals)\n",
    "        return {\n",
    "            'i_mean': i_all.mean().item(),\n",
    "            'i_std':  i_all.std().item(),\n",
    "            'q_mean': q_all.mean().item(),\n",
    "            'q_std':  q_all.std().item(),\n",
    "            'shape':  (1, self.H, self.W),\n",
    "            'num_samples': self.num_data\n",
    "        }\n",
    "\n",
    "    def close(self):\n",
    "        if hasattr(self, 'hdf5_file'):\n",
    "            self.hdf5_file.close()\n",
    "\n",
    "    def __del__(self):\n",
    "        self.close()"
   ]
  },
  {
   "cell_type": "code",
   "execution_count": 13,
   "id": "800d01db-341c-4ef0-963f-6a684f5d2334",
   "metadata": {},
   "outputs": [
    {
     "name": "stdout",
     "output_type": "stream",
     "text": [
      "✅ Successfully built CNNIQModel: CNNLSTMIQModel(\n",
      "  (i_branch): CNNLSTMBranch(\n",
      "    (conv1): Conv2d(1, 64, kernel_size=(3, 3), stride=(1, 1), padding=(1, 1))\n",
      "    (bn1): BatchNorm2d(64, eps=1e-05, momentum=0.1, affine=True, track_running_stats=True)\n",
      "    (conv1_2): Conv2d(64, 64, kernel_size=(3, 3), stride=(1, 1), padding=(1, 1))\n",
      "    (bn1_2): BatchNorm2d(64, eps=1e-05, momentum=0.1, affine=True, track_running_stats=True)\n",
      "    (conv2): Conv2d(64, 128, kernel_size=(3, 3), stride=(1, 1), padding=(1, 1))\n",
      "    (bn2): BatchNorm2d(128, eps=1e-05, momentum=0.1, affine=True, track_running_stats=True)\n",
      "    (conv2_2): Conv2d(128, 128, kernel_size=(3, 3), stride=(1, 1), padding=(1, 1))\n",
      "    (bn2_2): BatchNorm2d(128, eps=1e-05, momentum=0.1, affine=True, track_running_stats=True)\n",
      "    (pool): MaxPool2d(kernel_size=3, stride=2, padding=1, dilation=1, ceil_mode=False)\n",
      "    (leaky_relu): LeakyReLU(negative_slope=0.1, inplace=True)\n",
      "    (dropout): Dropout2d(p=0.15000000000000002, inplace=False)\n",
      "    (lstm1): LSTM(128, 100, batch_first=True)\n",
      "    (lstm2): LSTM(100, 50, batch_first=True)\n",
      "    (lstm_dropout): Dropout(p=0.15000000000000002, inplace=False)\n",
      "    (adaptive_pool): AdaptiveAvgPool2d(output_size=(8, 8))\n",
      "  )\n",
      "  (q_branch): CNNLSTMBranch(\n",
      "    (conv1): Conv2d(1, 64, kernel_size=(3, 3), stride=(1, 1), padding=(1, 1))\n",
      "    (bn1): BatchNorm2d(64, eps=1e-05, momentum=0.1, affine=True, track_running_stats=True)\n",
      "    (conv1_2): Conv2d(64, 64, kernel_size=(3, 3), stride=(1, 1), padding=(1, 1))\n",
      "    (bn1_2): BatchNorm2d(64, eps=1e-05, momentum=0.1, affine=True, track_running_stats=True)\n",
      "    (conv2): Conv2d(64, 128, kernel_size=(3, 3), stride=(1, 1), padding=(1, 1))\n",
      "    (bn2): BatchNorm2d(128, eps=1e-05, momentum=0.1, affine=True, track_running_stats=True)\n",
      "    (conv2_2): Conv2d(128, 128, kernel_size=(3, 3), stride=(1, 1), padding=(1, 1))\n",
      "    (bn2_2): BatchNorm2d(128, eps=1e-05, momentum=0.1, affine=True, track_running_stats=True)\n",
      "    (pool): MaxPool2d(kernel_size=3, stride=2, padding=1, dilation=1, ceil_mode=False)\n",
      "    (leaky_relu): LeakyReLU(negative_slope=0.1, inplace=True)\n",
      "    (dropout): Dropout2d(p=0.15000000000000002, inplace=False)\n",
      "    (lstm1): LSTM(128, 100, batch_first=True)\n",
      "    (lstm2): LSTM(100, 50, batch_first=True)\n",
      "    (lstm_dropout): Dropout(p=0.15000000000000002, inplace=False)\n",
      "    (adaptive_pool): AdaptiveAvgPool2d(output_size=(8, 8))\n",
      "  )\n",
      "  (classifier): Sequential(\n",
      "    (0): Linear(in_features=50, out_features=256, bias=True)\n",
      "    (1): BatchNorm1d(256, eps=1e-05, momentum=0.1, affine=True, track_running_stats=True)\n",
      "    (2): LeakyReLU(negative_slope=0.1, inplace=True)\n",
      "    (3): Dropout(p=0.2, inplace=False)\n",
      "    (4): Linear(in_features=256, out_features=128, bias=True)\n",
      "    (5): BatchNorm1d(128, eps=1e-05, momentum=0.1, affine=True, track_running_stats=True)\n",
      "    (6): LeakyReLU(negative_slope=0.1, inplace=True)\n",
      "    (7): Dropout(p=0.15000000000000002, inplace=False)\n",
      "    (8): Linear(in_features=128, out_features=64, bias=True)\n",
      "    (9): LeakyReLU(negative_slope=0.1, inplace=True)\n",
      "    (10): Dropout(p=0.1, inplace=False)\n",
      "    (11): Linear(in_features=64, out_features=9, bias=True)\n",
      "  )\n",
      ")\n"
     ]
    }
   ],
   "source": [
    "try:\n",
    "    from CNN_LSTM_IQ import create_enhanced_CNNLSTMIQModel\n",
    "\n",
    "    # Match the real signature: (n_labels, dropout_rate)\n",
    "    model_CNNLSMTIQ = create_enhanced_CNNLSTMIQModel(n_labels=NUM_CLASSES, dropout_rate=0.2).to(device)\n",
    "    print(\"✅ Successfully built CNNIQModel:\", model_CNNLSMTIQ)\n",
    "\n",
    "except Exception as e:\n",
    "    print(f\"⚠️ Could not build CNNIQModel: {e}\")"
   ]
  },
  {
   "cell_type": "code",
   "execution_count": 14,
   "id": "c5eb1d2e-e385-4065-9022-273972cddb0c",
   "metadata": {},
   "outputs": [
    {
     "name": "stderr",
     "output_type": "stream",
     "text": [
      "C:\\Users\\N208\\AppData\\Local\\Temp\\ipykernel_7288\\3676894505.py:18: FutureWarning: `torch.cuda.amp.GradScaler(args...)` is deprecated. Please use `torch.amp.GradScaler('cuda', args...)` instead.\n",
      "  scaler = GradScaler()\n"
     ]
    },
    {
     "name": "stdout",
     "output_type": "stream",
     "text": [
      "\n",
      "Loading datasets...\n",
      "🔧 Signals will be reshaped to (32, 32) for sequence length 1024\n",
      "✅ Aspect ratio: 1.00, Total elements preserved: 1024 = 1024\n",
      "RadioMLIQDataset train: 62712 samples, 9 classes, 26 SNR levels\n",
      "🔧 Signals will be reshaped to (32, 32) for sequence length 1024\n",
      "✅ Aspect ratio: 1.00, Total elements preserved: 1024 = 1024\n",
      "RadioMLIQDataset train: 62712 samples, 9 classes, 26 SNR levels\n",
      "🔧 Signals will be reshaped to (32, 32) for sequence length 1024\n",
      "✅ Aspect ratio: 1.00, Total elements preserved: 1024 = 1024\n",
      "RadioMLIQDataset valid: 18018 samples, 9 classes, 26 SNR levels\n",
      "Datasets loaded successfully.\n",
      "Total dataset size: 62712\n",
      "Train dataset size: 62712 (80%)\n",
      "Validation dataset size: 18018 (20%)\n",
      "\n",
      "Starting training...\n"
     ]
    },
    {
     "name": "stderr",
     "output_type": "stream",
     "text": [
      "Epochs:   0%|                                           | 0/300 [00:00<?, ?it/s]\n",
      "Training:   0%|                      | 0/62 [00:00<?, ?it/s]\u001b[AC:\\Users\\N208\\AppData\\Local\\Temp\\ipykernel_7288\\3676894505.py:82: FutureWarning: `torch.cuda.amp.autocast(args...)` is deprecated. Please use `torch.amp.autocast('cuda', args...)` instead.\n",
      "  with autocast():\n",
      "\n",
      "Training:   8%|█▏            | 5/62 [00:01<00:11,  4.92it/s]\u001b[A\n",
      "Training:  19%|██▌          | 12/62 [00:02<00:08,  5.85it/s]\u001b[A\n",
      "Training:  31%|███▉         | 19/62 [00:03<00:07,  6.13it/s]\u001b[A\n",
      "Training:  42%|█████▍       | 26/62 [00:04<00:05,  6.25it/s]\u001b[A\n",
      "Training:  53%|██████▉      | 33/62 [00:05<00:04,  6.29it/s]\u001b[A\n",
      "Training:  65%|████████▍    | 40/62 [00:06<00:03,  6.33it/s]\u001b[A\n",
      "Training:  76%|█████████▊   | 47/62 [00:07<00:02,  6.24it/s]\u001b[A\n",
      "Training:  87%|███████████▎ | 54/62 [00:08<00:01,  6.27it/s]\u001b[A\n",
      "Training:  98%|████████████▊| 61/62 [00:09<00:00,  6.32it/s]\u001b[A\n",
      "                                                            \u001b[A\n",
      "Validation:   0%|                    | 0/18 [00:00<?, ?it/s]\u001b[A\n",
      "Validation:  78%|████████▌  | 14/18 [00:01<00:00, 13.17it/s]\u001b[A\n",
      "                                                            \u001b[AC:\\Users\\N208\\.conda\\envs\\amc_env\\Lib\\site-packages\\torch\\optim\\lr_scheduler.py:198: UserWarning: The epoch parameter in `scheduler.step()` was not necessary and is being deprecated where possible. Please use `scheduler.step()` to step the scheduler. During the deprecation, if epoch is different from None, the closed form is used instead of the new chainable form, where available. Please open an issue if you are unable to replicate your use case: https://github.com/pytorch/pytorch/issues/new/choose.\n",
      "  warnings.warn(EPOCH_DEPRECATION_WARNING, UserWarning)\n",
      "Epochs:   0%|                                   | 1/300 [00:11<55:52, 11.21s/it]"
     ]
    },
    {
     "name": "stdout",
     "output_type": "stream",
     "text": [
      "Epoch 1/300: Train Loss: 2.5373 | Train Acc: 26.30% | Valid Loss: 1.8118 | Valid Acc: 35.02%\n"
     ]
    },
    {
     "name": "stderr",
     "output_type": "stream",
     "text": [
      "\n",
      "Training:   0%|                      | 0/62 [00:00<?, ?it/s]\u001b[A\n",
      "Training:  10%|█▎            | 6/62 [00:01<00:09,  5.81it/s]\u001b[A\n",
      "Training:  21%|██▋          | 13/62 [00:02<00:07,  6.21it/s]\u001b[A\n",
      "Training:  32%|████▏        | 20/62 [00:03<00:06,  6.20it/s]\u001b[A\n",
      "Training:  44%|█████▋       | 27/62 [00:04<00:05,  6.18it/s]\u001b[A\n",
      "Training:  55%|███████▏     | 34/62 [00:05<00:04,  6.24it/s]\u001b[A\n",
      "Training:  66%|████████▌    | 41/62 [00:06<00:03,  6.31it/s]\u001b[A\n",
      "Training:  77%|██████████   | 48/62 [00:07<00:02,  6.19it/s]\u001b[A\n",
      "Training:  89%|███████████▌ | 55/62 [00:08<00:01,  6.26it/s]\u001b[A\n",
      "                                                            \u001b[A\n",
      "Validation:   0%|                    | 0/18 [00:00<?, ?it/s]\u001b[A\n",
      "Validation:  78%|████████▌  | 14/18 [00:01<00:00, 13.11it/s]\u001b[A\n",
      "Epochs:   1%|▏                                  | 2/300 [00:22<55:36, 11.20s/it]"
     ]
    },
    {
     "name": "stdout",
     "output_type": "stream",
     "text": [
      "Epoch 2/300: Train Loss: 1.8229 | Train Acc: 36.72% | Valid Loss: 1.6765 | Valid Acc: 41.49%\n"
     ]
    },
    {
     "name": "stderr",
     "output_type": "stream",
     "text": [
      "\n",
      "Training:   0%|                      | 0/62 [00:00<?, ?it/s]\u001b[A\n",
      "Training:  11%|█▌            | 7/62 [00:01<00:08,  6.37it/s]\u001b[A\n",
      "Training:  23%|██▉          | 14/62 [00:02<00:07,  6.35it/s]\u001b[A\n",
      "Training:  34%|████▍        | 21/62 [00:03<00:06,  6.39it/s]\u001b[A\n",
      "Training:  45%|█████▊       | 28/62 [00:04<00:05,  6.24it/s]\u001b[A\n",
      "Training:  56%|███████▎     | 35/62 [00:05<00:04,  6.29it/s]\u001b[A\n",
      "Training:  68%|████████▊    | 42/62 [00:06<00:03,  6.32it/s]\u001b[A\n",
      "Training:  79%|██████████▎  | 49/62 [00:07<00:02,  6.34it/s]\u001b[A\n",
      "Training:  90%|███████████▋ | 56/62 [00:08<00:00,  6.37it/s]\u001b[A\n",
      "                                                            \u001b[A\n",
      "Validation:   0%|                    | 0/18 [00:00<?, ?it/s]\u001b[A\n",
      "Validation:  78%|████████▌  | 14/18 [00:01<00:00, 13.98it/s]\u001b[A\n",
      "Epochs:   1%|▎                                  | 3/300 [00:33<54:48, 11.07s/it]"
     ]
    },
    {
     "name": "stdout",
     "output_type": "stream",
     "text": [
      "Epoch 3/300: Train Loss: 1.7432 | Train Acc: 39.78% | Valid Loss: 1.6398 | Valid Acc: 43.58%\n"
     ]
    },
    {
     "name": "stderr",
     "output_type": "stream",
     "text": [
      "\n",
      "Training:   0%|                      | 0/62 [00:00<?, ?it/s]\u001b[A\n",
      "Training:  11%|█▌            | 7/62 [00:01<00:08,  6.37it/s]\u001b[A\n",
      "Training:  23%|██▉          | 14/62 [00:02<00:07,  6.37it/s]\u001b[A\n",
      "Training:  34%|████▍        | 21/62 [00:03<00:06,  6.20it/s]\u001b[A\n",
      "Training:  45%|█████▊       | 28/62 [00:04<00:05,  6.29it/s]\u001b[A\n",
      "Training:  56%|███████▎     | 35/62 [00:05<00:04,  6.32it/s]\u001b[A\n",
      "Training:  68%|████████▊    | 42/62 [00:06<00:03,  6.33it/s]\u001b[A\n",
      "Training:  79%|██████████▎  | 49/62 [00:07<00:02,  6.36it/s]\u001b[A\n",
      "Training:  90%|███████████▋ | 56/62 [00:08<00:00,  6.40it/s]\u001b[A\n",
      "                                                            \u001b[A\n",
      "Validation:   0%|                    | 0/18 [00:00<?, ?it/s]\u001b[A\n",
      "Validation:  78%|████████▌  | 14/18 [00:01<00:00, 13.96it/s]\u001b[A\n",
      "Epochs:   1%|▍                                  | 4/300 [00:44<54:17, 11.01s/it]"
     ]
    },
    {
     "name": "stdout",
     "output_type": "stream",
     "text": [
      "Epoch 4/300: Train Loss: 1.7054 | Train Acc: 41.79% | Valid Loss: 1.6331 | Valid Acc: 43.99%\n"
     ]
    },
    {
     "name": "stderr",
     "output_type": "stream",
     "text": [
      "\n",
      "Training:   0%|                      | 0/62 [00:00<?, ?it/s]\u001b[A\n",
      "Training:  11%|█▌            | 7/62 [00:01<00:08,  6.50it/s]\u001b[A\n",
      "Training:  23%|██▉          | 14/62 [00:02<00:07,  6.47it/s]\u001b[A\n",
      "Training:  34%|████▍        | 21/62 [00:03<00:06,  6.46it/s]\u001b[A\n",
      "Training:  45%|█████▊       | 28/62 [00:04<00:05,  6.46it/s]\u001b[A\n",
      "Training:  56%|███████▎     | 35/62 [00:05<00:04,  6.46it/s]\u001b[A\n",
      "Training:  68%|████████▊    | 42/62 [00:06<00:03,  6.29it/s]\u001b[A\n",
      "Training:  79%|██████████▎  | 49/62 [00:07<00:02,  6.32it/s]\u001b[A\n",
      "Training:  90%|███████████▋ | 56/62 [00:08<00:00,  6.34it/s]\u001b[A\n",
      "                                                            \u001b[A\n",
      "Validation:   0%|                    | 0/18 [00:00<?, ?it/s]\u001b[A\n",
      "Validation:  78%|████████▌  | 14/18 [00:01<00:00, 13.97it/s]\u001b[A\n",
      "Epochs:   2%|▌                                  | 5/300 [00:55<53:51, 10.95s/it]"
     ]
    },
    {
     "name": "stdout",
     "output_type": "stream",
     "text": [
      "Epoch 5/300: Train Loss: 1.6794 | Train Acc: 43.51% | Valid Loss: 1.6016 | Valid Acc: 48.63%\n"
     ]
    },
    {
     "name": "stderr",
     "output_type": "stream",
     "text": [
      "\n",
      "Training:   0%|                      | 0/62 [00:00<?, ?it/s]\u001b[A\n",
      "Training:  11%|█▌            | 7/62 [00:01<00:08,  6.41it/s]\u001b[A\n",
      "Training:  23%|██▉          | 14/62 [00:02<00:07,  6.31it/s]\u001b[A\n",
      "Training:  34%|████▍        | 21/62 [00:03<00:06,  6.02it/s]\u001b[A\n",
      "Training:  45%|█████▊       | 28/62 [00:04<00:05,  6.04it/s]\u001b[A\n",
      "Training:  56%|███████▎     | 35/62 [00:05<00:04,  6.18it/s]\u001b[A\n",
      "Training:  68%|████████▊    | 42/62 [00:06<00:03,  6.24it/s]\u001b[A\n",
      "Training:  79%|██████████▎  | 49/62 [00:07<00:02,  6.29it/s]\u001b[A\n",
      "Training:  90%|███████████▋ | 56/62 [00:08<00:00,  6.35it/s]\u001b[A\n",
      "                                                            \u001b[A\n",
      "Validation:   0%|                    | 0/18 [00:00<?, ?it/s]\u001b[A\n",
      "Validation:  78%|████████▌  | 14/18 [00:01<00:00, 13.99it/s]\u001b[A\n",
      "Epochs:   2%|▋                                  | 6/300 [01:06<53:49, 10.98s/it]"
     ]
    },
    {
     "name": "stdout",
     "output_type": "stream",
     "text": [
      "Epoch 6/300: Train Loss: 1.6518 | Train Acc: 45.42% | Valid Loss: 1.5766 | Valid Acc: 48.66%\n"
     ]
    },
    {
     "name": "stderr",
     "output_type": "stream",
     "text": [
      "\n",
      "Training:   0%|                      | 0/62 [00:00<?, ?it/s]\u001b[A\n",
      "Training:  11%|█▌            | 7/62 [00:01<00:08,  6.47it/s]\u001b[A\n",
      "Training:  23%|██▉          | 14/62 [00:02<00:07,  6.46it/s]\u001b[A\n",
      "Training:  34%|████▍        | 21/62 [00:03<00:06,  6.22it/s]\u001b[A\n",
      "Training:  45%|█████▊       | 28/62 [00:04<00:05,  6.30it/s]\u001b[A\n",
      "Training:  56%|███████▎     | 35/62 [00:05<00:04,  6.33it/s]\u001b[A\n",
      "Training:  68%|████████▊    | 42/62 [00:06<00:03,  6.37it/s]\u001b[A\n",
      "Training:  79%|██████████▎  | 49/62 [00:07<00:02,  6.40it/s]\u001b[A\n",
      "Training:  90%|███████████▋ | 56/62 [00:08<00:00,  6.42it/s]\u001b[A\n",
      "                                                            \u001b[A\n",
      "Validation:   0%|                    | 0/18 [00:00<?, ?it/s]\u001b[A\n",
      "Validation:  78%|████████▌  | 14/18 [00:01<00:00, 13.89it/s]\u001b[A\n",
      "Epochs:   2%|▊                                  | 7/300 [01:17<53:28, 10.95s/it]"
     ]
    },
    {
     "name": "stdout",
     "output_type": "stream",
     "text": [
      "Epoch 7/300: Train Loss: 1.6245 | Train Acc: 47.62% | Valid Loss: 1.5706 | Valid Acc: 48.71%\n"
     ]
    },
    {
     "name": "stderr",
     "output_type": "stream",
     "text": [
      "\n",
      "Training:   0%|                      | 0/62 [00:00<?, ?it/s]\u001b[A\n",
      "Training:  11%|█▌            | 7/62 [00:01<00:08,  6.46it/s]\u001b[A\n",
      "Training:  23%|██▉          | 14/62 [00:02<00:07,  6.46it/s]\u001b[A\n",
      "Training:  34%|████▍        | 21/62 [00:03<00:06,  6.42it/s]\u001b[A\n",
      "Training:  45%|█████▊       | 28/62 [00:04<00:05,  6.31it/s]\u001b[A\n",
      "Training:  56%|███████▎     | 35/62 [00:05<00:04,  6.24it/s]\u001b[A\n",
      "Training:  68%|████████▊    | 42/62 [00:06<00:03,  6.28it/s]\u001b[A\n",
      "Training:  79%|██████████▎  | 49/62 [00:07<00:02,  6.20it/s]\u001b[A\n",
      "Training:  90%|███████████▋ | 56/62 [00:08<00:00,  6.29it/s]\u001b[A\n",
      "                                                            \u001b[A\n",
      "Validation:   0%|                    | 0/18 [00:00<?, ?it/s]\u001b[A\n",
      "Validation:  83%|█████████▏ | 15/18 [00:01<00:00, 14.04it/s]\u001b[A\n",
      "Epochs:   3%|▉                                  | 8/300 [01:27<53:18, 10.95s/it]"
     ]
    },
    {
     "name": "stdout",
     "output_type": "stream",
     "text": [
      "Epoch 8/300: Train Loss: 1.5973 | Train Acc: 48.96% | Valid Loss: 1.5426 | Valid Acc: 50.85%\n"
     ]
    },
    {
     "name": "stderr",
     "output_type": "stream",
     "text": [
      "\n",
      "Training:   0%|                      | 0/62 [00:00<?, ?it/s]\u001b[A\n",
      "Training:  11%|█▌            | 7/62 [00:01<00:08,  6.50it/s]\u001b[A\n",
      "Training:  23%|██▉          | 14/62 [00:02<00:07,  6.49it/s]\u001b[A\n",
      "Training:  34%|████▍        | 21/62 [00:03<00:06,  6.48it/s]\u001b[A\n",
      "Training:  45%|█████▊       | 28/62 [00:04<00:05,  6.48it/s]\u001b[A\n",
      "Training:  56%|███████▎     | 35/62 [00:05<00:04,  6.48it/s]\u001b[A\n",
      "Training:  68%|████████▊    | 42/62 [00:06<00:03,  6.47it/s]\u001b[A\n",
      "Training:  79%|██████████▎  | 49/62 [00:07<00:02,  6.47it/s]\u001b[A\n",
      "Training:  90%|███████████▋ | 56/62 [00:08<00:00,  6.47it/s]\u001b[A\n",
      "                                                            \u001b[A\n",
      "Validation:   0%|                    | 0/18 [00:00<?, ?it/s]\u001b[A\n",
      "Validation:  72%|███████▉   | 13/18 [00:01<00:00, 12.99it/s]\u001b[A\n",
      "Epochs:   3%|█                                  | 9/300 [01:38<52:56, 10.91s/it]"
     ]
    },
    {
     "name": "stdout",
     "output_type": "stream",
     "text": [
      "Epoch 9/300: Train Loss: 1.5766 | Train Acc: 50.30% | Valid Loss: 1.5140 | Valid Acc: 53.07%\n"
     ]
    },
    {
     "name": "stderr",
     "output_type": "stream",
     "text": [
      "\n",
      "Training:   0%|                      | 0/62 [00:00<?, ?it/s]\u001b[A\n",
      "Training:  11%|█▌            | 7/62 [00:01<00:08,  6.24it/s]\u001b[A\n",
      "Training:  23%|██▉          | 14/62 [00:02<00:07,  6.37it/s]\u001b[A\n",
      "Training:  34%|████▍        | 21/62 [00:03<00:06,  6.43it/s]\u001b[A\n",
      "Training:  45%|█████▊       | 28/62 [00:04<00:05,  6.27it/s]\u001b[A\n",
      "Training:  56%|███████▎     | 35/62 [00:05<00:04,  6.34it/s]\u001b[A\n",
      "Training:  68%|████████▊    | 42/62 [00:06<00:03,  6.39it/s]\u001b[A\n",
      "Training:  79%|██████████▎  | 49/62 [00:07<00:02,  6.42it/s]\u001b[A\n",
      "Training:  90%|███████████▋ | 56/62 [00:08<00:00,  6.44it/s]\u001b[A\n",
      "                                                            \u001b[A\n",
      "Validation:   0%|                    | 0/18 [00:00<?, ?it/s]\u001b[A\n",
      "Validation:  83%|█████████▏ | 15/18 [00:01<00:00, 14.12it/s]\u001b[A\n",
      "Epochs:   3%|█▏                                | 10/300 [01:49<52:37, 10.89s/it]"
     ]
    },
    {
     "name": "stdout",
     "output_type": "stream",
     "text": [
      "Epoch 10/300: Train Loss: 1.5669 | Train Acc: 50.90% | Valid Loss: 1.5065 | Valid Acc: 53.60%\n"
     ]
    },
    {
     "name": "stderr",
     "output_type": "stream",
     "text": [
      "\n",
      "Training:   0%|                      | 0/62 [00:00<?, ?it/s]\u001b[A\n",
      "Training:  10%|█▎            | 6/62 [00:01<00:09,  5.96it/s]\u001b[A\n",
      "Training:  21%|██▋          | 13/62 [00:02<00:07,  6.28it/s]\u001b[A\n",
      "Training:  32%|████▏        | 20/62 [00:03<00:06,  6.37it/s]\u001b[A\n",
      "Training:  44%|█████▋       | 27/62 [00:04<00:05,  6.40it/s]\u001b[A\n",
      "Training:  55%|███████▏     | 34/62 [00:05<00:04,  6.39it/s]\u001b[A\n",
      "Training:  66%|████████▌    | 41/62 [00:06<00:03,  6.40it/s]\u001b[A\n",
      "Training:  77%|██████████   | 48/62 [00:07<00:02,  6.41it/s]\u001b[A\n",
      "Training:  89%|███████████▌ | 55/62 [00:08<00:01,  6.43it/s]\u001b[A\n",
      "                                                            \u001b[A\n",
      "Validation:   0%|                    | 0/18 [00:00<?, ?it/s]\u001b[A\n",
      "Validation:  72%|███████▉   | 13/18 [00:01<00:00, 12.80it/s]\u001b[A\n",
      "Epochs:   4%|█▏                                | 11/300 [02:00<52:31, 10.90s/it]"
     ]
    },
    {
     "name": "stdout",
     "output_type": "stream",
     "text": [
      "Epoch 11/300: Train Loss: 1.5636 | Train Acc: 51.15% | Valid Loss: 1.4999 | Valid Acc: 53.74%\n"
     ]
    },
    {
     "name": "stderr",
     "output_type": "stream",
     "text": [
      "\n",
      "Training:   0%|                      | 0/62 [00:00<?, ?it/s]\u001b[A\n",
      "Training:  11%|█▌            | 7/62 [00:01<00:08,  6.44it/s]\u001b[A\n",
      "Training:  23%|██▉          | 14/62 [00:02<00:07,  6.39it/s]\u001b[A\n",
      "Training:  34%|████▍        | 21/62 [00:03<00:06,  6.40it/s]\u001b[A\n",
      "Training:  45%|█████▊       | 28/62 [00:04<00:05,  6.42it/s]\u001b[A\n",
      "Training:  56%|███████▎     | 35/62 [00:05<00:04,  6.35it/s]\u001b[A\n",
      "Training:  68%|████████▊    | 42/62 [00:06<00:03,  6.36it/s]\u001b[A\n",
      "Training:  79%|██████████▎  | 49/62 [00:07<00:02,  6.40it/s]\u001b[A\n",
      "Training:  90%|███████████▋ | 56/62 [00:08<00:00,  6.39it/s]\u001b[A\n",
      "                                                            \u001b[A\n",
      "Validation:   0%|                    | 0/18 [00:00<?, ?it/s]\u001b[A\n",
      "Validation:  78%|████████▌  | 14/18 [00:01<00:00, 13.98it/s]\u001b[A\n",
      "Epochs:   4%|█▎                                | 12/300 [02:11<52:16, 10.89s/it]"
     ]
    },
    {
     "name": "stdout",
     "output_type": "stream",
     "text": [
      "Epoch 12/300: Train Loss: 1.5558 | Train Acc: 51.40% | Valid Loss: 1.4975 | Valid Acc: 53.91%\n"
     ]
    },
    {
     "name": "stderr",
     "output_type": "stream",
     "text": [
      "\n",
      "Training:   0%|                      | 0/62 [00:00<?, ?it/s]\u001b[A\n",
      "Training:  10%|█▎            | 6/62 [00:01<00:09,  5.94it/s]\u001b[A\n",
      "Training:  21%|██▋          | 13/62 [00:02<00:07,  6.24it/s]\u001b[A\n",
      "Training:  32%|████▏        | 20/62 [00:03<00:06,  6.34it/s]\u001b[A\n",
      "Training:  44%|█████▋       | 27/62 [00:04<00:05,  6.38it/s]\u001b[A\n",
      "Training:  55%|███████▏     | 34/62 [00:05<00:04,  6.39it/s]\u001b[A\n",
      "Training:  66%|████████▌    | 41/62 [00:06<00:03,  6.41it/s]\u001b[A\n",
      "Training:  77%|██████████   | 48/62 [00:07<00:02,  6.42it/s]\u001b[A\n",
      "Training:  89%|███████████▌ | 55/62 [00:08<00:01,  6.44it/s]\u001b[A\n",
      "                                                            \u001b[A\n",
      "Validation:   0%|                    | 0/18 [00:00<?, ?it/s]\u001b[A\n",
      "Validation:  72%|███████▉   | 13/18 [00:01<00:00, 12.77it/s]\u001b[A\n",
      "Epochs:   4%|█▍                                | 13/300 [02:22<52:10, 10.91s/it]"
     ]
    },
    {
     "name": "stdout",
     "output_type": "stream",
     "text": [
      "Epoch 13/300: Train Loss: 1.5507 | Train Acc: 51.91% | Valid Loss: 1.5025 | Valid Acc: 53.01%\n"
     ]
    },
    {
     "name": "stderr",
     "output_type": "stream",
     "text": [
      "\n",
      "Training:   0%|                      | 0/62 [00:00<?, ?it/s]\u001b[A\n",
      "Training:  11%|█▌            | 7/62 [00:01<00:08,  6.42it/s]\u001b[A\n",
      "Training:  23%|██▉          | 14/62 [00:02<00:07,  6.46it/s]\u001b[A\n",
      "Training:  34%|████▍        | 21/62 [00:03<00:06,  6.47it/s]\u001b[A\n",
      "Training:  45%|█████▊       | 28/62 [00:04<00:05,  6.35it/s]\u001b[A\n",
      "Training:  56%|███████▎     | 35/62 [00:05<00:04,  6.40it/s]\u001b[A\n",
      "Training:  68%|████████▊    | 42/62 [00:06<00:03,  6.41it/s]\u001b[A\n",
      "Training:  79%|██████████▎  | 49/62 [00:07<00:02,  6.42it/s]\u001b[A\n",
      "Training:  90%|███████████▋ | 56/62 [00:08<00:00,  6.29it/s]\u001b[A\n",
      "                                                            \u001b[A\n",
      "Validation:   0%|                    | 0/18 [00:00<?, ?it/s]\u001b[A\n",
      "Validation:  78%|████████▌  | 14/18 [00:01<00:00, 13.93it/s]\u001b[A\n",
      "Epochs:   5%|█▌                                | 14/300 [02:33<51:57, 10.90s/it]"
     ]
    },
    {
     "name": "stdout",
     "output_type": "stream",
     "text": [
      "Epoch 14/300: Train Loss: 1.5450 | Train Acc: 52.18% | Valid Loss: 1.5021 | Valid Acc: 53.15%\n"
     ]
    },
    {
     "name": "stderr",
     "output_type": "stream",
     "text": [
      "\n",
      "Training:   0%|                      | 0/62 [00:00<?, ?it/s]\u001b[A\n",
      "Training:  11%|█▌            | 7/62 [00:01<00:08,  6.35it/s]\u001b[A\n",
      "Training:  23%|██▉          | 14/62 [00:02<00:07,  6.41it/s]\u001b[A\n",
      "Training:  34%|████▍        | 21/62 [00:03<00:06,  6.43it/s]\u001b[A\n",
      "Training:  45%|█████▊       | 28/62 [00:04<00:05,  6.45it/s]\u001b[A\n",
      "Training:  56%|███████▎     | 35/62 [00:05<00:04,  6.45it/s]\u001b[A\n",
      "Training:  68%|████████▊    | 42/62 [00:06<00:03,  6.43it/s]\u001b[A\n",
      "Training:  79%|██████████▎  | 49/62 [00:07<00:02,  6.42it/s]\u001b[A\n",
      "Training:  90%|███████████▋ | 56/62 [00:08<00:00,  6.41it/s]\u001b[A\n",
      "                                                            \u001b[A\n",
      "Validation:   0%|                    | 0/18 [00:00<?, ?it/s]\u001b[A\n",
      "Validation:  72%|███████▉   | 13/18 [00:01<00:00, 12.79it/s]\u001b[A\n",
      "Epochs:   5%|█▋                                | 15/300 [02:44<51:46, 10.90s/it]"
     ]
    },
    {
     "name": "stdout",
     "output_type": "stream",
     "text": [
      "Epoch 15/300: Train Loss: 1.5400 | Train Acc: 52.50% | Valid Loss: 1.5004 | Valid Acc: 52.98%\n"
     ]
    },
    {
     "name": "stderr",
     "output_type": "stream",
     "text": [
      "\n",
      "Training:   0%|                      | 0/62 [00:00<?, ?it/s]\u001b[A\n",
      "Training:  11%|█▌            | 7/62 [00:01<00:08,  6.46it/s]\u001b[A\n",
      "Training:  23%|██▉          | 14/62 [00:02<00:07,  6.32it/s]\u001b[A\n",
      "Training:  34%|████▍        | 21/62 [00:03<00:06,  6.29it/s]\u001b[A\n",
      "Training:  45%|█████▊       | 28/62 [00:04<00:05,  6.36it/s]\u001b[A\n",
      "Training:  56%|███████▎     | 35/62 [00:05<00:04,  6.38it/s]\u001b[A\n",
      "Training:  68%|████████▊    | 42/62 [00:06<00:03,  6.37it/s]\u001b[A\n",
      "Training:  79%|██████████▎  | 49/62 [00:07<00:02,  6.39it/s]\u001b[A\n",
      "Training:  90%|███████████▋ | 56/62 [00:08<00:00,  6.42it/s]\u001b[A\n",
      "                                                            \u001b[A\n",
      "Validation:   0%|                    | 0/18 [00:00<?, ?it/s]\u001b[A\n",
      "Validation:  78%|████████▌  | 14/18 [00:01<00:00, 13.93it/s]\u001b[A\n",
      "Epochs:   5%|█▊                                | 16/300 [02:55<51:39, 10.91s/it]"
     ]
    },
    {
     "name": "stdout",
     "output_type": "stream",
     "text": [
      "Epoch 16/300: Train Loss: 1.5367 | Train Acc: 52.86% | Valid Loss: 1.5005 | Valid Acc: 53.84%\n"
     ]
    },
    {
     "name": "stderr",
     "output_type": "stream",
     "text": [
      "\n",
      "Training:   0%|                      | 0/62 [00:00<?, ?it/s]\u001b[A\n",
      "Training:  11%|█▌            | 7/62 [00:01<00:08,  6.45it/s]\u001b[A\n",
      "Training:  23%|██▉          | 14/62 [00:02<00:07,  6.41it/s]\u001b[A\n",
      "Training:  34%|████▍        | 21/62 [00:03<00:06,  6.43it/s]\u001b[A\n",
      "Training:  45%|█████▊       | 28/62 [00:04<00:05,  6.44it/s]\u001b[A\n",
      "Training:  56%|███████▎     | 35/62 [00:05<00:04,  6.41it/s]\u001b[A\n",
      "Training:  68%|████████▊    | 42/62 [00:06<00:03,  6.39it/s]\u001b[A\n",
      "Training:  79%|██████████▎  | 49/62 [00:07<00:02,  6.41it/s]\u001b[A\n",
      "Training:  90%|███████████▋ | 56/62 [00:08<00:00,  6.28it/s]\u001b[A\n",
      "                                                            \u001b[A\n",
      "Validation:   0%|                    | 0/18 [00:00<?, ?it/s]\u001b[A\n",
      "Validation:  78%|████████▌  | 14/18 [00:01<00:00, 13.87it/s]\u001b[A\n",
      "Epochs:   6%|█▉                                | 17/300 [03:06<51:26, 10.91s/it]"
     ]
    },
    {
     "name": "stdout",
     "output_type": "stream",
     "text": [
      "Epoch 17/300: Train Loss: 1.5338 | Train Acc: 52.97% | Valid Loss: 1.4931 | Valid Acc: 53.75%\n"
     ]
    },
    {
     "name": "stderr",
     "output_type": "stream",
     "text": [
      "\n",
      "Training:   0%|                      | 0/62 [00:00<?, ?it/s]\u001b[A\n",
      "Training:  11%|█▌            | 7/62 [00:01<00:08,  6.16it/s]\u001b[A\n",
      "Training:  23%|██▉          | 14/62 [00:02<00:07,  6.18it/s]\u001b[A\n",
      "Training:  34%|████▍        | 21/62 [00:03<00:06,  6.10it/s]\u001b[A\n",
      "Training:  45%|█████▊       | 28/62 [00:04<00:05,  6.23it/s]\u001b[A\n",
      "Training:  56%|███████▎     | 35/62 [00:05<00:04,  6.31it/s]\u001b[A\n",
      "Training:  68%|████████▊    | 42/62 [00:06<00:03,  6.28it/s]\u001b[A\n",
      "Training:  79%|██████████▎  | 49/62 [00:07<00:02,  6.17it/s]\u001b[A\n",
      "Training:  90%|███████████▋ | 56/62 [00:08<00:00,  6.26it/s]\u001b[A\n",
      "                                                            \u001b[A\n",
      "Validation:   0%|                    | 0/18 [00:00<?, ?it/s]\u001b[A\n",
      "Validation:  78%|████████▌  | 14/18 [00:01<00:00, 13.89it/s]\u001b[A\n",
      "Epochs:   6%|██                                | 18/300 [03:17<51:30, 10.96s/it]"
     ]
    },
    {
     "name": "stdout",
     "output_type": "stream",
     "text": [
      "Epoch 18/300: Train Loss: 1.5316 | Train Acc: 53.21% | Valid Loss: 1.5013 | Valid Acc: 52.52%\n"
     ]
    },
    {
     "name": "stderr",
     "output_type": "stream",
     "text": [
      "\n",
      "Training:   0%|                      | 0/62 [00:00<?, ?it/s]\u001b[A\n",
      "Training:  11%|█▌            | 7/62 [00:01<00:08,  6.46it/s]\u001b[A\n",
      "Training:  23%|██▉          | 14/62 [00:02<00:07,  6.45it/s]\u001b[A\n",
      "Training:  34%|████▍        | 21/62 [00:03<00:06,  6.45it/s]\u001b[A\n",
      "Training:  45%|█████▊       | 28/62 [00:04<00:05,  6.45it/s]\u001b[A\n",
      "Training:  56%|███████▎     | 35/62 [00:05<00:04,  6.40it/s]\u001b[A\n",
      "Training:  68%|████████▊    | 42/62 [00:06<00:03,  6.26it/s]\u001b[A\n",
      "Training:  79%|██████████▎  | 49/62 [00:07<00:02,  6.31it/s]\u001b[A\n",
      "Training:  90%|███████████▋ | 56/62 [00:08<00:00,  6.32it/s]\u001b[A\n",
      "                                                            \u001b[A\n",
      "Validation:   0%|                    | 0/18 [00:00<?, ?it/s]\u001b[A\n",
      "Validation:  83%|█████████▏ | 15/18 [00:01<00:00, 14.12it/s]\u001b[A\n",
      "Epochs:   6%|██▏                               | 19/300 [03:27<51:11, 10.93s/it]"
     ]
    },
    {
     "name": "stdout",
     "output_type": "stream",
     "text": [
      "Epoch 19/300: Train Loss: 1.5232 | Train Acc: 53.81% | Valid Loss: 1.5387 | Valid Acc: 51.25%\n"
     ]
    },
    {
     "name": "stderr",
     "output_type": "stream",
     "text": [
      "\n",
      "Training:   0%|                      | 0/62 [00:00<?, ?it/s]\u001b[A\n",
      "Training:  11%|█▌            | 7/62 [00:01<00:08,  6.50it/s]\u001b[A\n",
      "Training:  23%|██▉          | 14/62 [00:02<00:07,  6.51it/s]\u001b[A\n",
      "Training:  34%|████▍        | 21/62 [00:03<00:06,  6.51it/s]\u001b[A\n",
      "Training:  45%|█████▊       | 28/62 [00:04<00:05,  6.34it/s]\u001b[A\n",
      "Training:  56%|███████▎     | 35/62 [00:05<00:04,  6.40it/s]\u001b[A\n",
      "Training:  68%|████████▊    | 42/62 [00:06<00:03,  6.34it/s]\u001b[A\n",
      "Training:  79%|██████████▎  | 49/62 [00:07<00:02,  6.37it/s]\u001b[A\n",
      "Training:  90%|███████████▋ | 56/62 [00:08<00:00,  6.41it/s]\u001b[A\n",
      "                                                            \u001b[A\n",
      "Validation:   0%|                    | 0/18 [00:00<?, ?it/s]\u001b[A\n",
      "Validation:  83%|█████████▏ | 15/18 [00:01<00:00, 14.14it/s]\u001b[A\n",
      "Epochs:   7%|██▎                               | 20/300 [03:38<50:49, 10.89s/it]"
     ]
    },
    {
     "name": "stdout",
     "output_type": "stream",
     "text": [
      "Epoch 20/300: Train Loss: 1.5203 | Train Acc: 53.88% | Valid Loss: 1.5173 | Valid Acc: 51.71%\n"
     ]
    },
    {
     "name": "stderr",
     "output_type": "stream",
     "text": [
      "\n",
      "Training:   0%|                      | 0/62 [00:00<?, ?it/s]\u001b[A\n",
      "Training:  11%|█▌            | 7/62 [00:01<00:08,  6.52it/s]\u001b[A\n",
      "Training:  23%|██▉          | 14/62 [00:02<00:07,  6.51it/s]\u001b[A\n",
      "Training:  34%|████▍        | 21/62 [00:03<00:06,  6.51it/s]\u001b[A\n",
      "Training:  45%|█████▊       | 28/62 [00:04<00:05,  6.51it/s]\u001b[A\n",
      "Training:  56%|███████▎     | 35/62 [00:05<00:04,  6.51it/s]\u001b[A\n",
      "Training:  68%|████████▊    | 42/62 [00:06<00:03,  6.35it/s]\u001b[A\n",
      "Training:  79%|██████████▎  | 49/62 [00:07<00:02,  6.40it/s]\u001b[A\n",
      "Training:  90%|███████████▋ | 56/62 [00:08<00:00,  6.44it/s]\u001b[A\n",
      "                                                            \u001b[A\n",
      "Validation:   0%|                    | 0/18 [00:00<?, ?it/s]\u001b[A\n",
      "Validation:  83%|█████████▏ | 15/18 [00:01<00:00, 14.12it/s]\u001b[A\n",
      "Epochs:   7%|██▍                               | 21/300 [03:49<50:26, 10.85s/it]"
     ]
    },
    {
     "name": "stdout",
     "output_type": "stream",
     "text": [
      "Epoch 21/300: Train Loss: 1.5210 | Train Acc: 53.86% | Valid Loss: 1.4872 | Valid Acc: 54.52%\n"
     ]
    },
    {
     "name": "stderr",
     "output_type": "stream",
     "text": [
      "\n",
      "Training:   0%|                      | 0/62 [00:00<?, ?it/s]\u001b[A\n",
      "Training:  11%|█▌            | 7/62 [00:01<00:08,  6.53it/s]\u001b[A\n",
      "Training:  23%|██▉          | 14/62 [00:02<00:07,  6.52it/s]\u001b[A\n",
      "Training:  34%|████▍        | 21/62 [00:03<00:06,  6.50it/s]\u001b[A\n",
      "Training:  45%|█████▊       | 28/62 [00:04<00:05,  6.50it/s]\u001b[A\n",
      "Training:  56%|███████▎     | 35/62 [00:05<00:04,  6.51it/s]\u001b[A\n",
      "Training:  68%|████████▊    | 42/62 [00:06<00:03,  6.49it/s]\u001b[A\n",
      "Training:  79%|██████████▎  | 49/62 [00:07<00:02,  6.46it/s]\u001b[A\n",
      "Training:  90%|███████████▋ | 56/62 [00:08<00:00,  6.47it/s]\u001b[A\n",
      "                                                            \u001b[A\n",
      "Validation:   0%|                    | 0/18 [00:00<?, ?it/s]\u001b[A\n",
      "Validation:  72%|███████▉   | 13/18 [00:01<00:00, 12.84it/s]\u001b[A\n",
      "Epochs:   7%|██▍                               | 22/300 [04:00<50:11, 10.83s/it]"
     ]
    },
    {
     "name": "stdout",
     "output_type": "stream",
     "text": [
      "Epoch 22/300: Train Loss: 1.5156 | Train Acc: 53.96% | Valid Loss: 1.5018 | Valid Acc: 53.90%\n"
     ]
    },
    {
     "name": "stderr",
     "output_type": "stream",
     "text": [
      "\n",
      "Training:   0%|                      | 0/62 [00:00<?, ?it/s]\u001b[A\n",
      "Training:  11%|█▌            | 7/62 [00:01<00:08,  6.40it/s]\u001b[A\n",
      "Training:  23%|██▉          | 14/62 [00:02<00:07,  6.44it/s]\u001b[A\n",
      "Training:  34%|████▍        | 21/62 [00:03<00:06,  6.47it/s]\u001b[A\n",
      "Training:  45%|█████▊       | 28/62 [00:04<00:05,  6.47it/s]\u001b[A\n",
      "Training:  56%|███████▎     | 35/62 [00:05<00:04,  6.47it/s]\u001b[A\n",
      "Training:  68%|████████▊    | 42/62 [00:06<00:03,  6.47it/s]\u001b[A\n",
      "Training:  79%|██████████▎  | 49/62 [00:07<00:02,  6.46it/s]\u001b[A\n",
      "Training:  90%|███████████▋ | 56/62 [00:08<00:00,  6.48it/s]\u001b[A\n",
      "                                                            \u001b[A\n",
      "Validation:   0%|                    | 0/18 [00:00<?, ?it/s]\u001b[A\n",
      "Validation:  78%|████████▌  | 14/18 [00:01<00:00, 13.92it/s]\u001b[A\n",
      "Epochs:   8%|██▌                               | 23/300 [04:11<49:53, 10.81s/it]"
     ]
    },
    {
     "name": "stdout",
     "output_type": "stream",
     "text": [
      "Epoch 23/300: Train Loss: 1.5099 | Train Acc: 54.54% | Valid Loss: 1.4707 | Valid Acc: 55.95%\n"
     ]
    },
    {
     "name": "stderr",
     "output_type": "stream",
     "text": [
      "\n",
      "Training:   0%|                      | 0/62 [00:00<?, ?it/s]\u001b[A\n",
      "Training:  11%|█▌            | 7/62 [00:01<00:09,  6.07it/s]\u001b[A\n",
      "Training:  23%|██▉          | 14/62 [00:02<00:07,  6.30it/s]\u001b[A\n",
      "Training:  34%|████▍        | 21/62 [00:03<00:06,  6.37it/s]\u001b[A\n",
      "Training:  45%|█████▊       | 28/62 [00:04<00:05,  6.42it/s]\u001b[A\n",
      "Training:  56%|███████▎     | 35/62 [00:05<00:04,  6.45it/s]\u001b[A\n",
      "Training:  68%|████████▊    | 42/62 [00:06<00:03,  6.46it/s]\u001b[A\n",
      "Training:  79%|██████████▎  | 49/62 [00:07<00:02,  6.33it/s]\u001b[A\n",
      "Training:  90%|███████████▋ | 56/62 [00:08<00:00,  6.37it/s]\u001b[A\n",
      "                                                            \u001b[A\n",
      "Validation:   0%|                    | 0/18 [00:00<?, ?it/s]\u001b[A\n",
      "Validation:  78%|████████▌  | 14/18 [00:01<00:00, 13.97it/s]\u001b[A\n",
      "Epochs:   8%|██▋                               | 24/300 [04:21<49:47, 10.82s/it]"
     ]
    },
    {
     "name": "stdout",
     "output_type": "stream",
     "text": [
      "Epoch 24/300: Train Loss: 1.5042 | Train Acc: 55.13% | Valid Loss: 1.5053 | Valid Acc: 53.37%\n"
     ]
    },
    {
     "name": "stderr",
     "output_type": "stream",
     "text": [
      "\n",
      "Training:   0%|                      | 0/62 [00:00<?, ?it/s]\u001b[A\n",
      "Training:  11%|█▌            | 7/62 [00:01<00:08,  6.41it/s]\u001b[A\n",
      "Training:  23%|██▉          | 14/62 [00:02<00:07,  6.42it/s]\u001b[A\n",
      "Training:  34%|████▍        | 21/62 [00:03<00:06,  6.23it/s]\u001b[A\n",
      "Training:  45%|█████▊       | 28/62 [00:04<00:05,  6.34it/s]\u001b[A\n",
      "Training:  56%|███████▎     | 35/62 [00:05<00:04,  6.38it/s]\u001b[A\n",
      "Training:  68%|████████▊    | 42/62 [00:06<00:03,  6.43it/s]\u001b[A\n",
      "Training:  79%|██████████▎  | 49/62 [00:07<00:02,  6.45it/s]\u001b[A\n",
      "Training:  90%|███████████▋ | 56/62 [00:08<00:00,  6.47it/s]\u001b[A\n",
      "                                                            \u001b[A\n",
      "Validation:   0%|                    | 0/18 [00:00<?, ?it/s]\u001b[A\n",
      "Validation:  78%|████████▌  | 14/18 [00:01<00:00, 13.10it/s]\u001b[A\n",
      "Epochs:   8%|██▊                               | 25/300 [04:32<49:42, 10.85s/it]"
     ]
    },
    {
     "name": "stdout",
     "output_type": "stream",
     "text": [
      "Epoch 25/300: Train Loss: 1.5042 | Train Acc: 55.03% | Valid Loss: 1.4666 | Valid Acc: 55.97%\n"
     ]
    },
    {
     "name": "stderr",
     "output_type": "stream",
     "text": [
      "\n",
      "Training:   0%|                      | 0/62 [00:00<?, ?it/s]\u001b[A\n",
      "Training:  11%|█▌            | 7/62 [00:01<00:08,  6.52it/s]\u001b[A\n",
      "Training:  23%|██▉          | 14/62 [00:02<00:07,  6.51it/s]\u001b[A\n",
      "Training:  34%|████▍        | 21/62 [00:03<00:06,  6.49it/s]\u001b[A\n",
      "Training:  45%|█████▊       | 28/62 [00:04<00:05,  6.48it/s]\u001b[A\n",
      "Training:  56%|███████▎     | 35/62 [00:05<00:04,  6.48it/s]\u001b[A\n",
      "Training:  68%|████████▊    | 42/62 [00:06<00:03,  6.47it/s]\u001b[A\n",
      "Training:  79%|██████████▎  | 49/62 [00:07<00:02,  6.33it/s]\u001b[A\n",
      "Training:  90%|███████████▋ | 56/62 [00:08<00:00,  6.35it/s]\u001b[A\n",
      "                                                            \u001b[A\n",
      "Validation:   0%|                    | 0/18 [00:00<?, ?it/s]\u001b[A\n",
      "Validation:  78%|████████▌  | 14/18 [00:01<00:00, 14.00it/s]\u001b[A\n",
      "Epochs:   9%|██▉                               | 26/300 [04:43<49:35, 10.86s/it]"
     ]
    },
    {
     "name": "stdout",
     "output_type": "stream",
     "text": [
      "Epoch 26/300: Train Loss: 1.4996 | Train Acc: 55.24% | Valid Loss: 1.4685 | Valid Acc: 56.01%\n"
     ]
    },
    {
     "name": "stderr",
     "output_type": "stream",
     "text": [
      "\n",
      "Training:   0%|                      | 0/62 [00:00<?, ?it/s]\u001b[A\n",
      "Training:  11%|█▌            | 7/62 [00:01<00:08,  6.43it/s]\u001b[A\n",
      "Training:  23%|██▉          | 14/62 [00:02<00:07,  6.47it/s]\u001b[A\n",
      "Training:  34%|████▍        | 21/62 [00:03<00:06,  6.48it/s]\u001b[A\n",
      "Training:  45%|█████▊       | 28/62 [00:04<00:05,  6.48it/s]\u001b[A\n",
      "Training:  56%|███████▎     | 35/62 [00:05<00:04,  6.48it/s]\u001b[A\n",
      "Training:  68%|████████▊    | 42/62 [00:06<00:03,  6.49it/s]\u001b[A\n",
      "Training:  79%|██████████▎  | 49/62 [00:07<00:02,  6.50it/s]\u001b[A\n",
      "Training:  90%|███████████▋ | 56/62 [00:08<00:00,  6.50it/s]\u001b[A\n",
      "                                                            \u001b[A\n",
      "Validation:   0%|                    | 0/18 [00:00<?, ?it/s]\u001b[A\n",
      "Validation:  72%|███████▉   | 13/18 [00:01<00:00, 12.87it/s]\u001b[A\n",
      "Epochs:   9%|███                               | 27/300 [04:54<49:19, 10.84s/it]"
     ]
    },
    {
     "name": "stdout",
     "output_type": "stream",
     "text": [
      "Epoch 27/300: Train Loss: 1.4964 | Train Acc: 55.37% | Valid Loss: 1.4589 | Valid Acc: 56.82%\n"
     ]
    },
    {
     "name": "stderr",
     "output_type": "stream",
     "text": [
      "\n",
      "Training:   0%|                      | 0/62 [00:00<?, ?it/s]\u001b[A\n",
      "Training:  11%|█▌            | 7/62 [00:01<00:08,  6.47it/s]\u001b[A\n",
      "Training:  23%|██▉          | 14/62 [00:02<00:07,  6.49it/s]\u001b[A\n",
      "Training:  34%|████▍        | 21/62 [00:03<00:06,  6.48it/s]\u001b[A\n",
      "Training:  45%|█████▊       | 28/62 [00:04<00:05,  6.47it/s]\u001b[A\n",
      "Training:  56%|███████▎     | 35/62 [00:05<00:04,  6.43it/s]\u001b[A\n",
      "Training:  68%|████████▊    | 42/62 [00:06<00:03,  6.44it/s]\u001b[A\n",
      "Training:  79%|██████████▎  | 49/62 [00:07<00:02,  6.41it/s]\u001b[A\n",
      "Training:  90%|███████████▋ | 56/62 [00:08<00:00,  6.39it/s]\u001b[A\n",
      "                                                            \u001b[A\n",
      "Validation:   0%|                    | 0/18 [00:00<?, ?it/s]\u001b[A\n",
      "Validation:  78%|████████▌  | 14/18 [00:01<00:00, 13.86it/s]\u001b[A\n",
      "Epochs:   9%|███▏                              | 28/300 [05:05<49:07, 10.83s/it]"
     ]
    },
    {
     "name": "stdout",
     "output_type": "stream",
     "text": [
      "Epoch 28/300: Train Loss: 1.4894 | Train Acc: 55.71% | Valid Loss: 1.4540 | Valid Acc: 56.85%\n"
     ]
    },
    {
     "name": "stderr",
     "output_type": "stream",
     "text": [
      "\n",
      "Training:   0%|                      | 0/62 [00:00<?, ?it/s]\u001b[A\n",
      "Training:  10%|█▎            | 6/62 [00:01<00:10,  5.57it/s]\u001b[A\n",
      "Training:  21%|██▋          | 13/62 [00:02<00:08,  5.99it/s]\u001b[A\n",
      "Training:  32%|████▏        | 20/62 [00:03<00:06,  6.18it/s]\u001b[A\n",
      "Training:  44%|█████▋       | 27/62 [00:04<00:05,  6.29it/s]\u001b[A\n",
      "Training:  55%|███████▏     | 34/62 [00:05<00:04,  6.28it/s]\u001b[A\n",
      "Training:  66%|████████▌    | 41/62 [00:06<00:03,  6.35it/s]\u001b[A\n",
      "Training:  77%|██████████   | 48/62 [00:07<00:02,  6.39it/s]\u001b[A\n",
      "Training:  89%|███████████▌ | 55/62 [00:08<00:01,  6.40it/s]\u001b[A\n",
      "                                                            \u001b[A\n",
      "Validation:   0%|                    | 0/18 [00:00<?, ?it/s]\u001b[A\n",
      "Validation:  78%|████████▌  | 14/18 [00:01<00:00, 13.87it/s]\u001b[A\n",
      "Epochs:  10%|███▎                              | 29/300 [05:16<49:08, 10.88s/it]"
     ]
    },
    {
     "name": "stdout",
     "output_type": "stream",
     "text": [
      "Epoch 29/300: Train Loss: 1.4871 | Train Acc: 55.85% | Valid Loss: 1.4545 | Valid Acc: 56.92%\n"
     ]
    },
    {
     "name": "stderr",
     "output_type": "stream",
     "text": [
      "\n",
      "Training:   0%|                      | 0/62 [00:00<?, ?it/s]\u001b[A\n",
      "Training:  11%|█▌            | 7/62 [00:01<00:08,  6.51it/s]\u001b[A\n",
      "Training:  23%|██▉          | 14/62 [00:02<00:07,  6.44it/s]\u001b[A\n",
      "Training:  34%|████▍        | 21/62 [00:03<00:06,  6.45it/s]\u001b[A\n",
      "Training:  45%|█████▊       | 28/62 [00:04<00:05,  6.47it/s]\u001b[A\n",
      "Training:  56%|███████▎     | 35/62 [00:05<00:04,  6.31it/s]\u001b[A\n",
      "Training:  68%|████████▊    | 42/62 [00:06<00:03,  6.36it/s]\u001b[A\n",
      "Training:  79%|██████████▎  | 49/62 [00:07<00:02,  6.39it/s]\u001b[A\n",
      "Training:  90%|███████████▋ | 56/62 [00:08<00:00,  6.42it/s]\u001b[A\n",
      "                                                            \u001b[A\n",
      "Validation:   0%|                    | 0/18 [00:00<?, ?it/s]\u001b[A\n",
      "Validation:  83%|█████████▏ | 15/18 [00:01<00:00, 14.04it/s]\u001b[A\n",
      "Epochs:  10%|███▍                              | 30/300 [05:27<48:53, 10.86s/it]"
     ]
    },
    {
     "name": "stdout",
     "output_type": "stream",
     "text": [
      "Epoch 30/300: Train Loss: 1.4840 | Train Acc: 56.32% | Valid Loss: 1.4518 | Valid Acc: 56.98%\n"
     ]
    },
    {
     "name": "stderr",
     "output_type": "stream",
     "text": [
      "\n",
      "Training:   0%|                      | 0/62 [00:00<?, ?it/s]\u001b[A\n",
      "Training:  11%|█▌            | 7/62 [00:01<00:08,  6.40it/s]\u001b[A\n",
      "Training:  23%|██▉          | 14/62 [00:02<00:07,  6.46it/s]\u001b[A\n",
      "Training:  34%|████▍        | 21/62 [00:03<00:06,  6.48it/s]\u001b[A\n",
      "Training:  45%|█████▊       | 28/62 [00:04<00:05,  6.51it/s]\u001b[A\n",
      "Training:  56%|███████▎     | 35/62 [00:05<00:04,  6.50it/s]\u001b[A\n",
      "Training:  68%|████████▊    | 42/62 [00:06<00:03,  6.50it/s]\u001b[A\n",
      "Training:  79%|██████████▎  | 49/62 [00:07<00:01,  6.50it/s]\u001b[A\n",
      "Training:  90%|███████████▋ | 56/62 [00:08<00:00,  6.50it/s]\u001b[A\n",
      "                                                            \u001b[A\n",
      "Validation:   0%|                    | 0/18 [00:00<?, ?it/s]\u001b[A\n",
      "Validation:  78%|████████▌  | 14/18 [00:01<00:00, 13.12it/s]\u001b[A\n",
      "Epochs:  10%|███▌                              | 31/300 [05:37<48:33, 10.83s/it]"
     ]
    },
    {
     "name": "stdout",
     "output_type": "stream",
     "text": [
      "Epoch 31/300: Train Loss: 1.4821 | Train Acc: 56.47% | Valid Loss: 1.4967 | Valid Acc: 54.58%\n"
     ]
    },
    {
     "name": "stderr",
     "output_type": "stream",
     "text": [
      "\n",
      "Training:   0%|                      | 0/62 [00:00<?, ?it/s]\u001b[A\n",
      "Training:  11%|█▌            | 7/62 [00:01<00:08,  6.52it/s]\u001b[A\n",
      "Training:  23%|██▉          | 14/62 [00:02<00:07,  6.49it/s]\u001b[A\n",
      "Training:  34%|████▍        | 21/62 [00:03<00:06,  6.50it/s]\u001b[A\n",
      "Training:  45%|█████▊       | 28/62 [00:04<00:05,  6.50it/s]\u001b[A\n",
      "Training:  56%|███████▎     | 35/62 [00:05<00:04,  6.50it/s]\u001b[A\n",
      "Training:  68%|████████▊    | 42/62 [00:06<00:03,  6.50it/s]\u001b[A\n",
      "Training:  79%|██████████▎  | 49/62 [00:07<00:01,  6.51it/s]\u001b[A\n",
      "Training:  90%|███████████▋ | 56/62 [00:08<00:00,  6.51it/s]\u001b[A\n",
      "                                                            \u001b[A\n",
      "Validation:   0%|                    | 0/18 [00:00<?, ?it/s]\u001b[A\n",
      "Validation:  83%|█████████▏ | 15/18 [00:01<00:00, 14.09it/s]\u001b[A\n",
      "Epochs:  11%|███▋                              | 32/300 [05:48<48:16, 10.81s/it]"
     ]
    },
    {
     "name": "stdout",
     "output_type": "stream",
     "text": [
      "Epoch 32/300: Train Loss: 1.4808 | Train Acc: 56.35% | Valid Loss: 1.4624 | Valid Acc: 56.27%\n"
     ]
    },
    {
     "name": "stderr",
     "output_type": "stream",
     "text": [
      "\n",
      "Training:   0%|                      | 0/62 [00:00<?, ?it/s]\u001b[A\n",
      "Training:  11%|█▌            | 7/62 [00:01<00:08,  6.51it/s]\u001b[A\n",
      "Training:  23%|██▉          | 14/62 [00:02<00:07,  6.51it/s]\u001b[A\n",
      "Training:  34%|████▍        | 21/62 [00:03<00:06,  6.51it/s]\u001b[A\n",
      "Training:  45%|█████▊       | 28/62 [00:04<00:05,  6.51it/s]\u001b[A\n",
      "Training:  56%|███████▎     | 35/62 [00:05<00:04,  6.48it/s]\u001b[A\n",
      "Training:  68%|████████▊    | 42/62 [00:06<00:03,  6.44it/s]\u001b[A\n",
      "Training:  79%|██████████▎  | 49/62 [00:07<00:02,  6.45it/s]\u001b[A\n",
      "Training:  90%|███████████▋ | 56/62 [00:08<00:00,  6.47it/s]\u001b[A\n",
      "                                                            \u001b[A\n",
      "Validation:   0%|                    | 0/18 [00:00<?, ?it/s]\u001b[A\n",
      "Validation:  78%|████████▌  | 14/18 [00:01<00:00, 13.94it/s]\u001b[A\n",
      "Epochs:  11%|███▋                              | 33/300 [05:59<47:59, 10.79s/it]"
     ]
    },
    {
     "name": "stdout",
     "output_type": "stream",
     "text": [
      "Epoch 33/300: Train Loss: 1.4741 | Train Acc: 56.76% | Valid Loss: 1.4611 | Valid Acc: 56.58%\n"
     ]
    },
    {
     "name": "stderr",
     "output_type": "stream",
     "text": [
      "\n",
      "Training:   0%|                      | 0/62 [00:00<?, ?it/s]\u001b[A\n",
      "Training:  11%|█▌            | 7/62 [00:01<00:08,  6.43it/s]\u001b[A\n",
      "Training:  23%|██▉          | 14/62 [00:02<00:07,  6.40it/s]\u001b[A\n",
      "Training:  34%|████▍        | 21/62 [00:03<00:06,  6.43it/s]\u001b[A\n",
      "Training:  45%|█████▊       | 28/62 [00:04<00:05,  6.27it/s]\u001b[A\n",
      "Training:  56%|███████▎     | 35/62 [00:05<00:04,  6.33it/s]\u001b[A\n",
      "Training:  68%|████████▊    | 42/62 [00:06<00:03,  6.34it/s]\u001b[A\n",
      "Training:  79%|██████████▎  | 49/62 [00:07<00:02,  6.38it/s]\u001b[A\n",
      "Training:  90%|███████████▋ | 56/62 [00:08<00:00,  6.42it/s]\u001b[A\n",
      "                                                            \u001b[A\n",
      "Validation:   0%|                    | 0/18 [00:00<?, ?it/s]\u001b[A\n",
      "Validation:  78%|████████▌  | 14/18 [00:01<00:00, 13.96it/s]\u001b[A\n",
      "Epochs:  11%|███▊                              | 34/300 [06:10<47:54, 10.80s/it]"
     ]
    },
    {
     "name": "stdout",
     "output_type": "stream",
     "text": [
      "Epoch 34/300: Train Loss: 1.4693 | Train Acc: 57.25% | Valid Loss: 1.4705 | Valid Acc: 56.00%\n"
     ]
    },
    {
     "name": "stderr",
     "output_type": "stream",
     "text": [
      "\n",
      "Training:   0%|                      | 0/62 [00:00<?, ?it/s]\u001b[A\n",
      "Training:  11%|█▌            | 7/62 [00:01<00:08,  6.52it/s]\u001b[A\n",
      "Training:  23%|██▉          | 14/62 [00:02<00:07,  6.49it/s]\u001b[A\n",
      "Training:  34%|████▍        | 21/62 [00:03<00:06,  6.47it/s]\u001b[A\n",
      "Training:  45%|█████▊       | 28/62 [00:04<00:05,  6.44it/s]\u001b[A\n",
      "Training:  56%|███████▎     | 35/62 [00:05<00:04,  6.44it/s]\u001b[A\n",
      "Training:  68%|████████▊    | 42/62 [00:06<00:03,  6.44it/s]\u001b[A\n",
      "Training:  79%|██████████▎  | 49/62 [00:07<00:02,  6.43it/s]\u001b[A\n",
      "Training:  90%|███████████▋ | 56/62 [00:08<00:00,  6.45it/s]\u001b[A\n",
      "                                                            \u001b[A\n",
      "Validation:   0%|                    | 0/18 [00:00<?, ?it/s]\u001b[A\n",
      "Validation:  72%|███████▉   | 13/18 [00:01<00:00, 12.93it/s]\u001b[A\n",
      "Epochs:  12%|███▉                              | 35/300 [06:21<47:45, 10.81s/it]"
     ]
    },
    {
     "name": "stdout",
     "output_type": "stream",
     "text": [
      "Epoch 35/300: Train Loss: 1.4699 | Train Acc: 57.03% | Valid Loss: 1.4583 | Valid Acc: 56.67%\n"
     ]
    },
    {
     "name": "stderr",
     "output_type": "stream",
     "text": [
      "\n",
      "Training:   0%|                      | 0/62 [00:00<?, ?it/s]\u001b[A\n",
      "Training:  11%|█▌            | 7/62 [00:01<00:08,  6.49it/s]\u001b[A\n",
      "Training:  23%|██▉          | 14/62 [00:02<00:07,  6.48it/s]\u001b[A\n",
      "Training:  34%|████▍        | 21/62 [00:03<00:06,  6.50it/s]\u001b[A\n",
      "Training:  45%|█████▊       | 28/62 [00:04<00:05,  6.48it/s]\u001b[A\n",
      "Training:  56%|███████▎     | 35/62 [00:05<00:04,  6.39it/s]\u001b[A\n",
      "Training:  68%|████████▊    | 42/62 [00:06<00:03,  6.30it/s]\u001b[A\n",
      "Training:  79%|██████████▎  | 49/62 [00:07<00:02,  6.35it/s]\u001b[A\n",
      "Training:  90%|███████████▋ | 56/62 [00:08<00:00,  6.39it/s]\u001b[A\n",
      "                                                            \u001b[A\n",
      "Validation:   0%|                    | 0/18 [00:00<?, ?it/s]\u001b[A\n",
      "Validation:  83%|█████████▏ | 15/18 [00:01<00:00, 14.01it/s]\u001b[A\n",
      "Epochs:  12%|████                              | 36/300 [06:31<47:35, 10.81s/it]"
     ]
    },
    {
     "name": "stdout",
     "output_type": "stream",
     "text": [
      "Epoch 36/300: Train Loss: 1.4680 | Train Acc: 57.08% | Valid Loss: 1.4548 | Valid Acc: 56.62%\n"
     ]
    },
    {
     "name": "stderr",
     "output_type": "stream",
     "text": [
      "\n",
      "Training:   0%|                      | 0/62 [00:00<?, ?it/s]\u001b[A\n",
      "Training:  11%|█▌            | 7/62 [00:01<00:08,  6.53it/s]\u001b[A\n",
      "Training:  23%|██▉          | 14/62 [00:02<00:07,  6.51it/s]\u001b[A\n",
      "Training:  34%|████▍        | 21/62 [00:03<00:06,  6.30it/s]\u001b[A\n",
      "Training:  45%|█████▊       | 28/62 [00:04<00:05,  6.36it/s]\u001b[A\n",
      "Training:  56%|███████▎     | 35/62 [00:05<00:04,  6.38it/s]\u001b[A\n",
      "Training:  68%|████████▊    | 42/62 [00:06<00:03,  6.38it/s]\u001b[A\n",
      "Training:  79%|██████████▎  | 49/62 [00:07<00:02,  6.41it/s]\u001b[A\n",
      "Training:  90%|███████████▋ | 56/62 [00:08<00:00,  6.43it/s]\u001b[A\n",
      "                                                            \u001b[A\n",
      "Validation:   0%|                    | 0/18 [00:00<?, ?it/s]\u001b[A\n",
      "Validation:  83%|█████████▏ | 15/18 [00:01<00:00, 14.01it/s]\u001b[A\n",
      "Epochs:  12%|████▏                             | 37/300 [06:42<47:24, 10.81s/it]"
     ]
    },
    {
     "name": "stdout",
     "output_type": "stream",
     "text": [
      "Epoch 37/300: Train Loss: 1.4656 | Train Acc: 57.19% | Valid Loss: 1.4454 | Valid Acc: 57.23%\n"
     ]
    },
    {
     "name": "stderr",
     "output_type": "stream",
     "text": [
      "\n",
      "Training:   0%|                      | 0/62 [00:00<?, ?it/s]\u001b[A\n",
      "Training:  11%|█▌            | 7/62 [00:01<00:08,  6.51it/s]\u001b[A\n",
      "Training:  23%|██▉          | 14/62 [00:02<00:07,  6.47it/s]\u001b[A\n",
      "Training:  34%|████▍        | 21/62 [00:03<00:06,  6.47it/s]\u001b[A\n",
      "Training:  45%|█████▊       | 28/62 [00:04<00:05,  6.31it/s]\u001b[A\n",
      "Training:  56%|███████▎     | 35/62 [00:05<00:04,  6.38it/s]\u001b[A\n",
      "Training:  68%|████████▊    | 42/62 [00:06<00:03,  6.43it/s]\u001b[A\n",
      "Training:  79%|██████████▎  | 49/62 [00:07<00:02,  6.46it/s]\u001b[A\n",
      "Training:  90%|███████████▋ | 56/62 [00:08<00:00,  6.47it/s]\u001b[A\n",
      "                                                            \u001b[A\n",
      "Validation:   0%|                    | 0/18 [00:00<?, ?it/s]\u001b[A\n",
      "Validation:  83%|█████████▏ | 15/18 [00:01<00:00, 14.11it/s]\u001b[A\n",
      "Epochs:  13%|████▎                             | 38/300 [06:53<47:10, 10.80s/it]"
     ]
    },
    {
     "name": "stdout",
     "output_type": "stream",
     "text": [
      "Epoch 38/300: Train Loss: 1.4616 | Train Acc: 57.42% | Valid Loss: 1.4451 | Valid Acc: 57.49%\n"
     ]
    },
    {
     "name": "stderr",
     "output_type": "stream",
     "text": [
      "\n",
      "Training:   0%|                      | 0/62 [00:00<?, ?it/s]\u001b[A\n",
      "Training:  11%|█▌            | 7/62 [00:01<00:08,  6.44it/s]\u001b[A\n",
      "Training:  23%|██▉          | 14/62 [00:02<00:07,  6.43it/s]\u001b[A\n",
      "Training:  34%|████▍        | 21/62 [00:03<00:06,  6.22it/s]\u001b[A\n",
      "Training:  45%|█████▊       | 28/62 [00:04<00:05,  6.33it/s]\u001b[A\n",
      "Training:  56%|███████▎     | 35/62 [00:05<00:04,  6.37it/s]\u001b[A\n",
      "Training:  68%|████████▊    | 42/62 [00:06<00:03,  6.39it/s]\u001b[A\n",
      "Training:  79%|██████████▎  | 49/62 [00:07<00:02,  6.43it/s]\u001b[A\n",
      "Training:  90%|███████████▋ | 56/62 [00:08<00:00,  6.45it/s]\u001b[A\n",
      "                                                            \u001b[A\n",
      "Validation:   0%|                    | 0/18 [00:00<?, ?it/s]\u001b[A\n",
      "Validation:  72%|███████▉   | 13/18 [00:01<00:00, 12.88it/s]\u001b[A\n",
      "Epochs:  13%|████▍                             | 39/300 [07:04<47:07, 10.83s/it]"
     ]
    },
    {
     "name": "stdout",
     "output_type": "stream",
     "text": [
      "Epoch 39/300: Train Loss: 1.4609 | Train Acc: 57.61% | Valid Loss: 1.4504 | Valid Acc: 57.01%\n"
     ]
    },
    {
     "name": "stderr",
     "output_type": "stream",
     "text": [
      "\n",
      "Training:   0%|                      | 0/62 [00:00<?, ?it/s]\u001b[A\n",
      "Training:  11%|█▌            | 7/62 [00:01<00:08,  6.38it/s]\u001b[A\n",
      "Training:  23%|██▉          | 14/62 [00:02<00:07,  6.44it/s]\u001b[A\n",
      "Training:  34%|████▍        | 21/62 [00:03<00:06,  6.47it/s]\u001b[A\n",
      "Training:  45%|█████▊       | 28/62 [00:04<00:05,  6.48it/s]\u001b[A\n",
      "Training:  56%|███████▎     | 35/62 [00:05<00:04,  6.46it/s]\u001b[A\n",
      "Training:  68%|████████▊    | 42/62 [00:06<00:03,  6.43it/s]\u001b[A\n",
      "Training:  79%|██████████▎  | 49/62 [00:07<00:02,  6.30it/s]\u001b[A\n",
      "Training:  90%|███████████▋ | 56/62 [00:08<00:00,  6.35it/s]\u001b[A\n",
      "                                                            \u001b[A\n",
      "Validation:   0%|                    | 0/18 [00:00<?, ?it/s]\u001b[A\n",
      "Validation:  83%|█████████▏ | 15/18 [00:01<00:00, 14.03it/s]\u001b[A\n",
      "Epochs:  13%|████▌                             | 40/300 [07:15<46:56, 10.83s/it]"
     ]
    },
    {
     "name": "stdout",
     "output_type": "stream",
     "text": [
      "Epoch 40/300: Train Loss: 1.4579 | Train Acc: 57.73% | Valid Loss: 1.4496 | Valid Acc: 57.13%\n"
     ]
    },
    {
     "name": "stderr",
     "output_type": "stream",
     "text": [
      "\n",
      "Training:   0%|                      | 0/62 [00:00<?, ?it/s]\u001b[A\n",
      "Training:  11%|█▌            | 7/62 [00:01<00:08,  6.47it/s]\u001b[A\n",
      "Training:  23%|██▉          | 14/62 [00:02<00:07,  6.40it/s]\u001b[A\n",
      "Training:  34%|████▍        | 21/62 [00:03<00:06,  6.42it/s]\u001b[A\n",
      "Training:  45%|█████▊       | 28/62 [00:04<00:05,  6.25it/s]\u001b[A\n",
      "Training:  56%|███████▎     | 35/62 [00:05<00:04,  6.25it/s]\u001b[A\n",
      "Training:  68%|████████▊    | 42/62 [00:06<00:03,  6.25it/s]\u001b[A\n",
      "Training:  79%|██████████▎  | 49/62 [00:07<00:02,  6.26it/s]\u001b[A\n",
      "Training:  90%|███████████▋ | 56/62 [00:08<00:00,  6.28it/s]\u001b[A\n",
      "                                                            \u001b[A\n",
      "Validation:   0%|                    | 0/18 [00:00<?, ?it/s]\u001b[A\n",
      "Validation:  83%|█████████▏ | 15/18 [00:01<00:00, 14.08it/s]\u001b[A\n",
      "Epochs:  14%|████▋                             | 41/300 [07:26<46:58, 10.88s/it]"
     ]
    },
    {
     "name": "stdout",
     "output_type": "stream",
     "text": [
      "Epoch 41/300: Train Loss: 1.4591 | Train Acc: 57.27% | Valid Loss: 1.4380 | Valid Acc: 57.95%\n"
     ]
    },
    {
     "name": "stderr",
     "output_type": "stream",
     "text": [
      "\n",
      "Training:   0%|                      | 0/62 [00:00<?, ?it/s]\u001b[A\n",
      "Training:  11%|█▌            | 7/62 [00:01<00:09,  6.08it/s]\u001b[A\n",
      "Training:  23%|██▉          | 14/62 [00:02<00:07,  6.32it/s]\u001b[A\n",
      "Training:  34%|████▍        | 21/62 [00:03<00:06,  6.40it/s]\u001b[A\n",
      "Training:  45%|█████▊       | 28/62 [00:04<00:05,  6.44it/s]\u001b[A\n",
      "Training:  56%|███████▎     | 35/62 [00:05<00:04,  6.47it/s]\u001b[A\n",
      "Training:  68%|████████▊    | 42/62 [00:06<00:03,  6.47it/s]\u001b[A\n",
      "Training:  79%|██████████▎  | 49/62 [00:07<00:02,  6.48it/s]\u001b[A\n",
      "Training:  90%|███████████▋ | 56/62 [00:08<00:00,  6.49it/s]\u001b[A\n",
      "                                                            \u001b[A\n",
      "Validation:   0%|                    | 0/18 [00:00<?, ?it/s]\u001b[A\n",
      "Validation:  72%|███████▉   | 13/18 [00:01<00:00, 12.97it/s]\u001b[A\n",
      "Epochs:  14%|████▊                             | 42/300 [07:37<46:43, 10.87s/it]"
     ]
    },
    {
     "name": "stdout",
     "output_type": "stream",
     "text": [
      "Epoch 42/300: Train Loss: 1.4541 | Train Acc: 58.03% | Valid Loss: 1.4469 | Valid Acc: 57.23%\n"
     ]
    },
    {
     "name": "stderr",
     "output_type": "stream",
     "text": [
      "\n",
      "Training:   0%|                      | 0/62 [00:00<?, ?it/s]\u001b[A\n",
      "Training:  11%|█▌            | 7/62 [00:01<00:08,  6.52it/s]\u001b[A\n",
      "Training:  23%|██▉          | 14/62 [00:02<00:07,  6.51it/s]\u001b[A\n",
      "Training:  34%|████▍        | 21/62 [00:03<00:06,  6.51it/s]\u001b[A\n",
      "Training:  45%|█████▊       | 28/62 [00:04<00:05,  6.50it/s]\u001b[A\n",
      "Training:  56%|███████▎     | 35/62 [00:05<00:04,  6.51it/s]\u001b[A\n",
      "Training:  68%|████████▊    | 42/62 [00:06<00:03,  6.52it/s]\u001b[A\n",
      "Training:  79%|██████████▎  | 49/62 [00:07<00:01,  6.50it/s]\u001b[A\n",
      "Training:  90%|███████████▋ | 56/62 [00:08<00:00,  6.51it/s]\u001b[A\n",
      "                                                            \u001b[A\n",
      "Validation:   0%|                    | 0/18 [00:00<?, ?it/s]\u001b[A\n",
      "Validation:  83%|█████████▏ | 15/18 [00:01<00:00, 14.18it/s]\u001b[A\n",
      "Epochs:  14%|████▊                             | 43/300 [07:47<46:23, 10.83s/it]"
     ]
    },
    {
     "name": "stdout",
     "output_type": "stream",
     "text": [
      "Epoch 43/300: Train Loss: 1.4586 | Train Acc: 57.83% | Valid Loss: 1.4602 | Valid Acc: 56.30%\n"
     ]
    },
    {
     "name": "stderr",
     "output_type": "stream",
     "text": [
      "\n",
      "Training:   0%|                      | 0/62 [00:00<?, ?it/s]\u001b[A\n",
      "Training:  11%|█▌            | 7/62 [00:01<00:08,  6.52it/s]\u001b[A\n",
      "Training:  23%|██▉          | 14/62 [00:02<00:07,  6.50it/s]\u001b[A\n",
      "Training:  34%|████▍        | 21/62 [00:03<00:06,  6.50it/s]\u001b[A\n",
      "Training:  45%|█████▊       | 28/62 [00:04<00:05,  6.50it/s]\u001b[A\n",
      "Training:  56%|███████▎     | 35/62 [00:05<00:04,  6.51it/s]\u001b[A\n",
      "Training:  68%|████████▊    | 42/62 [00:06<00:03,  6.50it/s]\u001b[A\n",
      "Training:  79%|██████████▎  | 49/62 [00:07<00:02,  6.33it/s]\u001b[A\n",
      "Training:  90%|███████████▋ | 56/62 [00:08<00:00,  6.34it/s]\u001b[A\n",
      "                                                            \u001b[A\n",
      "Validation:   0%|                    | 0/18 [00:00<?, ?it/s]\u001b[A\n",
      "Validation:  78%|████████▌  | 14/18 [00:01<00:00, 13.93it/s]\u001b[A\n",
      "Epochs:  15%|████▉                             | 44/300 [07:58<46:10, 10.82s/it]"
     ]
    },
    {
     "name": "stdout",
     "output_type": "stream",
     "text": [
      "Epoch 44/300: Train Loss: 1.4514 | Train Acc: 58.11% | Valid Loss: 1.4395 | Valid Acc: 57.69%\n"
     ]
    },
    {
     "name": "stderr",
     "output_type": "stream",
     "text": [
      "\n",
      "Training:   0%|                      | 0/62 [00:00<?, ?it/s]\u001b[A\n",
      "Training:  11%|█▌            | 7/62 [00:01<00:08,  6.47it/s]\u001b[A\n",
      "Training:  23%|██▉          | 14/62 [00:02<00:07,  6.48it/s]\u001b[A\n",
      "Training:  34%|████▍        | 21/62 [00:03<00:06,  6.48it/s]\u001b[A\n",
      "Training:  45%|█████▊       | 28/62 [00:04<00:05,  6.48it/s]\u001b[A\n",
      "Training:  56%|███████▎     | 35/62 [00:05<00:04,  6.49it/s]\u001b[A\n",
      "Training:  68%|████████▊    | 42/62 [00:06<00:03,  6.49it/s]\u001b[A\n",
      "Training:  79%|██████████▎  | 49/62 [00:07<00:02,  6.49it/s]\u001b[A\n",
      "Training:  90%|███████████▋ | 56/62 [00:08<00:00,  6.45it/s]\u001b[A\n",
      "                                                            \u001b[A\n",
      "Validation:   0%|                    | 0/18 [00:00<?, ?it/s]\u001b[A\n",
      "Validation:  72%|███████▉   | 13/18 [00:01<00:00, 12.83it/s]\u001b[A\n",
      "Epochs:  15%|█████                             | 45/300 [08:09<45:58, 10.82s/it]"
     ]
    },
    {
     "name": "stdout",
     "output_type": "stream",
     "text": [
      "Epoch 45/300: Train Loss: 1.4513 | Train Acc: 57.79% | Valid Loss: 1.4568 | Valid Acc: 56.57%\n"
     ]
    },
    {
     "name": "stderr",
     "output_type": "stream",
     "text": [
      "\n",
      "Training:   0%|                      | 0/62 [00:00<?, ?it/s]\u001b[A\n",
      "Training:  11%|█▌            | 7/62 [00:01<00:08,  6.52it/s]\u001b[A\n",
      "Training:  23%|██▉          | 14/62 [00:02<00:07,  6.51it/s]\u001b[A\n",
      "Training:  34%|████▍        | 21/62 [00:03<00:06,  6.45it/s]\u001b[A\n",
      "Training:  45%|█████▊       | 28/62 [00:04<00:05,  6.47it/s]\u001b[A\n",
      "Training:  56%|███████▎     | 35/62 [00:05<00:04,  6.48it/s]\u001b[A\n",
      "Training:  68%|████████▊    | 42/62 [00:06<00:03,  6.48it/s]\u001b[A\n",
      "Training:  79%|██████████▎  | 49/62 [00:07<00:02,  6.48it/s]\u001b[A\n",
      "Training:  90%|███████████▋ | 56/62 [00:08<00:00,  6.31it/s]\u001b[A\n",
      "                                                            \u001b[A\n",
      "Validation:   0%|                    | 0/18 [00:00<?, ?it/s]\u001b[A\n",
      "Validation:  83%|█████████▏ | 15/18 [00:01<00:00, 14.03it/s]\u001b[A\n",
      "Epochs:  15%|█████▏                            | 46/300 [08:20<45:46, 10.81s/it]"
     ]
    },
    {
     "name": "stdout",
     "output_type": "stream",
     "text": [
      "Epoch 46/300: Train Loss: 1.4486 | Train Acc: 58.15% | Valid Loss: 1.4568 | Valid Acc: 56.64%\n"
     ]
    },
    {
     "name": "stderr",
     "output_type": "stream",
     "text": [
      "\n",
      "Training:   0%|                      | 0/62 [00:00<?, ?it/s]\u001b[A\n",
      "Training:  11%|█▌            | 7/62 [00:01<00:08,  6.47it/s]\u001b[A\n",
      "Training:  23%|██▉          | 14/62 [00:02<00:07,  6.49it/s]\u001b[A\n",
      "Training:  34%|████▍        | 21/62 [00:03<00:06,  6.51it/s]\u001b[A\n",
      "Training:  45%|█████▊       | 28/62 [00:04<00:05,  6.48it/s]\u001b[A\n",
      "Training:  56%|███████▎     | 35/62 [00:05<00:04,  6.47it/s]\u001b[A\n",
      "Training:  68%|████████▊    | 42/62 [00:06<00:03,  6.47it/s]\u001b[A\n",
      "Training:  79%|██████████▎  | 49/62 [00:07<00:02,  6.47it/s]\u001b[A\n",
      "Training:  90%|███████████▋ | 56/62 [00:08<00:00,  6.49it/s]\u001b[A\n",
      "                                                            \u001b[A\n",
      "Validation:   0%|                    | 0/18 [00:00<?, ?it/s]\u001b[A\n",
      "Validation:  72%|███████▉   | 13/18 [00:01<00:00, 12.95it/s]\u001b[A\n",
      "Epochs:  16%|█████▎                            | 47/300 [08:30<45:33, 10.81s/it]"
     ]
    },
    {
     "name": "stdout",
     "output_type": "stream",
     "text": [
      "Epoch 47/300: Train Loss: 1.4493 | Train Acc: 58.07% | Valid Loss: 1.4992 | Valid Acc: 53.90%\n"
     ]
    },
    {
     "name": "stderr",
     "output_type": "stream",
     "text": [
      "\n",
      "Training:   0%|                      | 0/62 [00:00<?, ?it/s]\u001b[A\n",
      "Training:  11%|█▌            | 7/62 [00:01<00:08,  6.44it/s]\u001b[A\n",
      "Training:  23%|██▉          | 14/62 [00:02<00:07,  6.47it/s]\u001b[A\n",
      "Training:  34%|████▍        | 21/62 [00:03<00:06,  6.49it/s]\u001b[A\n",
      "Training:  45%|█████▊       | 28/62 [00:04<00:05,  6.48it/s]\u001b[A\n",
      "Training:  56%|███████▎     | 35/62 [00:05<00:04,  6.45it/s]\u001b[A\n",
      "Training:  68%|████████▊    | 42/62 [00:06<00:03,  6.42it/s]\u001b[A\n",
      "Training:  79%|██████████▎  | 49/62 [00:07<00:02,  6.44it/s]\u001b[A\n",
      "Training:  90%|███████████▋ | 56/62 [00:08<00:00,  6.46it/s]\u001b[A\n",
      "                                                            \u001b[A\n",
      "Validation:   0%|                    | 0/18 [00:00<?, ?it/s]\u001b[A\n",
      "Validation:  83%|█████████▏ | 15/18 [00:01<00:00, 14.13it/s]\u001b[A\n",
      "Epochs:  16%|█████▍                            | 48/300 [08:41<45:25, 10.81s/it]"
     ]
    },
    {
     "name": "stdout",
     "output_type": "stream",
     "text": [
      "Epoch 48/300: Train Loss: 1.4483 | Train Acc: 58.27% | Valid Loss: 1.4409 | Valid Acc: 58.10%\n"
     ]
    },
    {
     "name": "stderr",
     "output_type": "stream",
     "text": [
      "\n",
      "Training:   0%|                      | 0/62 [00:00<?, ?it/s]\u001b[A\n",
      "Training:  11%|█▌            | 7/62 [00:01<00:08,  6.48it/s]\u001b[A\n",
      "Training:  23%|██▉          | 14/62 [00:02<00:07,  6.46it/s]\u001b[A\n",
      "Training:  34%|████▍        | 21/62 [00:03<00:06,  6.45it/s]\u001b[A\n",
      "Training:  45%|█████▊       | 28/62 [00:04<00:05,  6.47it/s]\u001b[A\n",
      "Training:  56%|███████▎     | 35/62 [00:05<00:04,  6.49it/s]\u001b[A\n",
      "Training:  68%|████████▊    | 42/62 [00:06<00:03,  6.49it/s]\u001b[A\n",
      "Training:  79%|██████████▎  | 49/62 [00:07<00:02,  6.48it/s]\u001b[A\n",
      "Training:  90%|███████████▋ | 56/62 [00:08<00:00,  6.46it/s]\u001b[A\n",
      "                                                            \u001b[A\n",
      "Validation:   0%|                    | 0/18 [00:00<?, ?it/s]\u001b[A\n",
      "Validation:  72%|███████▉   | 13/18 [00:01<00:00, 12.96it/s]\u001b[A\n",
      "Epochs:  16%|█████▌                            | 49/300 [08:52<45:13, 10.81s/it]"
     ]
    },
    {
     "name": "stdout",
     "output_type": "stream",
     "text": [
      "Epoch 49/300: Train Loss: 1.4435 | Train Acc: 58.55% | Valid Loss: 1.4489 | Valid Acc: 56.89%\n"
     ]
    },
    {
     "name": "stderr",
     "output_type": "stream",
     "text": [
      "\n",
      "Training:   0%|                      | 0/62 [00:00<?, ?it/s]\u001b[A\n",
      "Training:  11%|█▌            | 7/62 [00:01<00:08,  6.43it/s]\u001b[A\n",
      "Training:  23%|██▉          | 14/62 [00:02<00:07,  6.46it/s]\u001b[A\n",
      "Training:  34%|████▍        | 21/62 [00:03<00:06,  6.47it/s]\u001b[A\n",
      "Training:  45%|█████▊       | 28/62 [00:04<00:05,  6.49it/s]\u001b[A\n",
      "Training:  56%|███████▎     | 35/62 [00:05<00:04,  6.48it/s]\u001b[A\n",
      "Training:  68%|████████▊    | 42/62 [00:06<00:03,  6.46it/s]\u001b[A\n",
      "Training:  79%|██████████▎  | 49/62 [00:07<00:02,  6.48it/s]\u001b[A\n",
      "Training:  90%|███████████▋ | 56/62 [00:08<00:00,  6.48it/s]\u001b[A\n",
      "                                                            \u001b[A\n",
      "Validation:   0%|                    | 0/18 [00:00<?, ?it/s]\u001b[A\n",
      "Validation:  83%|█████████▏ | 15/18 [00:01<00:00, 14.05it/s]\u001b[A\n",
      "Epochs:  17%|█████▋                            | 50/300 [09:03<45:02, 10.81s/it]"
     ]
    },
    {
     "name": "stdout",
     "output_type": "stream",
     "text": [
      "Epoch 50/300: Train Loss: 1.4416 | Train Acc: 58.52% | Valid Loss: 1.4570 | Valid Acc: 56.64%\n"
     ]
    },
    {
     "name": "stderr",
     "output_type": "stream",
     "text": [
      "\n",
      "Training:   0%|                      | 0/62 [00:00<?, ?it/s]\u001b[A\n",
      "Training:  11%|█▌            | 7/62 [00:01<00:08,  6.44it/s]\u001b[A\n",
      "Training:  23%|██▉          | 14/62 [00:02<00:07,  6.42it/s]\u001b[A\n",
      "Training:  34%|████▍        | 21/62 [00:03<00:06,  6.46it/s]\u001b[A\n",
      "Training:  45%|█████▊       | 28/62 [00:04<00:05,  6.47it/s]\u001b[A\n",
      "Training:  56%|███████▎     | 35/62 [00:05<00:04,  6.49it/s]\u001b[A\n",
      "Training:  68%|████████▊    | 42/62 [00:06<00:03,  6.47it/s]\u001b[A\n",
      "Training:  79%|██████████▎  | 49/62 [00:07<00:02,  6.44it/s]\u001b[A\n",
      "Training:  90%|███████████▋ | 56/62 [00:08<00:00,  6.32it/s]\u001b[A\n",
      "                                                            \u001b[A\n",
      "Validation:   0%|                    | 0/18 [00:00<?, ?it/s]\u001b[A\n",
      "Validation:  83%|█████████▏ | 15/18 [00:01<00:00, 14.03it/s]\u001b[A\n",
      "Epochs:  17%|█████▊                            | 51/300 [09:14<44:52, 10.81s/it]"
     ]
    },
    {
     "name": "stdout",
     "output_type": "stream",
     "text": [
      "Epoch 51/300: Train Loss: 1.4423 | Train Acc: 58.48% | Valid Loss: 1.4370 | Valid Acc: 57.75%\n"
     ]
    },
    {
     "name": "stderr",
     "output_type": "stream",
     "text": [
      "\n",
      "Training:   0%|                      | 0/62 [00:00<?, ?it/s]\u001b[A\n",
      "Training:  11%|█▌            | 7/62 [00:01<00:08,  6.39it/s]\u001b[A\n",
      "Training:  23%|██▉          | 14/62 [00:02<00:07,  6.45it/s]\u001b[A\n",
      "Training:  34%|████▍        | 21/62 [00:03<00:06,  6.46it/s]\u001b[A\n",
      "Training:  45%|█████▊       | 28/62 [00:04<00:05,  6.48it/s]\u001b[A\n",
      "Training:  56%|███████▎     | 35/62 [00:05<00:04,  6.47it/s]\u001b[A\n",
      "Training:  68%|████████▊    | 42/62 [00:06<00:03,  6.44it/s]\u001b[A\n",
      "Training:  79%|██████████▎  | 49/62 [00:07<00:02,  6.31it/s]\u001b[A\n",
      "Training:  90%|███████████▋ | 56/62 [00:08<00:00,  6.36it/s]\u001b[A\n",
      "                                                            \u001b[A\n",
      "Validation:   0%|                    | 0/18 [00:00<?, ?it/s]\u001b[A\n",
      "Validation:  83%|█████████▏ | 15/18 [00:01<00:00, 14.18it/s]\u001b[A\n",
      "Epochs:  17%|█████▉                            | 52/300 [09:25<44:41, 10.81s/it]"
     ]
    },
    {
     "name": "stdout",
     "output_type": "stream",
     "text": [
      "Epoch 52/300: Train Loss: 1.4421 | Train Acc: 58.66% | Valid Loss: 1.4367 | Valid Acc: 57.74%\n"
     ]
    },
    {
     "name": "stderr",
     "output_type": "stream",
     "text": [
      "\n",
      "Training:   0%|                      | 0/62 [00:00<?, ?it/s]\u001b[A\n",
      "Training:  11%|█▌            | 7/62 [00:01<00:08,  6.51it/s]\u001b[A\n",
      "Training:  23%|██▉          | 14/62 [00:02<00:07,  6.51it/s]\u001b[A\n",
      "Training:  34%|████▍        | 21/62 [00:03<00:06,  6.51it/s]\u001b[A\n",
      "Training:  45%|█████▊       | 28/62 [00:04<00:05,  6.51it/s]\u001b[A\n",
      "Training:  56%|███████▎     | 35/62 [00:05<00:04,  6.50it/s]\u001b[A\n",
      "Training:  68%|████████▊    | 42/62 [00:06<00:03,  6.34it/s]\u001b[A\n",
      "Training:  79%|██████████▎  | 49/62 [00:07<00:02,  6.39it/s]\u001b[A\n",
      "Training:  90%|███████████▋ | 56/62 [00:08<00:00,  6.43it/s]\u001b[A\n",
      "                                                            \u001b[A\n",
      "Validation:   0%|                    | 0/18 [00:00<?, ?it/s]\u001b[A\n",
      "Validation:  83%|█████████▏ | 15/18 [00:01<00:00, 14.16it/s]\u001b[A\n",
      "Epochs:  18%|██████                            | 53/300 [09:35<44:25, 10.79s/it]"
     ]
    },
    {
     "name": "stdout",
     "output_type": "stream",
     "text": [
      "Epoch 53/300: Train Loss: 1.4402 | Train Acc: 58.74% | Valid Loss: 1.4480 | Valid Acc: 57.55%\n"
     ]
    },
    {
     "name": "stderr",
     "output_type": "stream",
     "text": [
      "\n",
      "Training:   0%|                      | 0/62 [00:00<?, ?it/s]\u001b[A\n",
      "Training:  11%|█▌            | 7/62 [00:01<00:08,  6.53it/s]\u001b[A\n",
      "Training:  23%|██▉          | 14/62 [00:02<00:07,  6.52it/s]\u001b[A\n",
      "Training:  34%|████▍        | 21/62 [00:03<00:06,  6.51it/s]\u001b[A\n",
      "Training:  45%|█████▊       | 28/62 [00:04<00:05,  6.34it/s]\u001b[A\n",
      "Training:  56%|███████▎     | 35/62 [00:05<00:04,  6.40it/s]\u001b[A\n",
      "Training:  68%|████████▊    | 42/62 [00:06<00:03,  6.44it/s]\u001b[A\n",
      "Training:  79%|██████████▎  | 49/62 [00:07<00:02,  6.44it/s]\u001b[A\n",
      "Training:  90%|███████████▋ | 56/62 [00:08<00:00,  6.47it/s]\u001b[A\n",
      "                                                            \u001b[A\n",
      "Validation:   0%|                    | 0/18 [00:00<?, ?it/s]\u001b[A\n",
      "Validation:  83%|█████████▏ | 15/18 [00:01<00:00, 14.11it/s]\u001b[A\n",
      "Epochs:  18%|██████                            | 54/300 [09:46<44:11, 10.78s/it]"
     ]
    },
    {
     "name": "stdout",
     "output_type": "stream",
     "text": [
      "Epoch 54/300: Train Loss: 1.4330 | Train Acc: 59.11% | Valid Loss: 1.4339 | Valid Acc: 58.30%\n"
     ]
    },
    {
     "name": "stderr",
     "output_type": "stream",
     "text": [
      "\n",
      "Training:   0%|                      | 0/62 [00:00<?, ?it/s]\u001b[A\n",
      "Training:  11%|█▌            | 7/62 [00:01<00:08,  6.50it/s]\u001b[A\n",
      "Training:  23%|██▉          | 14/62 [00:02<00:07,  6.51it/s]\u001b[A\n",
      "Training:  34%|████▍        | 21/62 [00:03<00:06,  6.51it/s]\u001b[A\n",
      "Training:  45%|█████▊       | 28/62 [00:04<00:05,  6.52it/s]\u001b[A\n",
      "Training:  56%|███████▎     | 35/62 [00:05<00:04,  6.51it/s]\u001b[A\n",
      "Training:  68%|████████▊    | 42/62 [00:06<00:03,  6.51it/s]\u001b[A\n",
      "Training:  79%|██████████▎  | 49/62 [00:07<00:01,  6.51it/s]\u001b[A\n",
      "Training:  90%|███████████▋ | 56/62 [00:08<00:00,  6.51it/s]\u001b[A\n",
      "                                                            \u001b[A\n",
      "Validation:   0%|                    | 0/18 [00:00<?, ?it/s]\u001b[A\n",
      "Validation:  72%|███████▉   | 13/18 [00:01<00:00, 12.93it/s]\u001b[A\n",
      "Epochs:  18%|██████▏                           | 55/300 [09:57<44:00, 10.78s/it]"
     ]
    },
    {
     "name": "stdout",
     "output_type": "stream",
     "text": [
      "Epoch 55/300: Train Loss: 1.4355 | Train Acc: 59.08% | Valid Loss: 1.4289 | Valid Acc: 58.99%\n"
     ]
    },
    {
     "name": "stderr",
     "output_type": "stream",
     "text": [
      "\n",
      "Training:   0%|                      | 0/62 [00:00<?, ?it/s]\u001b[A\n",
      "Training:  11%|█▌            | 7/62 [00:01<00:08,  6.52it/s]\u001b[A\n",
      "Training:  23%|██▉          | 14/62 [00:02<00:07,  6.49it/s]\u001b[A\n",
      "Training:  34%|████▍        | 21/62 [00:03<00:06,  6.49it/s]\u001b[A\n",
      "Training:  45%|█████▊       | 28/62 [00:04<00:05,  6.47it/s]\u001b[A\n",
      "Training:  56%|███████▎     | 35/62 [00:05<00:04,  6.47it/s]\u001b[A\n",
      "Training:  68%|████████▊    | 42/62 [00:06<00:03,  6.47it/s]\u001b[A\n",
      "Training:  79%|██████████▎  | 49/62 [00:07<00:02,  6.47it/s]\u001b[A\n",
      "Training:  90%|███████████▋ | 56/62 [00:08<00:00,  6.47it/s]\u001b[A\n",
      "                                                            \u001b[A\n",
      "Validation:   0%|                    | 0/18 [00:00<?, ?it/s]\u001b[A\n",
      "Validation:  78%|████████▌  | 14/18 [00:01<00:00, 13.97it/s]\u001b[A\n",
      "Epochs:  19%|██████▎                           | 56/300 [10:08<43:45, 10.76s/it]"
     ]
    },
    {
     "name": "stdout",
     "output_type": "stream",
     "text": [
      "Epoch 56/300: Train Loss: 1.4327 | Train Acc: 59.11% | Valid Loss: 1.4370 | Valid Acc: 57.94%\n"
     ]
    },
    {
     "name": "stderr",
     "output_type": "stream",
     "text": [
      "\n",
      "Training:   0%|                      | 0/62 [00:00<?, ?it/s]\u001b[A\n",
      "Training:  11%|█▌            | 7/62 [00:01<00:08,  6.47it/s]\u001b[A\n",
      "Training:  23%|██▉          | 14/62 [00:02<00:07,  6.49it/s]\u001b[A\n",
      "Training:  34%|████▍        | 21/62 [00:03<00:06,  6.49it/s]\u001b[A\n",
      "Training:  45%|█████▊       | 28/62 [00:04<00:05,  6.48it/s]\u001b[A\n",
      "Training:  56%|███████▎     | 35/62 [00:05<00:04,  6.31it/s]\u001b[A\n",
      "Training:  68%|████████▊    | 42/62 [00:06<00:03,  6.35it/s]\u001b[A\n",
      "Training:  79%|██████████▎  | 49/62 [00:07<00:02,  6.37it/s]\u001b[A\n",
      "Training:  90%|███████████▋ | 56/62 [00:08<00:00,  6.39it/s]\u001b[A\n",
      "                                                            \u001b[A\n",
      "Validation:   0%|                    | 0/18 [00:00<?, ?it/s]\u001b[A\n",
      "Validation:  78%|████████▌  | 14/18 [00:01<00:00, 13.90it/s]\u001b[A\n",
      "Epochs:  19%|██████▍                           | 57/300 [10:18<43:40, 10.78s/it]"
     ]
    },
    {
     "name": "stdout",
     "output_type": "stream",
     "text": [
      "Epoch 57/300: Train Loss: 1.4311 | Train Acc: 59.12% | Valid Loss: 1.4570 | Valid Acc: 56.99%\n"
     ]
    },
    {
     "name": "stderr",
     "output_type": "stream",
     "text": [
      "\n",
      "Training:   0%|                      | 0/62 [00:00<?, ?it/s]\u001b[A\n",
      "Training:  11%|█▌            | 7/62 [00:01<00:08,  6.41it/s]\u001b[A\n",
      "Training:  23%|██▉          | 14/62 [00:02<00:07,  6.44it/s]\u001b[A\n",
      "Training:  34%|████▍        | 21/62 [00:03<00:06,  6.47it/s]\u001b[A\n",
      "Training:  45%|█████▊       | 28/62 [00:04<00:05,  6.48it/s]\u001b[A\n",
      "Training:  56%|███████▎     | 35/62 [00:05<00:04,  6.49it/s]\u001b[A\n",
      "Training:  68%|████████▊    | 42/62 [00:06<00:03,  6.47it/s]\u001b[A\n",
      "Training:  79%|██████████▎  | 49/62 [00:07<00:02,  6.33it/s]\u001b[A\n",
      "Training:  90%|███████████▋ | 56/62 [00:08<00:00,  6.37it/s]\u001b[A\n",
      "                                                            \u001b[A\n",
      "Validation:   0%|                    | 0/18 [00:00<?, ?it/s]\u001b[A\n",
      "Validation:  78%|████████▌  | 14/18 [00:01<00:00, 13.97it/s]\u001b[A\n",
      "Epochs:  19%|██████▌                           | 58/300 [10:29<43:32, 10.79s/it]"
     ]
    },
    {
     "name": "stdout",
     "output_type": "stream",
     "text": [
      "Epoch 58/300: Train Loss: 1.4319 | Train Acc: 59.23% | Valid Loss: 1.4412 | Valid Acc: 57.99%\n"
     ]
    },
    {
     "name": "stderr",
     "output_type": "stream",
     "text": [
      "\n",
      "Training:   0%|                      | 0/62 [00:00<?, ?it/s]\u001b[A\n",
      "Training:  11%|█▌            | 7/62 [00:01<00:08,  6.48it/s]\u001b[A\n",
      "Training:  23%|██▉          | 14/62 [00:02<00:07,  6.46it/s]\u001b[A\n",
      "Training:  34%|████▍        | 21/62 [00:03<00:06,  6.50it/s]\u001b[A\n",
      "Training:  45%|█████▊       | 28/62 [00:04<00:05,  6.50it/s]\u001b[A\n",
      "Training:  56%|███████▎     | 35/62 [00:05<00:04,  6.50it/s]\u001b[A\n",
      "Training:  68%|████████▊    | 42/62 [00:06<00:03,  6.49it/s]\u001b[A\n",
      "Training:  79%|██████████▎  | 49/62 [00:07<00:02,  6.49it/s]\u001b[A\n",
      "Training:  90%|███████████▋ | 56/62 [00:08<00:00,  6.50it/s]\u001b[A\n",
      "                                                            \u001b[A\n",
      "Validation:   0%|                    | 0/18 [00:00<?, ?it/s]\u001b[A\n",
      "Validation:  83%|█████████▏ | 15/18 [00:01<00:00, 14.14it/s]\u001b[A\n",
      "Epochs:  20%|██████▋                           | 59/300 [10:40<43:19, 10.79s/it]"
     ]
    },
    {
     "name": "stdout",
     "output_type": "stream",
     "text": [
      "Epoch 59/300: Train Loss: 1.4264 | Train Acc: 59.38% | Valid Loss: 1.4364 | Valid Acc: 57.95%\n"
     ]
    },
    {
     "name": "stderr",
     "output_type": "stream",
     "text": [
      "\n",
      "Training:   0%|                      | 0/62 [00:00<?, ?it/s]\u001b[A\n",
      "Training:  11%|█▌            | 7/62 [00:01<00:08,  6.52it/s]\u001b[A\n",
      "Training:  23%|██▉          | 14/62 [00:02<00:07,  6.52it/s]\u001b[A\n",
      "Training:  34%|████▍        | 21/62 [00:03<00:06,  6.50it/s]\u001b[A\n",
      "Training:  45%|█████▊       | 28/62 [00:04<00:05,  6.47it/s]\u001b[A\n",
      "Training:  56%|███████▎     | 35/62 [00:05<00:04,  6.47it/s]\u001b[A\n",
      "Training:  68%|████████▊    | 42/62 [00:06<00:03,  6.49it/s]\u001b[A\n",
      "Training:  79%|██████████▎  | 49/62 [00:07<00:02,  6.44it/s]\u001b[A\n",
      "Training:  90%|███████████▋ | 56/62 [00:08<00:00,  6.42it/s]\u001b[A\n",
      "                                                            \u001b[A\n",
      "Validation:   0%|                    | 0/18 [00:00<?, ?it/s]\u001b[A\n",
      "Validation:  78%|████████▌  | 14/18 [00:01<00:00, 13.51it/s]\u001b[A\n",
      "Epochs:  20%|██████▊                           | 60/300 [10:51<43:11, 10.80s/it]"
     ]
    },
    {
     "name": "stdout",
     "output_type": "stream",
     "text": [
      "Epoch 60/300: Train Loss: 1.4297 | Train Acc: 59.53% | Valid Loss: 1.4243 | Valid Acc: 58.77%\n"
     ]
    },
    {
     "name": "stderr",
     "output_type": "stream",
     "text": [
      "\n",
      "Training:   0%|                      | 0/62 [00:00<?, ?it/s]\u001b[A\n",
      "Training:  10%|█▎            | 6/62 [00:01<00:09,  5.64it/s]\u001b[A\n",
      "Training:  21%|██▋          | 13/62 [00:02<00:08,  6.09it/s]\u001b[A\n",
      "Training:  32%|████▏        | 20/62 [00:03<00:06,  6.19it/s]\u001b[A\n",
      "Training:  44%|█████▋       | 27/62 [00:04<00:05,  6.28it/s]\u001b[A\n",
      "Training:  55%|███████▏     | 34/62 [00:05<00:04,  6.34it/s]\u001b[A\n",
      "Training:  66%|████████▌    | 41/62 [00:06<00:03,  6.38it/s]\u001b[A\n",
      "Training:  77%|██████████   | 48/62 [00:07<00:02,  6.42it/s]\u001b[A\n",
      "Training:  89%|███████████▌ | 55/62 [00:08<00:01,  6.43it/s]\u001b[A\n",
      "                                                            \u001b[A\n",
      "Validation:   0%|                    | 0/18 [00:00<?, ?it/s]\u001b[A\n",
      "Validation:  72%|███████▉   | 13/18 [00:01<00:00, 12.88it/s]\u001b[A\n",
      "Epochs:  20%|██████▉                           | 61/300 [11:02<43:15, 10.86s/it]"
     ]
    },
    {
     "name": "stdout",
     "output_type": "stream",
     "text": [
      "Epoch 61/300: Train Loss: 1.4260 | Train Acc: 59.48% | Valid Loss: 1.4274 | Valid Acc: 58.24%\n"
     ]
    },
    {
     "name": "stderr",
     "output_type": "stream",
     "text": [
      "\n",
      "Training:   0%|                      | 0/62 [00:00<?, ?it/s]\u001b[A\n",
      "Training:  11%|█▌            | 7/62 [00:01<00:08,  6.45it/s]\u001b[A\n",
      "Training:  23%|██▉          | 14/62 [00:02<00:07,  6.48it/s]\u001b[A\n",
      "Training:  34%|████▍        | 21/62 [00:03<00:06,  6.47it/s]\u001b[A\n",
      "Training:  45%|█████▊       | 28/62 [00:04<00:05,  6.47it/s]\u001b[A\n",
      "Training:  56%|███████▎     | 35/62 [00:05<00:04,  6.46it/s]\u001b[A\n",
      "Training:  68%|████████▊    | 42/62 [00:06<00:03,  6.46it/s]\u001b[A\n",
      "Training:  79%|██████████▎  | 49/62 [00:07<00:02,  6.44it/s]\u001b[A\n",
      "Training:  90%|███████████▋ | 56/62 [00:08<00:00,  6.29it/s]\u001b[A\n",
      "                                                            \u001b[A\n",
      "Validation:   0%|                    | 0/18 [00:00<?, ?it/s]\u001b[A\n",
      "Validation:  83%|█████████▏ | 15/18 [00:01<00:00, 14.02it/s]\u001b[A\n",
      "Epochs:  21%|███████                           | 62/300 [11:13<43:03, 10.85s/it]"
     ]
    },
    {
     "name": "stdout",
     "output_type": "stream",
     "text": [
      "Epoch 62/300: Train Loss: 1.4271 | Train Acc: 59.47% | Valid Loss: 1.4262 | Valid Acc: 58.93%\n"
     ]
    },
    {
     "name": "stderr",
     "output_type": "stream",
     "text": [
      "\n",
      "Training:   0%|                      | 0/62 [00:00<?, ?it/s]\u001b[A\n",
      "Training:  11%|█▌            | 7/62 [00:01<00:08,  6.49it/s]\u001b[A\n",
      "Training:  23%|██▉          | 14/62 [00:02<00:07,  6.38it/s]\u001b[A\n",
      "Training:  34%|████▍        | 21/62 [00:03<00:06,  6.30it/s]\u001b[A\n",
      "Training:  45%|█████▊       | 28/62 [00:04<00:05,  6.29it/s]\u001b[A\n",
      "Training:  56%|███████▎     | 35/62 [00:05<00:04,  6.32it/s]\u001b[A\n",
      "Training:  68%|████████▊    | 42/62 [00:06<00:03,  6.33it/s]\u001b[A\n",
      "Training:  79%|██████████▎  | 49/62 [00:07<00:02,  6.37it/s]\u001b[A\n",
      "Training:  90%|███████████▋ | 56/62 [00:08<00:00,  6.39it/s]\u001b[A\n",
      "                                                            \u001b[A\n",
      "Validation:   0%|                    | 0/18 [00:00<?, ?it/s]\u001b[A\n",
      "Validation:  78%|████████▌  | 14/18 [00:01<00:00, 13.09it/s]\u001b[A\n",
      "Epochs:  21%|███████▏                          | 63/300 [11:24<42:59, 10.89s/it]"
     ]
    },
    {
     "name": "stdout",
     "output_type": "stream",
     "text": [
      "Epoch 63/300: Train Loss: 1.4227 | Train Acc: 59.84% | Valid Loss: 1.4270 | Valid Acc: 58.52%\n"
     ]
    },
    {
     "name": "stderr",
     "output_type": "stream",
     "text": [
      "\n",
      "Training:   0%|                      | 0/62 [00:00<?, ?it/s]\u001b[A\n",
      "Training:  11%|█▌            | 7/62 [00:01<00:08,  6.37it/s]\u001b[A\n",
      "Training:  23%|██▉          | 14/62 [00:02<00:07,  6.42it/s]\u001b[A\n",
      "Training:  34%|████▍        | 21/62 [00:03<00:06,  6.43it/s]\u001b[A\n",
      "Training:  45%|█████▊       | 28/62 [00:04<00:05,  6.43it/s]\u001b[A\n",
      "Training:  56%|███████▎     | 35/62 [00:05<00:04,  6.39it/s]\u001b[A\n",
      "Training:  68%|████████▊    | 42/62 [00:06<00:03,  5.94it/s]\u001b[A\n",
      "Training:  79%|██████████▎  | 49/62 [00:07<00:02,  6.09it/s]\u001b[A\n",
      "Training:  90%|███████████▋ | 56/62 [00:08<00:00,  6.21it/s]\u001b[A\n",
      "                                                            \u001b[A\n",
      "Validation:   0%|                    | 0/18 [00:00<?, ?it/s]\u001b[A\n",
      "Validation:  78%|████████▌  | 14/18 [00:01<00:00, 13.76it/s]\u001b[A\n",
      "Epochs:  21%|███████▎                          | 64/300 [11:35<43:07, 10.96s/it]"
     ]
    },
    {
     "name": "stdout",
     "output_type": "stream",
     "text": [
      "Epoch 64/300: Train Loss: 1.4213 | Train Acc: 59.77% | Valid Loss: 1.4327 | Valid Acc: 58.19%\n"
     ]
    },
    {
     "name": "stderr",
     "output_type": "stream",
     "text": [
      "\n",
      "Training:   0%|                      | 0/62 [00:00<?, ?it/s]\u001b[A\n",
      "Training:  11%|█▌            | 7/62 [00:01<00:08,  6.25it/s]\u001b[A\n",
      "Training:  23%|██▉          | 14/62 [00:02<00:07,  6.33it/s]\u001b[A\n",
      "Training:  34%|████▍        | 21/62 [00:03<00:06,  6.29it/s]\u001b[A\n",
      "Training:  45%|█████▊       | 28/62 [00:04<00:05,  6.29it/s]\u001b[A\n",
      "Training:  56%|███████▎     | 35/62 [00:05<00:04,  6.30it/s]\u001b[A\n",
      "Training:  68%|████████▊    | 42/62 [00:06<00:03,  6.30it/s]\u001b[A\n",
      "Training:  79%|██████████▎  | 49/62 [00:07<00:02,  6.27it/s]\u001b[A\n",
      "Training:  90%|███████████▋ | 56/62 [00:08<00:00,  6.15it/s]\u001b[A\n",
      "                                                            \u001b[A\n",
      "Validation:   0%|                    | 0/18 [00:00<?, ?it/s]\u001b[A\n",
      "Validation:  78%|████████▌  | 14/18 [00:01<00:00, 14.00it/s]\u001b[A\n",
      "Epochs:  21%|███████▎                          | 64/300 [11:46<43:24, 11.04s/it]"
     ]
    },
    {
     "name": "stdout",
     "output_type": "stream",
     "text": [
      "Early stopping at epoch 65\n",
      "\n",
      "Training complete.\n",
      "Best validation accuracy: 58.99%\n"
     ]
    },
    {
     "name": "stderr",
     "output_type": "stream",
     "text": [
      "\n"
     ]
    },
    {
     "data": {
      "image/png": "[encoded data removed]",
      "text/plain": [
       "<Figure size 1200x500 with 2 Axes>"
      ]
     },
     "metadata": {},
     "output_type": "display_data"
    },
    {
     "data": {
      "image/png": "[encoded data removed]",
      "text/plain": [
       "<Figure size 1200x1000 with 2 Axes>"
      ]
     },
     "metadata": {},
     "output_type": "display_data"
    },
    {
     "data": {
      "image/png": "[encoded data removed]",
      "text/plain": [
       "<Figure size 1500x800 with 2 Axes>"
      ]
     },
     "metadata": {},
     "output_type": "display_data"
    }
   ],
   "source": [
    "# --- Loss Function and Optimizer ---\n",
    "criterion = nn.CrossEntropyLoss(label_smoothing=0.2)  # Add label smoothing to reduce overfitting\n",
    "\n",
    "optimizer = optim.AdamW(\n",
    "    model_CNNLSMTIQ.parameters(), \n",
    "    lr=0.0015,  # Higher initial LR\n",
    "    weight_decay=5e-3,\n",
    "    betas=(0.9, 0.999)\n",
    ")\n",
    "\n",
    "# Step scheduler\n",
    "scheduler = optim.lr_scheduler.MultiStepLR(\n",
    "    optimizer, \n",
    "    milestones=[50, 100, 150], \n",
    "    gamma=0.5\n",
    ")\n",
    "\n",
    "scaler = GradScaler()\n",
    "\n",
    "# --- Data Loaders ---\n",
    "print(\"\\nLoading datasets...\")\n",
    "# Load full dataset and split 80% train, 20% validation\n",
    "full_dataset = RadioMLIQDataset('train', use_fft=False)  # Assuming this loads the full dataset\n",
    "dataset_size = len(full_dataset)\n",
    "train_size = int(0.7 * dataset_size)\n",
    "valid_size = dataset_size - train_size\n",
    "\n",
    "# Split dataset randomly\n",
    "train_dataset = RadioMLIQDataset('train', use_fft=False)\n",
    "valid_dataset = RadioMLIQDataset('valid', use_fft=False)  # Use separate valid split\n",
    "\n",
    "train_loader = DataLoader(\n",
    "    train_dataset, \n",
    "    batch_size=BATCH_SIZE, \n",
    "    shuffle=True, \n",
    "    pin_memory=True,\n",
    "    num_workers=0,          # FIXED: Set to 0 for HDF5 compatibility\n",
    "    persistent_workers=False # FIXED: Must be False when num_workers=0\n",
    ")\n",
    "\n",
    "valid_loader = DataLoader(\n",
    "    valid_dataset, \n",
    "    batch_size=BATCH_SIZE, \n",
    "    shuffle=False, \n",
    "    pin_memory=True,\n",
    "    num_workers=0,          # FIXED: Set to 0 for HDF5 compatibility\n",
    "    persistent_workers=False # FIXED: Must be False when num_workers=0\n",
    ")\n",
    "print(\"Datasets loaded successfully.\")\n",
    "print(f\"Total dataset size: {dataset_size}\")\n",
    "print(f\"Train dataset size: {len(train_dataset)} (80%)\")\n",
    "print(f\"Validation dataset size: {len(valid_dataset)} (20%)\")\n",
    "\n",
    "# --- Training and Validation Loop ---\n",
    "train_losses = []\n",
    "valid_losses = []\n",
    "train_accuracies = []  # Store training accuracies\n",
    "valid_accuracies = []\n",
    "best_accuracy = 0.0\n",
    "patience_counter = 0\n",
    "patience = 10\n",
    "BEST_MODEL_PATH = 'best_cnn_lstm_model_IQ.pth'\n",
    "\n",
    "# Store final predictions/labels for confusion matrix\n",
    "final_predictions = []\n",
    "final_true_labels = []\n",
    "\n",
    "print(\"\\nStarting training...\")\n",
    "for epoch in tqdm(range(NUM_EPOCHS), desc=\"Epochs\", ncols=80):\n",
    "    model_CNNLSMTIQ.train()\n",
    "    running_loss = 0.0\n",
    "    correct_train = 0\n",
    "    total_train = 0\n",
    "\n",
    "    # Cleaner progress bar - updates less frequently, no loss display per batch\n",
    "    for i_inputs, q_inputs, labels, _ in tqdm(train_loader, desc=f\"Training\", leave=False, ncols=60, mininterval=1.0):\n",
    "        i_inputs, q_inputs = i_inputs.to(device), q_inputs.to(device)\n",
    "        labels = labels.to(device)\n",
    "\n",
    "        optimizer.zero_grad()\n",
    "        \n",
    "        with autocast():\n",
    "            outputs = model_CNNLSMTIQ(i_inputs, q_inputs)\n",
    "            loss = criterion(outputs, labels)\n",
    "\n",
    "        scaler.scale(loss).backward()\n",
    "        scaler.step(optimizer)\n",
    "        scaler.update()\n",
    "\n",
    "        running_loss += loss.item() * i_inputs.size(0)\n",
    "        _, predicted = torch.max(outputs, 1)\n",
    "        total_train += labels.size(0)\n",
    "        correct_train += (predicted == labels).sum().item()\n",
    "\n",
    "    epoch_train_loss = running_loss / len(train_dataset)\n",
    "    epoch_train_accuracy = 100. * correct_train / total_train\n",
    "    train_losses.append(epoch_train_loss)\n",
    "    train_accuracies.append(epoch_train_accuracy)\n",
    "\n",
    "    # --- Validation Phase ---\n",
    "    model_CNNLSMTIQ.eval()\n",
    "    validation_loss = 0.0\n",
    "    correct_valid = 0\n",
    "    total_valid = 0\n",
    "    epoch_predictions = []\n",
    "    epoch_true_labels = []\n",
    "\n",
    "    with torch.no_grad():\n",
    "        for i_inputs, q_inputs, labels, _ in tqdm(valid_loader, desc=f\"Validation\", leave=False, ncols=60, mininterval=1.0):\n",
    "            i_inputs, q_inputs = i_inputs.to(device), q_inputs.to(device)\n",
    "            labels = labels.to(device)\n",
    "\n",
    "            outputs = model_CNNLSMTIQ(i_inputs, q_inputs)\n",
    "            loss = criterion(outputs, labels)\n",
    "\n",
    "            validation_loss += loss.item() * i_inputs.size(0)\n",
    "            _, predicted = torch.max(outputs, 1)\n",
    "            total_valid += labels.size(0)\n",
    "            correct_valid += (predicted == labels).sum().item()\n",
    "            \n",
    "            epoch_predictions.extend(predicted.cpu().numpy())\n",
    "            epoch_true_labels.extend(labels.cpu().numpy())\n",
    "\n",
    "    epoch_valid_loss = validation_loss / len(valid_dataset)\n",
    "    epoch_valid_accuracy = 100. * correct_valid / total_valid\n",
    "    valid_losses.append(epoch_valid_loss)\n",
    "    valid_accuracies.append(epoch_valid_accuracy)\n",
    "    \n",
    "    scheduler.step(epoch_valid_accuracy)\n",
    "    \n",
    "    # Check for best accuracy and save model\n",
    "    if epoch_valid_accuracy > best_accuracy:\n",
    "        best_accuracy = epoch_valid_accuracy\n",
    "        patience_counter = 0\n",
    "        final_predictions = epoch_predictions\n",
    "        final_true_labels = epoch_true_labels\n",
    "        torch.save(model_CNNLSMTIQ.state_dict(), BEST_MODEL_PATH)\n",
    "    else:\n",
    "        patience_counter += 1\n",
    "        if patience_counter >= patience:\n",
    "            print(f\"Early stopping at epoch {epoch+1}\")\n",
    "            break\n",
    "\n",
    "    print(f\"Epoch {epoch+1}/{NUM_EPOCHS}: \"\n",
    "          f\"Train Loss: {epoch_train_loss:.4f} | \"\n",
    "          f\"Train Acc: {epoch_train_accuracy:.2f}% | \"\n",
    "          f\"Valid Loss: {epoch_valid_loss:.4f} | \"\n",
    "          f\"Valid Acc: {epoch_valid_accuracy:.2f}%\")\n",
    "\n",
    "print(\"\\nTraining complete.\")\n",
    "print(f\"Best validation accuracy: {best_accuracy:.2f}%\")\n",
    "\n",
    "# --- Plot Training Curves ---\n",
    "plt.figure(figsize=(12, 5))\n",
    "\n",
    "# Loss plot\n",
    "plt.subplot(1, 2, 1)\n",
    "plt.plot(train_losses, label='Train Loss')\n",
    "plt.plot(valid_losses, label='Validation Loss')\n",
    "plt.xlabel('Epoch')\n",
    "plt.ylabel('Loss')\n",
    "plt.legend()\n",
    "plt.grid(True)\n",
    "\n",
    "# Accuracy plot\n",
    "plt.subplot(1, 2, 2)\n",
    "plt.plot(train_accuracies, label='Train Accuracy')\n",
    "plt.plot(valid_accuracies, label='Validation Accuracy')\n",
    "plt.xlabel('Epoch')\n",
    "plt.ylabel('Accuracy (%)')\n",
    "plt.legend()\n",
    "plt.grid(True)\n",
    "\n",
    "plt.tight_layout()\n",
    "plt.savefig('training_curves_CNN_LSTM.png')\n",
    "plt.show()\n",
    "\n",
    "# --- Confusion Matrix for Best Epoch (Run in separate cell) ---\n",
    "# Generate confusion matrix\n",
    "cm = confusion_matrix(final_true_labels, final_predictions)\n",
    "accuracy = 100. * np.diag(cm).sum() / cm.sum()\n",
    "\n",
    "plt.figure(figsize=(12, 10))\n",
    "sns.heatmap(cm, annot=True, fmt='d', cmap='Blues', \n",
    "            xticklabels=TARGET_MODULATIONS, \n",
    "            yticklabels=TARGET_MODULATIONS)\n",
    "\n",
    "plt.xlabel('Predicted Label')\n",
    "plt.ylabel('True Label')\n",
    "plt.title(f'Confusion Matrix I signal and Q signal with CNN+ LSTM(Best Epoch | Overall Accuracy: {accuracy:.2f}%)')\n",
    "plt.xticks(rotation=45)\n",
    "plt.yticks(rotation=0)\n",
    "plt.tight_layout()\n",
    "plt.savefig('best_confusion_matrix_CNN_LSTM.png')\n",
    "plt.show()\n",
    "\n",
    "# --- Per-Modulation Accuracy Heatmap ---\n",
    "def plot_modulation_snr_accuracy_heatmap(model, dataloader, device, target_modulations):\n",
    "    model.eval()\n",
    "    all_predictions = []\n",
    "    all_true_labels = []\n",
    "    all_snrs = []\n",
    "    \n",
    "    with torch.no_grad():\n",
    "        for i_inputs, q_inputs, labels, snrs in dataloader:\n",
    "            i_inputs, q_inputs = i_inputs.to(device), q_inputs.to(device)\n",
    "            labels = labels.to(device)\n",
    "            \n",
    "            outputs = model(i_inputs, q_inputs)\n",
    "            _, predicted = torch.max(outputs, 1)\n",
    "            \n",
    "            all_predictions.extend(predicted.cpu().numpy())\n",
    "            all_true_labels.extend(labels.cpu().numpy())\n",
    "            all_snrs.extend(snrs.numpy())\n",
    "    \n",
    "    predictions_df = pd.DataFrame({\n",
    "        'true_label': all_true_labels,\n",
    "        'predicted_label': all_predictions,\n",
    "        'snr': all_snrs\n",
    "    })\n",
    "    \n",
    "    unique_snrs = sorted(predictions_df['snr'].unique())\n",
    "    accuracy_matrix = np.zeros((len(target_modulations), len(unique_snrs)))\n",
    "    \n",
    "    for i, mod in enumerate(target_modulations):\n",
    "        for j, snr in enumerate(unique_snrs):\n",
    "            subset = predictions_df[(predictions_df['true_label'] == i) & (predictions_df['snr'] == snr)]\n",
    "            if len(subset) > 0:\n",
    "                accuracy = (subset['true_label'] == subset['predicted_label']).mean()\n",
    "                accuracy_matrix[i, j] = accuracy * 100\n",
    "    \n",
    "    plt.figure(figsize=(15, 8))\n",
    "    sns.heatmap(accuracy_matrix, \n",
    "                xticklabels=[f'{snr}dB' for snr in unique_snrs],\n",
    "                yticklabels=target_modulations,\n",
    "                annot=True, \n",
    "                fmt='.1f', \n",
    "                cmap='RdYlGn',\n",
    "                vmin=0, \n",
    "                vmax=100,\n",
    "                cbar_kws={'label': 'Accuracy (%)'})\n",
    "    \n",
    "    plt.title('CNN+ LSTM Modulation Classification Accuracy by SNR Level')\n",
    "    plt.xlabel('SNR Level')\n",
    "    plt.ylabel('Modulation Type')\n",
    "    plt.xticks(rotation=45)\n",
    "    plt.yticks(rotation=0)\n",
    "    plt.tight_layout()\n",
    "    plt.savefig('modulation_snr_accuracy_heatmap_CNN_LSTM.png')\n",
    "    plt.show()\n",
    "\n",
    "plot_modulation_snr_accuracy_heatmap(model_CNNLSMTIQ, valid_loader, device, TARGET_MODULATIONS)"
   ]
  },
  {
   "cell_type": "code",
   "execution_count": null,
   "id": "6ab4a7db-5838-4e03-bd52-45584de3a72e",
   "metadata": {},
   "outputs": [],
   "source": []
  },
  {
   "cell_type": "code",
   "execution_count": null,
   "id": "e14f8ef1-5fcb-4683-aac8-b5d191b72777",
   "metadata": {},
   "outputs": [],
   "source": []
  }
 ],
 "metadata": {
  "kernelspec": {
   "display_name": "AMC Environtment",
   "language": "python",
   "name": "amc_env"
  },
  "language_info": {
   "codemirror_mode": {
    "name": "ipython",
    "version": 3
   },
   "file_extension": ".py",
   "mimetype": "text/x-python",
   "name": "python",
   "nbconvert_exporter": "python",
   "pygments_lexer": "ipython3",
   "version": "3.12.9"
  }
 },
 "nbformat": 4,
 "nbformat_minor": 5
}
